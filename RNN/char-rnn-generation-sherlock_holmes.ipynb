{
 "cells": [
  {
   "cell_type": "markdown",
   "metadata": {},
   "source": [
    "![](https://i.imgur.com/eBRPvWB.png)\n",
    "\n",
    "# Practical PyTorch: Generating Shakespeare with a Character-Level RNN\n",
    "\n",
    "[In the RNN classification tutorial](https://github.com/spro/practical-pytorch/blob/master/char-rnn-classification/char-rnn-classification.ipynb) we used a RNN to classify text one character at a time. This time we'll generate text one character at a time.\n",
    "\n",
    "```\n",
    "> python generate.py -n 500\n",
    "\n",
    "PAOLTREDN:\n",
    "Let, yil exter shis owrach we so sain, fleas,\n",
    "Be wast the shall deas, puty sonse my sheete.\n",
    "\n",
    "BAUFIO:\n",
    "Sirh carrow out with the knonuot my comest sifard queences\n",
    "O all a man unterd.\n",
    "\n",
    "PROMENSJO:\n",
    "Ay, I to Heron, I sack, againous; bepear, Butch,\n",
    "An as shalp will of that seal think.\n",
    "\n",
    "NUKINUS:\n",
    "And house it to thee word off hee:\n",
    "And thou charrota the son hange of that shall denthand\n",
    "For the say hor you are of I folles muth me?\n",
    "```\n",
    "\n",
    "This one might make you question the series title &mdash; \"is that really practical?\" However, these sorts of generative models form the basis of machine translation, image captioning, question answering and more. See the [Sequence to Sequence Translation tutorial](https://github.com/spro/practical-pytorch/blob/master/seq2seq-translation/seq2seq-translation.ipynb) for more on that topic."
   ]
  },
  {
   "cell_type": "markdown",
   "metadata": {},
   "source": [
    "# Recommended Reading\n",
    "\n",
    "I assume you have at least installed PyTorch, know Python, and understand Tensors:\n",
    "\n",
    "* http://pytorch.org/ For installation instructions\n",
    "* [Deep Learning with PyTorch: A 60-minute Blitz](https://github.com/pytorch/tutorials/blob/master/Deep%20Learning%20with%20PyTorch.ipynb) to get started with PyTorch in general\n",
    "* [jcjohnson's PyTorch examples](https://github.com/jcjohnson/pytorch-examples) for an in depth overview\n",
    "* [Introduction to PyTorch for former Torchies](https://github.com/pytorch/tutorials/blob/master/Introduction%20to%20PyTorch%20for%20former%20Torchies.ipynb) if you are former Lua Torch user\n",
    "\n",
    "It would also be useful to know about RNNs and how they work:\n",
    "\n",
    "* [The Unreasonable Effectiveness of Recurrent Neural Networks](http://karpathy.github.io/2015/05/21/rnn-effectiveness/) shows a bunch of real life examples\n",
    "* [Understanding LSTM Networks](http://colah.github.io/posts/2015-08-Understanding-LSTMs/) is about LSTMs specifically but also informative about RNNs in general\n",
    "\n",
    "Also see these related tutorials from the series:\n",
    "\n",
    "* [Classifying Names with a Character-Level RNN](https://github.com/spro/practical-pytorch/blob/master/char-rnn-classification/char-rnn-classification.ipynb) uses an RNN for classification\n",
    "* [Generating Names with a Conditional Character-Level RNN](https://github.com/spro/practical-pytorch/blob/master/conditional-char-rnn/conditional-char-rnn.ipynb) builds on this model to add a category as input"
   ]
  },
  {
   "cell_type": "markdown",
   "metadata": {},
   "source": [
    "# Prepare data\n",
    "\n",
    "The file we are using is a plain text file. We turn any potential unicode characters into plain ASCII by using the `unidecode` package (which you can install via `pip` or `conda`)."
   ]
  },
  {
   "cell_type": "code",
   "execution_count": 28,
   "metadata": {},
   "outputs": [
    {
     "name": "stdout",
     "output_type": "stream",
     "text": [
      "100\n",
      "0123456789abcdefghijklmnopqrstuvwxyzABCDEFGHIJKLMNOPQRSTUVWXYZ!\"#$%&'()*+,-./:;<=>?@[\\]^_`{|}~ \t\n",
      "\u000b",
      "\f",
      "\n",
      "file_len = 2046803\n"
     ]
    }
   ],
   "source": [
    "import unidecode\n",
    "import string\n",
    "import random\n",
    "import re\n",
    "\n",
    "all_characters = string.printable\n",
    "n_characters = len(all_characters)\n",
    "print(n_characters)\n",
    "print(all_characters)\n",
    "file = unidecode.unidecode(open('sherlock_holmes_all.txt').read())  #unicode to ascii\n",
    "file_len = len(file)\n",
    "print('file_len =', file_len)  #basically nuumber of characters\n",
    "#print(file) #print whole file"
   ]
  },
  {
   "cell_type": "markdown",
   "metadata": {},
   "source": [
    "To make inputs out of this big string of data, we will be splitting it into chunks."
   ]
  },
  {
   "cell_type": "code",
   "execution_count": 30,
   "metadata": {},
   "outputs": [
    {
     "name": "stdout",
     "output_type": "stream",
     "text": [
      "h what had gone before.  It was not easy to\n",
      " pick one's steps, but, on the whole, I was inclined to dismiss the\n",
      " idea that there had been anything between the Colonel and Miss\n",
      " Morrison, but more than ever convinced that the young lady held the\n",
      " clue as to what it was which had turned Mrs. Barclay to hatred of her\n",
      " husband.  I took the obvious course, therefore, of calling upon Miss\n",
      " M., of explaining to her that I was perfectly certain that she held\n",
      " the facts in her possession, and of assuring \n"
     ]
    }
   ],
   "source": [
    "chunk_len = 500\n",
    "\n",
    "def random_chunk():\n",
    "    start_index = random.randint(0, file_len - chunk_len)  #start index\n",
    "    end_index = start_index + chunk_len + 1\n",
    "    return file[start_index:end_index]\n",
    "\n",
    "print(random_chunk())  #give a 200 length sentence randomly each time"
   ]
  },
  {
   "cell_type": "markdown",
   "metadata": {},
   "source": [
    "# Build the Model\n",
    "\n",
    "This model will take as input the character for step $t_{-1}$ and is expected to output the next character $t$. There are three layers - one linear layer that encodes the input character into an internal state, one GRU layer (which may itself have multiple layers) that operates on that internal state and a hidden state, and a decoder layer that outputs the probability distribution."
   ]
  },
  {
   "cell_type": "code",
   "execution_count": 31,
   "metadata": {},
   "outputs": [],
   "source": [
    "import torch\n",
    "import torch.nn as nn\n",
    "from torch.autograd import Variable\n",
    "\n",
    "class RNN(nn.Module):\n",
    "    def __init__(self, input_size, hidden_size, output_size, n_layers=1):\n",
    "        super(RNN, self).__init__()\n",
    "        self.input_size = input_size\n",
    "        self.hidden_size = hidden_size\n",
    "        self.output_size = output_size\n",
    "        self.n_layers = n_layers\n",
    "        \n",
    "        self.encoder = nn.Embedding(input_size, hidden_size)\n",
    "        self.gru = nn.GRU(hidden_size, hidden_size, n_layers)\n",
    "        self.decoder = nn.Linear(hidden_size, output_size)\n",
    "    \n",
    "    def forward(self, input, hidden):\n",
    "        input = self.encoder(input.view(1, -1))\n",
    "        output, hidden = self.gru(input.view(1, 1, -1), hidden)\n",
    "        output = self.decoder(output.view(1, -1))\n",
    "        return output, hidden\n",
    "\n",
    "    def init_hidden(self):\n",
    "        return Variable(torch.zeros(self.n_layers, 1, self.hidden_size))"
   ]
  },
  {
   "cell_type": "markdown",
   "metadata": {},
   "source": [
    "# Inputs and Targets"
   ]
  },
  {
   "cell_type": "markdown",
   "metadata": {},
   "source": [
    "Each chunk will be turned into a tensor, specifically a `LongTensor` (used for integer values), by looping through the characters of the string and looking up the index of each character in `all_characters`."
   ]
  },
  {
   "cell_type": "code",
   "execution_count": 32,
   "metadata": {},
   "outputs": [
    {
     "name": "stdout",
     "output_type": "stream",
     "text": [
      "tensor([ 10,  11,  12,  39,  40,  41])\n"
     ]
    }
   ],
   "source": [
    "# Turn string into list of longs\n",
    "def char_tensor(string):\n",
    "    tensor = torch.zeros(len(string)).long()\n",
    "    for c in range(len(string)):\n",
    "        tensor[c] = all_characters.index(string[c])\n",
    "    return Variable(tensor)\n",
    "\n",
    "print(char_tensor('abcDEF'))"
   ]
  },
  {
   "cell_type": "markdown",
   "metadata": {},
   "source": [
    "Finally we can assemble a pair of input and target tensors for training, from a random chunk. The input will be all characters *up to the last*, and the target will be all characters *from the first*. So if our chunk is \"abc\" the input will correspond to \"ab\" while the target is \"bc\"."
   ]
  },
  {
   "cell_type": "code",
   "execution_count": 33,
   "metadata": {},
   "outputs": [
    {
     "data": {
      "text/plain": [
       "(tensor([ 24,  24,  20,  29,  17,  18,  27,  28,  29,  34,  94,  13,\n",
       "          24,  18,  23,  16,  28,  73,  94,  10,  23,  13,  94,  32,\n",
       "          14,  96,  94,  28,  10,  32,  94,  29,  17,  10,  29,  94,\n",
       "          29,  17,  14,  27,  14,  94,  32,  24,  30,  21,  13,  94,\n",
       "          11,  14,  94,  32,  24,  27,  28,  14,  94,  11,  14,  15,\n",
       "          24,  27,  14,  94,  18,  29,  94,  32,  10,  28,  94,  13,\n",
       "          24,  23,  14,  75,  94,  58,  14,  94,  32,  14,  27,  14,\n",
       "          94,  16,  18,  31,  14,  23,  94,  10,  96,  94,  28,  30,\n",
       "          18,  29,  94,  24,  15,  94,  28,  10,  18,  21,  24,  27,\n",
       "          94,  29,  24,  16,  28,  94,  14,  10,  12,  17,  73,  94,\n",
       "          10,  94,  11,  10,  27,  27,  14,  21,  94,  24,  15,  94,\n",
       "          32,  10,  29,  14,  27,  73,  94,  29,  32,  24,  94,  12,\n",
       "          10,  28,  20,  28,  73,  94,  24,  23,  14,  94,  24,  15,\n",
       "          94,  19,  30,  23,  20,  96,  94,  10,  23,  13,  94,  24,\n",
       "          23,  14,  94,  24,  15,  94,  11,  18,  28,  12,  30,  18,\n",
       "          29,  28,  73,  94,  10,  23,  13,  94,  10,  94,  12,  24,\n",
       "          22,  25,  10,  28,  28,  75,  94,  51,  27,  14,  23,  13,\n",
       "          14,  27,  16,  10,  28,  29,  94,  29,  17,  27,  14,  32,\n",
       "          94,  30,  28,  94,  24,  31,  14,  27,  94,  10,  96,  94,\n",
       "          12,  17,  10,  27,  29,  73,  94,  29,  24,  21,  13,  94,\n",
       "          30,  28,  94,  29,  17,  10,  29,  94,  32,  14,  94,  32,\n",
       "          14,  27,  14,  94,  28,  17,  18,  25,  32,  27,  14,  12,\n",
       "          20,  14,  13,  94,  22,  10,  27,  18,  23,  14,  27,  28,\n",
       "          94,  32,  17,  24,  28,  14,  94,  28,  17,  18,  25,  94,\n",
       "          17,  10,  13,  96,  94,  15,  24,  30,  23,  13,  14,  27,\n",
       "          14,  13,  94,  18,  23,  94,  47,  10,  29,  75,  94,   1,\n",
       "           5,  36,  73,  36,  13,  14,  16,  94,  10,  23,  13,  94,\n",
       "          47,  24,  23,  16,  75,  94,   2,   5,  36,  73,  36,  13,\n",
       "          14,  16,  94,  32,  14,  28,  29,  73,  94,  10,  23,  13,\n",
       "          94,  29,  17,  14,  23,  94,  12,  30,  29,  94,  29,  17,\n",
       "          14,  94,  25,  10,  18,  23,  29,  14,  27,  96,  94,  10,\n",
       "          23,  13,  94,  21,  14,  29,  94,  30,  28,  94,  16,  24,\n",
       "          75,  96,  96,  94,  63,  68,  36,  23,  13,  94,  23,  24,\n",
       "          32,  94,  44,  94,  12,  24,  22,  14,  94,  29,  24,  94,\n",
       "          29,  17,  14,  94,  22,  24,  28,  29,  94,  28,  30,  27,\n",
       "          25,  27,  18,  28,  18,  23,  16,  94,  25,  10,  27,  29,\n",
       "          94,  24,  15,  94,  22,  34,  94,  28,  29,  24,  27,  34,\n",
       "          73,  94,  22,  34,  94,  13,  14,  10,  27,  96,  94,  28,\n",
       "          24,  23,  75,  94,  55,  17,  14,  94,  28,  14,  10,  22,\n",
       "          14,  23,  94,  17,  10,  13,  94,  17,  10,  30,  21,  14,\n",
       "          13,  94,  29,  17,  14,  94,  15,  24,  27,  14,  74,  34,\n",
       "          10,  27,  13,  94,  10,  11,  10,  12]),\n",
       " tensor([ 24,  20,  29,  17,  18,  27,  28,  29,  34,  94,  13,  24,\n",
       "          18,  23,  16,  28,  73,  94,  10,  23,  13,  94,  32,  14,\n",
       "          96,  94,  28,  10,  32,  94,  29,  17,  10,  29,  94,  29,\n",
       "          17,  14,  27,  14,  94,  32,  24,  30,  21,  13,  94,  11,\n",
       "          14,  94,  32,  24,  27,  28,  14,  94,  11,  14,  15,  24,\n",
       "          27,  14,  94,  18,  29,  94,  32,  10,  28,  94,  13,  24,\n",
       "          23,  14,  75,  94,  58,  14,  94,  32,  14,  27,  14,  94,\n",
       "          16,  18,  31,  14,  23,  94,  10,  96,  94,  28,  30,  18,\n",
       "          29,  94,  24,  15,  94,  28,  10,  18,  21,  24,  27,  94,\n",
       "          29,  24,  16,  28,  94,  14,  10,  12,  17,  73,  94,  10,\n",
       "          94,  11,  10,  27,  27,  14,  21,  94,  24,  15,  94,  32,\n",
       "          10,  29,  14,  27,  73,  94,  29,  32,  24,  94,  12,  10,\n",
       "          28,  20,  28,  73,  94,  24,  23,  14,  94,  24,  15,  94,\n",
       "          19,  30,  23,  20,  96,  94,  10,  23,  13,  94,  24,  23,\n",
       "          14,  94,  24,  15,  94,  11,  18,  28,  12,  30,  18,  29,\n",
       "          28,  73,  94,  10,  23,  13,  94,  10,  94,  12,  24,  22,\n",
       "          25,  10,  28,  28,  75,  94,  51,  27,  14,  23,  13,  14,\n",
       "          27,  16,  10,  28,  29,  94,  29,  17,  27,  14,  32,  94,\n",
       "          30,  28,  94,  24,  31,  14,  27,  94,  10,  96,  94,  12,\n",
       "          17,  10,  27,  29,  73,  94,  29,  24,  21,  13,  94,  30,\n",
       "          28,  94,  29,  17,  10,  29,  94,  32,  14,  94,  32,  14,\n",
       "          27,  14,  94,  28,  17,  18,  25,  32,  27,  14,  12,  20,\n",
       "          14,  13,  94,  22,  10,  27,  18,  23,  14,  27,  28,  94,\n",
       "          32,  17,  24,  28,  14,  94,  28,  17,  18,  25,  94,  17,\n",
       "          10,  13,  96,  94,  15,  24,  30,  23,  13,  14,  27,  14,\n",
       "          13,  94,  18,  23,  94,  47,  10,  29,  75,  94,   1,   5,\n",
       "          36,  73,  36,  13,  14,  16,  94,  10,  23,  13,  94,  47,\n",
       "          24,  23,  16,  75,  94,   2,   5,  36,  73,  36,  13,  14,\n",
       "          16,  94,  32,  14,  28,  29,  73,  94,  10,  23,  13,  94,\n",
       "          29,  17,  14,  23,  94,  12,  30,  29,  94,  29,  17,  14,\n",
       "          94,  25,  10,  18,  23,  29,  14,  27,  96,  94,  10,  23,\n",
       "          13,  94,  21,  14,  29,  94,  30,  28,  94,  16,  24,  75,\n",
       "          96,  96,  94,  63,  68,  36,  23,  13,  94,  23,  24,  32,\n",
       "          94,  44,  94,  12,  24,  22,  14,  94,  29,  24,  94,  29,\n",
       "          17,  14,  94,  22,  24,  28,  29,  94,  28,  30,  27,  25,\n",
       "          27,  18,  28,  18,  23,  16,  94,  25,  10,  27,  29,  94,\n",
       "          24,  15,  94,  22,  34,  94,  28,  29,  24,  27,  34,  73,\n",
       "          94,  22,  34,  94,  13,  14,  10,  27,  96,  94,  28,  24,\n",
       "          23,  75,  94,  55,  17,  14,  94,  28,  14,  10,  22,  14,\n",
       "          23,  94,  17,  10,  13,  94,  17,  10,  30,  21,  14,  13,\n",
       "          94,  29,  17,  14,  94,  15,  24,  27,  14,  74,  34,  10,\n",
       "          27,  13,  94,  10,  11,  10,  12,  20]))"
      ]
     },
     "execution_count": 33,
     "metadata": {},
     "output_type": "execute_result"
    }
   ],
   "source": [
    "def random_training_set():    \n",
    "    chunk = random_chunk()\n",
    "    inp = char_tensor(chunk[:-1])\n",
    "    target = char_tensor(chunk[1:])\n",
    "   # target=torch.LongTensor([target])\n",
    "    return inp, target\n",
    "\n",
    "random_training_set()"
   ]
  },
  {
   "cell_type": "code",
   "execution_count": 34,
   "metadata": {},
   "outputs": [
    {
     "data": {
      "text/plain": [
       "(('ou two will take the\\n first hansom, Watson and I will follow in the second.\"\\n\\n Sherlock Holmes was not very communicative during the long drive and\\n lay back in the cab humming the tunes which he had heard in the\\n afternoon. We rattled through an endless labyrinth of gas-lit streets\\n until we emerged into Farrington Street.\\n\\n \"We are close there now,\" my friend remarked. \"This fellow\\n Merryweather is a bank director, and personally interested in the\\n matter. I thought it as well to have Jones wi',\n",
       "  tensor([ 24,  30,  94,  29,  32,  24,  94,  32,  18,  21,  21,  94,\n",
       "           29,  10,  20,  14,  94,  29,  17,  14,  96,  94,  15,  18,\n",
       "           27,  28,  29,  94,  17,  10,  23,  28,  24,  22,  73,  94,\n",
       "           58,  10,  29,  28,  24,  23,  94,  10,  23,  13,  94,  44,\n",
       "           94,  32,  18,  21,  21,  94,  15,  24,  21,  21,  24,  32,\n",
       "           94,  18,  23,  94,  29,  17,  14,  94,  28,  14,  12,  24,\n",
       "           23,  13,  75,  63,  96,  96,  94,  54,  17,  14,  27,  21,\n",
       "           24,  12,  20,  94,  43,  24,  21,  22,  14,  28,  94,  32,\n",
       "           10,  28,  94,  23,  24,  29,  94,  31,  14,  27,  34,  94,\n",
       "           12,  24,  22,  22,  30,  23,  18,  12,  10,  29,  18,  31,\n",
       "           14,  94,  13,  30,  27,  18,  23,  16,  94,  29,  17,  14,\n",
       "           94,  21,  24,  23,  16,  94,  13,  27,  18,  31,  14,  94,\n",
       "           10,  23,  13,  96,  94,  21,  10,  34,  94,  11,  10,  12,\n",
       "           20,  94,  18,  23,  94,  29,  17,  14,  94,  12,  10,  11,\n",
       "           94,  17,  30,  22,  22,  18,  23,  16,  94,  29,  17,  14,\n",
       "           94,  29,  30,  23,  14,  28,  94,  32,  17,  18,  12,  17,\n",
       "           94,  17,  14,  94,  17,  10,  13,  94,  17,  14,  10,  27,\n",
       "           13,  94,  18,  23,  94,  29,  17,  14,  96,  94,  10,  15,\n",
       "           29,  14,  27,  23,  24,  24,  23,  75,  94,  58,  14,  94,\n",
       "           27,  10,  29,  29,  21,  14,  13,  94,  29,  17,  27,  24,\n",
       "           30,  16,  17,  94,  10,  23,  94,  14,  23,  13,  21,  14,\n",
       "           28,  28,  94,  21,  10,  11,  34,  27,  18,  23,  29,  17,\n",
       "           94,  24,  15,  94,  16,  10,  28,  74,  21,  18,  29,  94,\n",
       "           28,  29,  27,  14,  14,  29,  28,  96,  94,  30,  23,  29,\n",
       "           18,  21,  94,  32,  14,  94,  14,  22,  14,  27,  16,  14,\n",
       "           13,  94,  18,  23,  29,  24,  94,  41,  10,  27,  27,  18,\n",
       "           23,  16,  29,  24,  23,  94,  54,  29,  27,  14,  14,  29,\n",
       "           75,  96,  96,  94,  63,  58,  14,  94,  10,  27,  14,  94,\n",
       "           12,  21,  24,  28,  14,  94,  29,  17,  14,  27,  14,  94,\n",
       "           23,  24,  32,  73,  63,  94,  22,  34,  94,  15,  27,  18,\n",
       "           14,  23,  13,  94,  27,  14,  22,  10,  27,  20,  14,  13,\n",
       "           75,  94,  63,  55,  17,  18,  28,  94,  15,  14,  21,  21,\n",
       "           24,  32,  96,  94,  48,  14,  27,  27,  34,  32,  14,  10,\n",
       "           29,  17,  14,  27,  94,  18,  28,  94,  10,  94,  11,  10,\n",
       "           23,  20,  94,  13,  18,  27,  14,  12,  29,  24,  27,  73,\n",
       "           94,  10,  23,  13,  94,  25,  14,  27,  28,  24,  23,  10,\n",
       "           21,  21,  34,  94,  18,  23,  29,  14,  27,  14,  28,  29,\n",
       "           14,  13,  94,  18,  23,  94,  29,  17,  14,  96,  94,  22,\n",
       "           10,  29,  29,  14,  27,  75,  94,  44,  94,  29,  17,  24,\n",
       "           30,  16,  17,  29,  94,  18,  29,  94,  10,  28,  94,  32,\n",
       "           14,  21,  21,  94,  29,  24,  94,  17,  10,  31,  14,  94,\n",
       "           45,  24,  23,  14,  28,  94,  32,  18])),\n",
       " ('u two will take the\\n first hansom, Watson and I will follow in the second.\"\\n\\n Sherlock Holmes was not very communicative during the long drive and\\n lay back in the cab humming the tunes which he had heard in the\\n afternoon. We rattled through an endless labyrinth of gas-lit streets\\n until we emerged into Farrington Street.\\n\\n \"We are close there now,\" my friend remarked. \"This fellow\\n Merryweather is a bank director, and personally interested in the\\n matter. I thought it as well to have Jones wit',\n",
       "  tensor([ 30,  94,  29,  32,  24,  94,  32,  18,  21,  21,  94,  29,\n",
       "           10,  20,  14,  94,  29,  17,  14,  96,  94,  15,  18,  27,\n",
       "           28,  29,  94,  17,  10,  23,  28,  24,  22,  73,  94,  58,\n",
       "           10,  29,  28,  24,  23,  94,  10,  23,  13,  94,  44,  94,\n",
       "           32,  18,  21,  21,  94,  15,  24,  21,  21,  24,  32,  94,\n",
       "           18,  23,  94,  29,  17,  14,  94,  28,  14,  12,  24,  23,\n",
       "           13,  75,  63,  96,  96,  94,  54,  17,  14,  27,  21,  24,\n",
       "           12,  20,  94,  43,  24,  21,  22,  14,  28,  94,  32,  10,\n",
       "           28,  94,  23,  24,  29,  94,  31,  14,  27,  34,  94,  12,\n",
       "           24,  22,  22,  30,  23,  18,  12,  10,  29,  18,  31,  14,\n",
       "           94,  13,  30,  27,  18,  23,  16,  94,  29,  17,  14,  94,\n",
       "           21,  24,  23,  16,  94,  13,  27,  18,  31,  14,  94,  10,\n",
       "           23,  13,  96,  94,  21,  10,  34,  94,  11,  10,  12,  20,\n",
       "           94,  18,  23,  94,  29,  17,  14,  94,  12,  10,  11,  94,\n",
       "           17,  30,  22,  22,  18,  23,  16,  94,  29,  17,  14,  94,\n",
       "           29,  30,  23,  14,  28,  94,  32,  17,  18,  12,  17,  94,\n",
       "           17,  14,  94,  17,  10,  13,  94,  17,  14,  10,  27,  13,\n",
       "           94,  18,  23,  94,  29,  17,  14,  96,  94,  10,  15,  29,\n",
       "           14,  27,  23,  24,  24,  23,  75,  94,  58,  14,  94,  27,\n",
       "           10,  29,  29,  21,  14,  13,  94,  29,  17,  27,  24,  30,\n",
       "           16,  17,  94,  10,  23,  94,  14,  23,  13,  21,  14,  28,\n",
       "           28,  94,  21,  10,  11,  34,  27,  18,  23,  29,  17,  94,\n",
       "           24,  15,  94,  16,  10,  28,  74,  21,  18,  29,  94,  28,\n",
       "           29,  27,  14,  14,  29,  28,  96,  94,  30,  23,  29,  18,\n",
       "           21,  94,  32,  14,  94,  14,  22,  14,  27,  16,  14,  13,\n",
       "           94,  18,  23,  29,  24,  94,  41,  10,  27,  27,  18,  23,\n",
       "           16,  29,  24,  23,  94,  54,  29,  27,  14,  14,  29,  75,\n",
       "           96,  96,  94,  63,  58,  14,  94,  10,  27,  14,  94,  12,\n",
       "           21,  24,  28,  14,  94,  29,  17,  14,  27,  14,  94,  23,\n",
       "           24,  32,  73,  63,  94,  22,  34,  94,  15,  27,  18,  14,\n",
       "           23,  13,  94,  27,  14,  22,  10,  27,  20,  14,  13,  75,\n",
       "           94,  63,  55,  17,  18,  28,  94,  15,  14,  21,  21,  24,\n",
       "           32,  96,  94,  48,  14,  27,  27,  34,  32,  14,  10,  29,\n",
       "           17,  14,  27,  94,  18,  28,  94,  10,  94,  11,  10,  23,\n",
       "           20,  94,  13,  18,  27,  14,  12,  29,  24,  27,  73,  94,\n",
       "           10,  23,  13,  94,  25,  14,  27,  28,  24,  23,  10,  21,\n",
       "           21,  34,  94,  18,  23,  29,  14,  27,  14,  28,  29,  14,\n",
       "           13,  94,  18,  23,  94,  29,  17,  14,  96,  94,  22,  10,\n",
       "           29,  29,  14,  27,  75,  94,  44,  94,  29,  17,  24,  30,\n",
       "           16,  17,  29,  94,  18,  29,  94,  10,  28,  94,  32,  14,\n",
       "           21,  21,  94,  29,  24,  94,  17,  10,  31,  14,  94,  45,\n",
       "           24,  23,  14,  28,  94,  32,  18,  29])))"
      ]
     },
     "execution_count": 34,
     "metadata": {},
     "output_type": "execute_result"
    }
   ],
   "source": [
    "def random_training_set_():    \n",
    "    chunk = random_chunk()\n",
    "    inp = char_tensor_(chunk[:-1])\n",
    "    target = char_tensor_(chunk[1:])\n",
    "    #target=torch.LongTensor([target])\n",
    "    return inp, target\n",
    "\n",
    "random_training_set_()"
   ]
  },
  {
   "cell_type": "markdown",
   "metadata": {},
   "source": [
    "# Evaluating\n",
    "\n",
    "To evaluate the network we will feed one character at a time, use the outputs of the network as a probability distribution for the next character, and repeat. To start generation we pass a priming string to start building up the hidden state, from which we then generate one character at a time."
   ]
  },
  {
   "cell_type": "code",
   "execution_count": 35,
   "metadata": {},
   "outputs": [],
   "source": [
    "def evaluate(prime_str='A', predict_len=100, temperature=0.8):\n",
    "    hidden = decoder.init_hidden()\n",
    "    prime_input = char_tensor(prime_str)\n",
    "    predicted = prime_str\n",
    "\n",
    "    # Use priming string to \"build up\" hidden state\n",
    "    for p in range(len(prime_str) - 1):\n",
    "        _, hidden = decoder(prime_input[p], hidden)\n",
    "    inp = prime_input[-1]\n",
    "    \n",
    "    for p in range(predict_len):\n",
    "        output, hidden = decoder(inp, hidden)\n",
    "        \n",
    "        # Sample from the network as a multinomial distribution\n",
    "        output_dist = output.data.view(-1).div(temperature).exp()\n",
    "        top_i = torch.multinomial(output_dist, 1)[0]\n",
    "        \n",
    "        # Add predicted character to string and use as next input\n",
    "        predicted_char = all_characters[top_i]\n",
    "        predicted += predicted_char\n",
    "        inp = char_tensor(predicted_char)\n",
    "\n",
    "    return predicted"
   ]
  },
  {
   "cell_type": "markdown",
   "metadata": {},
   "source": [
    "# Training"
   ]
  },
  {
   "cell_type": "markdown",
   "metadata": {},
   "source": [
    "A helper to print the amount of time passed:"
   ]
  },
  {
   "cell_type": "code",
   "execution_count": 36,
   "metadata": {},
   "outputs": [],
   "source": [
    "import time, math\n",
    "\n",
    "def time_since(since):\n",
    "    s = time.time() - since\n",
    "    m = math.floor(s / 60)\n",
    "    s -= m * 60\n",
    "    return '%dm %ds' % (m, s)"
   ]
  },
  {
   "cell_type": "markdown",
   "metadata": {},
   "source": [
    "The main training function"
   ]
  },
  {
   "cell_type": "code",
   "execution_count": 37,
   "metadata": {},
   "outputs": [],
   "source": [
    "def train(inp, target):\n",
    "    hidden = decoder.init_hidden()\n",
    "    decoder.zero_grad()\n",
    "    loss = 0\n",
    "\n",
    "    for c in range(chunk_len):\n",
    "        output, hidden = decoder(inp[c], hidden)\n",
    "        #output = output.unsqueeze(0)\n",
    "        #target[c]=torch.LongTensor([target[c]])\n",
    "        target_=torch.tensor([target[c]])\n",
    "        loss += criterion(output, target_)\n",
    "\n",
    "    loss.backward()\n",
    "    decoder_optimizer.step()\n",
    "   # print(loss)\n",
    "\n",
    "    return loss.data / chunk_len"
   ]
  },
  {
   "cell_type": "markdown",
   "metadata": {},
   "source": [
    "Then we define the training parameters, instantiate the model, and start training:"
   ]
  },
  {
   "cell_type": "code",
   "execution_count": 38,
   "metadata": {
    "scrolled": false
   },
   "outputs": [
    {
     "name": "stdout",
     "output_type": "stream",
     "text": [
      "[7m 56s (500 10%) 1.7448]\n",
      "Where anstant over that would be have never mingen.\n",
      " \"A \"Dearched of catersone in a muller, sicher.\"\n",
      "\n",
      " \"Dossed's shan shitmorded frice. I man his serman the sicce, and froce an apner. Do piculary shatev \n",
      "\n",
      "[16m 7s (1000 20%) 1.5799]\n",
      "Whe was pray the how leam and as\n",
      " had be he housel, no he can not the hour him and very event his nellow, what you not the came and the in her bore emply and\n",
      " intion in more the one his darkning of him  \n",
      "\n",
      "[24m 20s (1500 30%) 1.5438]\n",
      "What I do he\n",
      " had not, presermine that it in insive mention intrush of his hophing, but\n",
      " which in this incertaint in his flow. I could are\n",
      " a first mon. He I\n",
      " fear Hould set not-and see. I shall this\n",
      " r \n",
      "\n",
      "[31m 42s (2000 40%) 1.5949]\n",
      "What he repar tilling looked of\n",
      " the bas of so notes henhim with that a hour us.\"\n",
      " Hall been infor in persorce.\"\n",
      "\n",
      " \"I have hamp have will nervoy her to for leven. It will has will will\n",
      " that the chance- \n",
      "\n",
      "[39m 18s (2500 50%) 1.8958]\n",
      "Whole rather countion and do of sat of to had\n",
      " be anscweres, and he like leave a last must soon proached of our scencemab\n",
      " that is she may danger raspistated and and narrais and quarder. He\n",
      " veries told \n",
      "\n",
      "[47m 14s (3000 60%) 1.4686]\n",
      "Which his were the same, would be man sides seeing recents,\n",
      " his possibe was a miness ban, sark which was see news his tartish when he said the larges as in deepts reppless, who the browss possible\n",
      " cri \n",
      "\n",
      "[55m 1s (3500 70%) 1.6625]\n",
      "What it seally we had the hour more be a sigut. What he was suddened wsitted it how don the masp\n",
      " not ser that you that which she had never\n",
      " the most of the from the surely the danrish. The fapples was\n",
      " \n",
      "\n",
      "[63m 11s (4000 80%) 1.5634]\n",
      "Wholes dar the time in we sprink the well, left and the guth at Holme.\"\n",
      "\n",
      " \"Neeposition, and undent, seate ary emet truck from mysualt that his met. I drain's means an in it have not friend be at that it \n",
      "\n",
      "[72m 9s (4500 90%) 1.8153]\n",
      "What my\n",
      " ging is in if he would have showerled in a corrure, and black that in\n",
      " the same,\" said he ladish\n",
      " soon the part--would acrome ben insccions that I chirted in and a vileving by\n",
      " corviting great  \n",
      "\n",
      "[81m 40s (5000 100%) 1.6312]\n",
      "Where is no had frow the deshery,\n",
      " the questined I had been three of sireet's but with all the window to me, his wife an him only our of an which mear, not\n",
      " for don't the montry clark all simn upon the\n",
      " \n",
      "\n"
     ]
    }
   ],
   "source": [
    "n_epochs = 5000\n",
    "print_every = 500\n",
    "plot_every = 500\n",
    "hidden_size = 200\n",
    "n_layers = 3\n",
    "lr = 0.005\n",
    "\n",
    "decoder = RNN(n_characters, hidden_size, n_characters, n_layers)\n",
    "decoder_optimizer = torch.optim.Adam(decoder.parameters(), lr=lr)\n",
    "criterion = nn.CrossEntropyLoss()\n",
    "\n",
    "start = time.time()\n",
    "all_losses = []\n",
    "loss_avg = 0\n",
    "\n",
    "for epoch in range(1, n_epochs + 1):\n",
    "    xx,yy=random_training_set()\n",
    "    #print(xx,yy)\n",
    "    loss = train(xx,yy)       \n",
    "    loss_avg += loss\n",
    "\n",
    "    if epoch % print_every == 0:\n",
    "        print('[%s (%d %d%%) %.4f]' % (time_since(start), epoch, epoch / n_epochs * 100, loss))\n",
    "        print(evaluate('Wh', 200), '\\n')\n",
    "\n",
    "    if epoch % plot_every == 0:\n",
    "        all_losses.append(loss_avg / plot_every)\n",
    "        loss_avg = 0"
   ]
  },
  {
   "cell_type": "markdown",
   "metadata": {},
   "source": [
    "# Plotting the Training Losses\n",
    "\n",
    "Plotting the historical loss from all_losses shows the network learning:"
   ]
  },
  {
   "cell_type": "code",
   "execution_count": 39,
   "metadata": {},
   "outputs": [
    {
     "data": {
      "text/plain": [
       "[<matplotlib.lines.Line2D at 0x1f8000ad550>]"
      ]
     },
     "execution_count": 39,
     "metadata": {},
     "output_type": "execute_result"
    },
    {
     "data": {
      "image/png": "[encoded data removed]",
      "text/plain": [
       "<Figure size 432x288 with 1 Axes>"
      ]
     },
     "metadata": {},
     "output_type": "display_data"
    }
   ],
   "source": [
    "import matplotlib.pyplot as plt\n",
    "import matplotlib.ticker as ticker\n",
    "%matplotlib inline\n",
    "\n",
    "plt.figure()\n",
    "plt.plot(all_losses)"
   ]
  },
  {
   "cell_type": "markdown",
   "metadata": {},
   "source": [
    "# Evaluating at different \"temperatures\"\n",
    "\n",
    "In the `evaluate` function above, every time a prediction is made the outputs are divided by the \"temperature\" argument passed. Using a higher number makes all actions more equally likely, and thus gives us \"more random\" outputs. Using a lower value (less than 1) makes high probabilities contribute more. As we turn the temperature towards zero we are choosing only the most likely outputs.\n",
    "\n",
    "We can see the effects of this by adjusting the `temperature` argument."
   ]
  },
  {
   "cell_type": "code",
   "execution_count": 40,
   "metadata": {
    "scrolled": true
   },
   "outputs": [
    {
     "name": "stdout",
     "output_type": "stream",
     "text": [
      "Ther when he is arrest, upon you had question of\n",
      " it, and I had room. We had I had prathed\n",
      " your the Shot and I unded, Holmes from her it in his ordince hearted it it\n",
      " lossing the birreed the house I ro\n"
     ]
    }
   ],
   "source": [
    "print(evaluate('Th', 200, temperature=0.8))"
   ]
  },
  {
   "cell_type": "code",
   "execution_count": 43,
   "metadata": {},
   "outputs": [
    {
     "name": "stdout",
     "output_type": "stream",
     "text": [
      "That the morning her the mertion of\n",
      " the secouse of the down and her hall here from the shour hands was\n",
      " not hardled me are me in my heard of the marked which her had course with his heard him of his br\n"
     ]
    }
   ],
   "source": [
    "print(evaluate('Th', 200, temperature=0.5))"
   ]
  },
  {
   "cell_type": "markdown",
   "metadata": {},
   "source": [
    "Lower temperatures are less varied, choosing only the more probable outputs:"
   ]
  },
  {
   "cell_type": "code",
   "execution_count": 41,
   "metadata": {},
   "outputs": [
    {
     "name": "stdout",
     "output_type": "stream",
     "text": [
      "Ther in the house which my hands of the proble which he was not her which he had her which her and her which I had been me the shour the man of the face of the more her which he was hard of the misting-\n"
     ]
    }
   ],
   "source": [
    "print(evaluate('Th', 200, temperature=0.2))"
   ]
  },
  {
   "cell_type": "markdown",
   "metadata": {},
   "source": [
    "Higher temperatures more varied, choosing less probable outputs:"
   ]
  },
  {
   "cell_type": "code",
   "execution_count": 42,
   "metadata": {},
   "outputs": [
    {
     "name": "stdout",
     "output_type": "stream",
     "text": [
      "Thur, proformanil\n",
      " bedrew.\n",
      "\n",
      " \"York,\" drowed I, Weden,? I were? WhacI reantumed coflicem you yoursh rine\n",
      " cossel-count, window us powpeesss pose\n",
      " a bundlank-thablep, drie you?\" \"Wou dresor laim done-cque\n"
     ]
    }
   ],
   "source": [
    "print(evaluate('Th', 200, temperature=1.4))"
   ]
  },
  {
   "cell_type": "code",
   "execution_count": 44,
   "metadata": {},
   "outputs": [
    {
     "name": "stdout",
     "output_type": "stream",
     "text": [
      "Then she bore Vave your diagaried of his birlowed it told that I have\n",
      " or with it, the bayn wome alous--expresent first of\n",
      " frony, cacter carric\n",
      " himsed of where you wout mare hope's my shoped trage-com\n"
     ]
    }
   ],
   "source": [
    "print(evaluate('Th', 200, temperature=1.0))"
   ]
  },
  {
   "cell_type": "markdown",
   "metadata": {
    "collapsed": true
   },
   "source": [
    "# Exercises\n",
    "\n",
    "* Train with your own dataset, e.g.\n",
    "    * Text from another author\n",
    "    * Blog posts\n",
    "    * Code\n",
    "* Increase number of layers and network size to get better results"
   ]
  },
  {
   "cell_type": "markdown",
   "metadata": {},
   "source": [
    "**Next**: [Generating Names with a Conditional Character-Level RNN](https://github.com/spro/practical-pytorch/blob/master/conditional-char-rnn/conditional-char-rnn.ipynb)"
   ]
  }
 ],
 "metadata": {
  "anaconda-cloud": {},
  "kernelspec": {
   "display_name": "Python [conda root]",
   "language": "python",
   "name": "conda-root-py"
  },
  "language_info": {
   "codemirror_mode": {
    "name": "ipython",
    "version": 3
   },
   "file_extension": ".py",
   "mimetype": "text/x-python",
   "name": "python",
   "nbconvert_exporter": "python",
   "pygments_lexer": "ipython3",
   "version": "3.6.4"
  }
 },
 "nbformat": 4,
 "nbformat_minor": 1
}
