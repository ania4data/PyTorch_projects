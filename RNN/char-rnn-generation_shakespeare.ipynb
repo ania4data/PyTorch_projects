{
 "cells": [
  {
   "cell_type": "markdown",
   "metadata": {},
   "source": [
    "![](https://i.imgur.com/eBRPvWB.png)\n",
    "\n",
    "# Practical PyTorch: Generating Shakespeare with a Character-Level RNN\n",
    "\n",
    "[In the RNN classification tutorial](https://github.com/spro/practical-pytorch/blob/master/char-rnn-classification/char-rnn-classification.ipynb) we used a RNN to classify text one character at a time. This time we'll generate text one character at a time.\n",
    "\n",
    "```\n",
    "> python generate.py -n 500\n",
    "\n",
    "PAOLTREDN:\n",
    "Let, yil exter shis owrach we so sain, fleas,\n",
    "Be wast the shall deas, puty sonse my sheete.\n",
    "\n",
    "BAUFIO:\n",
    "Sirh carrow out with the knonuot my comest sifard queences\n",
    "O all a man unterd.\n",
    "\n",
    "PROMENSJO:\n",
    "Ay, I to Heron, I sack, againous; bepear, Butch,\n",
    "An as shalp will of that seal think.\n",
    "\n",
    "NUKINUS:\n",
    "And house it to thee word off hee:\n",
    "And thou charrota the son hange of that shall denthand\n",
    "For the say hor you are of I folles muth me?\n",
    "```\n",
    "\n",
    "This one might make you question the series title &mdash; \"is that really practical?\" However, these sorts of generative models form the basis of machine translation, image captioning, question answering and more. See the [Sequence to Sequence Translation tutorial](https://github.com/spro/practical-pytorch/blob/master/seq2seq-translation/seq2seq-translation.ipynb) for more on that topic."
   ]
  },
  {
   "cell_type": "markdown",
   "metadata": {},
   "source": [
    "# Recommended Reading\n",
    "\n",
    "I assume you have at least installed PyTorch, know Python, and understand Tensors:\n",
    "\n",
    "* http://pytorch.org/ For installation instructions\n",
    "* [Deep Learning with PyTorch: A 60-minute Blitz](https://github.com/pytorch/tutorials/blob/master/Deep%20Learning%20with%20PyTorch.ipynb) to get started with PyTorch in general\n",
    "* [jcjohnson's PyTorch examples](https://github.com/jcjohnson/pytorch-examples) for an in depth overview\n",
    "* [Introduction to PyTorch for former Torchies](https://github.com/pytorch/tutorials/blob/master/Introduction%20to%20PyTorch%20for%20former%20Torchies.ipynb) if you are former Lua Torch user\n",
    "\n",
    "It would also be useful to know about RNNs and how they work:\n",
    "\n",
    "* [The Unreasonable Effectiveness of Recurrent Neural Networks](http://karpathy.github.io/2015/05/21/rnn-effectiveness/) shows a bunch of real life examples\n",
    "* [Understanding LSTM Networks](http://colah.github.io/posts/2015-08-Understanding-LSTMs/) is about LSTMs specifically but also informative about RNNs in general\n",
    "\n",
    "Also see these related tutorials from the series:\n",
    "\n",
    "* [Classifying Names with a Character-Level RNN](https://github.com/spro/practical-pytorch/blob/master/char-rnn-classification/char-rnn-classification.ipynb) uses an RNN for classification\n",
    "* [Generating Names with a Conditional Character-Level RNN](https://github.com/spro/practical-pytorch/blob/master/conditional-char-rnn/conditional-char-rnn.ipynb) builds on this model to add a category as input"
   ]
  },
  {
   "cell_type": "markdown",
   "metadata": {},
   "source": [
    "# Prepare data\n",
    "\n",
    "The file we are using is a plain text file. We turn any potential unicode characters into plain ASCII by using the `unidecode` package (which you can install via `pip` or `conda`)."
   ]
  },
  {
   "cell_type": "code",
   "execution_count": 80,
   "metadata": {},
   "outputs": [
    {
     "name": "stdout",
     "output_type": "stream",
     "text": [
      "100\n",
      "0123456789abcdefghijklmnopqrstuvwxyzABCDEFGHIJKLMNOPQRSTUVWXYZ!\"#$%&'()*+,-./:;<=>?@[\\]^_`{|}~ \t\n",
      "\r",
      "\u000b",
      "\f",
      "\n",
      "file_len = 1115393\n"
     ]
    }
   ],
   "source": [
    "import unidecode\n",
    "import string\n",
    "import random\n",
    "import re\n",
    "\n",
    "all_characters = string.printable\n",
    "n_characters = len(all_characters)\n",
    "print(n_characters)\n",
    "print(all_characters)\n",
    "file = unidecode.unidecode(open('shakespeare.txt').read())  #unicode to ascii\n",
    "file_len = len(file)\n",
    "print('file_len =', file_len)  #basically nuumber of characters\n",
    "#print(file) #print whole file"
   ]
  },
  {
   "cell_type": "markdown",
   "metadata": {},
   "source": [
    "To make inputs out of this big string of data, we will be splitting it into chunks."
   ]
  },
  {
   "cell_type": "code",
   "execution_count": 81,
   "metadata": {},
   "outputs": [
    {
     "name": "stdout",
     "output_type": "stream",
     "text": [
      "e.\n",
      "\n",
      "LADY ANNE:\n",
      "Never hung poison on a fouler toad.\n",
      "Out of my sight! thou dost infect my eyes.\n",
      "\n",
      "GLOUCESTER:\n",
      "Thine eyes, sweet lady, have infected mine.\n",
      "\n",
      "LADY ANNE:\n",
      "Would they were basilisks, to strike t\n"
     ]
    }
   ],
   "source": [
    "chunk_len = 200\n",
    "\n",
    "def random_chunk():\n",
    "    start_index = random.randint(0, file_len - chunk_len)  #start index\n",
    "    end_index = start_index + chunk_len + 1\n",
    "    return file[start_index:end_index]\n",
    "\n",
    "print(random_chunk())  #give a 200 length sentence randomly each time"
   ]
  },
  {
   "cell_type": "markdown",
   "metadata": {},
   "source": [
    "# Build the Model\n",
    "\n",
    "This model will take as input the character for step $t_{-1}$ and is expected to output the next character $t$. There are three layers - one linear layer that encodes the input character into an internal state, one GRU layer (which may itself have multiple layers) that operates on that internal state and a hidden state, and a decoder layer that outputs the probability distribution."
   ]
  },
  {
   "cell_type": "code",
   "execution_count": 82,
   "metadata": {},
   "outputs": [],
   "source": [
    "import torch\n",
    "import torch.nn as nn\n",
    "from torch.autograd import Variable\n",
    "\n",
    "class RNN(nn.Module):\n",
    "    def __init__(self, input_size, hidden_size, output_size, n_layers=1):\n",
    "        super(RNN, self).__init__()\n",
    "        self.input_size = input_size\n",
    "        self.hidden_size = hidden_size\n",
    "        self.output_size = output_size\n",
    "        self.n_layers = n_layers\n",
    "        \n",
    "        self.encoder = nn.Embedding(input_size, hidden_size)\n",
    "        self.gru = nn.GRU(hidden_size, hidden_size, n_layers)\n",
    "        self.decoder = nn.Linear(hidden_size, output_size)\n",
    "    \n",
    "    def forward(self, input, hidden):\n",
    "        input = self.encoder(input.view(1, -1))\n",
    "        output, hidden = self.gru(input.view(1, 1, -1), hidden)\n",
    "        output = self.decoder(output.view(1, -1))\n",
    "        return output, hidden\n",
    "\n",
    "    def init_hidden(self):\n",
    "        return Variable(torch.zeros(self.n_layers, 1, self.hidden_size))"
   ]
  },
  {
   "cell_type": "markdown",
   "metadata": {},
   "source": [
    "# Inputs and Targets"
   ]
  },
  {
   "cell_type": "markdown",
   "metadata": {},
   "source": [
    "Each chunk will be turned into a tensor, specifically a `LongTensor` (used for integer values), by looping through the characters of the string and looking up the index of each character in `all_characters`."
   ]
  },
  {
   "cell_type": "code",
   "execution_count": 83,
   "metadata": {},
   "outputs": [
    {
     "name": "stdout",
     "output_type": "stream",
     "text": [
      "tensor([ 10,  11,  12,  39,  40,  41])\n"
     ]
    }
   ],
   "source": [
    "# Turn string into list of longs\n",
    "def char_tensor_(string):\n",
    "    tensor = torch.zeros(len(string)).long()\n",
    "    for c in range(len(string)):\n",
    "        tensor[c] = all_characters.index(string[c])\n",
    "    return string,Variable(tensor)\n",
    "\n",
    "print(char_tensor('abcDEF'))"
   ]
  },
  {
   "cell_type": "code",
   "execution_count": 84,
   "metadata": {},
   "outputs": [
    {
     "name": "stdout",
     "output_type": "stream",
     "text": [
      "tensor([ 10,  11,  12,  39,  40,  41])\n"
     ]
    }
   ],
   "source": [
    "# Turn string into list of longs\n",
    "def char_tensor(string):\n",
    "    tensor = torch.zeros(len(string)).long()\n",
    "    for c in range(len(string)):\n",
    "        tensor[c] = all_characters.index(string[c])\n",
    "    return Variable(tensor)\n",
    "\n",
    "print(char_tensor('abcDEF'))"
   ]
  },
  {
   "cell_type": "markdown",
   "metadata": {},
   "source": [
    "Finally we can assemble a pair of input and target tensors for training, from a random chunk. The input will be all characters *up to the last*, and the target will be all characters *from the first*. So if our chunk is \"abc\" the input will correspond to \"ab\" while the target is \"bc\"."
   ]
  },
  {
   "cell_type": "code",
   "execution_count": 85,
   "metadata": {},
   "outputs": [
    {
     "data": {
      "text/plain": [
       "(tensor([ 34,  94,  15,  10,  29,  17,  14,  27,  73,  94,  13,  27,\n",
       "          18,  23,  20,  94,  10,  94,  17,  14,  10,  21,  29,  17,\n",
       "          94,  29,  24,  94,  22,  14,  78,  96,  41,  24,  27,  94,\n",
       "          44,  94,  22,  30,  28,  29,  94,  17,  14,  23,  12,  14,\n",
       "          78,  94,  10,  23,  13,  94,  15,  10,  27,  14,  32,  14,\n",
       "          21,  21,  94,  29,  24,  94,  34,  24,  30,  94,  10,  21,\n",
       "          21,  75,  96,  96,  55,  53,  36,  49,  44,  50,  77,  96,\n",
       "          47,  14,  29,  94,  30,  28,  94,  14,  23,  29,  27,  14,\n",
       "          10,  29,  94,  34,  24,  30,  94,  28,  29,  10,  34,  94,\n",
       "          29,  18,  21,  21,  94,  10,  15,  29,  14,  27,  94,  13,\n",
       "          18,  23,  23,  14,  27,  75,  96,  96,  51,  40,  55,  53,\n",
       "          56,  38,  43,  44,  50,  77,  96,  44,  29,  94,  22,  10,\n",
       "          34,  94,  23,  24,  29,  94,  11,  14,  75,  96,  96,  42,\n",
       "          53,  40,  48,  44,  50,  77,  96,  47,  14,  29,  94,  22,\n",
       "          14,  94,  14,  23,  29,  27,  14,  10,  29,  94,  34,  24,\n",
       "          30,  75,  96,  96,  51,  40,  55,  53,  56,  38,  43,  44,\n",
       "          50,  77,  96,  44,  29,  94,  12,  10]),\n",
       " tensor([ 94,  15,  10,  29,  17,  14,  27,  73,  94,  13,  27,  18,\n",
       "          23,  20,  94,  10,  94,  17,  14,  10,  21,  29,  17,  94,\n",
       "          29,  24,  94,  22,  14,  78,  96,  41,  24,  27,  94,  44,\n",
       "          94,  22,  30,  28,  29,  94,  17,  14,  23,  12,  14,  78,\n",
       "          94,  10,  23,  13,  94,  15,  10,  27,  14,  32,  14,  21,\n",
       "          21,  94,  29,  24,  94,  34,  24,  30,  94,  10,  21,  21,\n",
       "          75,  96,  96,  55,  53,  36,  49,  44,  50,  77,  96,  47,\n",
       "          14,  29,  94,  30,  28,  94,  14,  23,  29,  27,  14,  10,\n",
       "          29,  94,  34,  24,  30,  94,  28,  29,  10,  34,  94,  29,\n",
       "          18,  21,  21,  94,  10,  15,  29,  14,  27,  94,  13,  18,\n",
       "          23,  23,  14,  27,  75,  96,  96,  51,  40,  55,  53,  56,\n",
       "          38,  43,  44,  50,  77,  96,  44,  29,  94,  22,  10,  34,\n",
       "          94,  23,  24,  29,  94,  11,  14,  75,  96,  96,  42,  53,\n",
       "          40,  48,  44,  50,  77,  96,  47,  14,  29,  94,  22,  14,\n",
       "          94,  14,  23,  29,  27,  14,  10,  29,  94,  34,  24,  30,\n",
       "          75,  96,  96,  51,  40,  55,  53,  56,  38,  43,  44,  50,\n",
       "          77,  96,  44,  29,  94,  12,  10,  23]))"
      ]
     },
     "execution_count": 85,
     "metadata": {},
     "output_type": "execute_result"
    }
   ],
   "source": [
    "def random_training_set():    \n",
    "    chunk = random_chunk()\n",
    "    inp = char_tensor(chunk[:-1])\n",
    "    target = char_tensor(chunk[1:])\n",
    "   # target=torch.LongTensor([target])\n",
    "    return inp, target\n",
    "\n",
    "random_training_set()"
   ]
  },
  {
   "cell_type": "code",
   "execution_count": 87,
   "metadata": {},
   "outputs": [
    {
     "data": {
      "text/plain": [
       "((\"s dead, she's dead, she's dead!\\n\\nCAPULET:\\nHa! let me see her: out, alas! she's cold:\\nHer blood is settled, and her joints are stiff;\\nLife and these lips have long been separated:\\nDeath lies on her lik\",\n",
       "  tensor([ 28,  94,  13,  14,  10,  13,  73,  94,  28,  17,  14,  68,\n",
       "           28,  94,  13,  14,  10,  13,  73,  94,  28,  17,  14,  68,\n",
       "           28,  94,  13,  14,  10,  13,  62,  96,  96,  38,  36,  51,\n",
       "           56,  47,  40,  55,  77,  96,  43,  10,  62,  94,  21,  14,\n",
       "           29,  94,  22,  14,  94,  28,  14,  14,  94,  17,  14,  27,\n",
       "           77,  94,  24,  30,  29,  73,  94,  10,  21,  10,  28,  62,\n",
       "           94,  28,  17,  14,  68,  28,  94,  12,  24,  21,  13,  77,\n",
       "           96,  43,  14,  27,  94,  11,  21,  24,  24,  13,  94,  18,\n",
       "           28,  94,  28,  14,  29,  29,  21,  14,  13,  73,  94,  10,\n",
       "           23,  13,  94,  17,  14,  27,  94,  19,  24,  18,  23,  29,\n",
       "           28,  94,  10,  27,  14,  94,  28,  29,  18,  15,  15,  78,\n",
       "           96,  47,  18,  15,  14,  94,  10,  23,  13,  94,  29,  17,\n",
       "           14,  28,  14,  94,  21,  18,  25,  28,  94,  17,  10,  31,\n",
       "           14,  94,  21,  24,  23,  16,  94,  11,  14,  14,  23,  94,\n",
       "           28,  14,  25,  10,  27,  10,  29,  14,  13,  77,  96,  39,\n",
       "           14,  10,  29,  17,  94,  21,  18,  14,  28,  94,  24,  23,\n",
       "           94,  17,  14,  27,  94,  21,  18,  20])),\n",
       " (\" dead, she's dead, she's dead!\\n\\nCAPULET:\\nHa! let me see her: out, alas! she's cold:\\nHer blood is settled, and her joints are stiff;\\nLife and these lips have long been separated:\\nDeath lies on her like\",\n",
       "  tensor([ 94,  13,  14,  10,  13,  73,  94,  28,  17,  14,  68,  28,\n",
       "           94,  13,  14,  10,  13,  73,  94,  28,  17,  14,  68,  28,\n",
       "           94,  13,  14,  10,  13,  62,  96,  96,  38,  36,  51,  56,\n",
       "           47,  40,  55,  77,  96,  43,  10,  62,  94,  21,  14,  29,\n",
       "           94,  22,  14,  94,  28,  14,  14,  94,  17,  14,  27,  77,\n",
       "           94,  24,  30,  29,  73,  94,  10,  21,  10,  28,  62,  94,\n",
       "           28,  17,  14,  68,  28,  94,  12,  24,  21,  13,  77,  96,\n",
       "           43,  14,  27,  94,  11,  21,  24,  24,  13,  94,  18,  28,\n",
       "           94,  28,  14,  29,  29,  21,  14,  13,  73,  94,  10,  23,\n",
       "           13,  94,  17,  14,  27,  94,  19,  24,  18,  23,  29,  28,\n",
       "           94,  10,  27,  14,  94,  28,  29,  18,  15,  15,  78,  96,\n",
       "           47,  18,  15,  14,  94,  10,  23,  13,  94,  29,  17,  14,\n",
       "           28,  14,  94,  21,  18,  25,  28,  94,  17,  10,  31,  14,\n",
       "           94,  21,  24,  23,  16,  94,  11,  14,  14,  23,  94,  28,\n",
       "           14,  25,  10,  27,  10,  29,  14,  13,  77,  96,  39,  14,\n",
       "           10,  29,  17,  94,  21,  18,  14,  28,  94,  24,  23,  94,\n",
       "           17,  14,  27,  94,  21,  18,  20,  14])))"
      ]
     },
     "execution_count": 87,
     "metadata": {},
     "output_type": "execute_result"
    }
   ],
   "source": [
    "def random_training_set_():    \n",
    "    chunk = random_chunk()\n",
    "    inp = char_tensor_(chunk[:-1])\n",
    "    target = char_tensor_(chunk[1:])\n",
    "    #target=torch.LongTensor([target])\n",
    "    return inp, target\n",
    "\n",
    "random_training_set_()"
   ]
  },
  {
   "cell_type": "markdown",
   "metadata": {},
   "source": [
    "# Evaluating\n",
    "\n",
    "To evaluate the network we will feed one character at a time, use the outputs of the network as a probability distribution for the next character, and repeat. To start generation we pass a priming string to start building up the hidden state, from which we then generate one character at a time."
   ]
  },
  {
   "cell_type": "code",
   "execution_count": 88,
   "metadata": {},
   "outputs": [],
   "source": [
    "def evaluate(prime_str='A', predict_len=100, temperature=0.8):\n",
    "    hidden = decoder.init_hidden()\n",
    "    prime_input = char_tensor(prime_str)\n",
    "    predicted = prime_str\n",
    "\n",
    "    # Use priming string to \"build up\" hidden state\n",
    "    for p in range(len(prime_str) - 1):\n",
    "        _, hidden = decoder(prime_input[p], hidden)\n",
    "    inp = prime_input[-1]\n",
    "    \n",
    "    for p in range(predict_len):\n",
    "        output, hidden = decoder(inp, hidden)\n",
    "        \n",
    "        # Sample from the network as a multinomial distribution\n",
    "        output_dist = output.data.view(-1).div(temperature).exp()\n",
    "        top_i = torch.multinomial(output_dist, 1)[0]\n",
    "        \n",
    "        # Add predicted character to string and use as next input\n",
    "        predicted_char = all_characters[top_i]\n",
    "        predicted += predicted_char\n",
    "        inp = char_tensor(predicted_char)\n",
    "\n",
    "    return predicted"
   ]
  },
  {
   "cell_type": "markdown",
   "metadata": {},
   "source": [
    "# Training"
   ]
  },
  {
   "cell_type": "markdown",
   "metadata": {},
   "source": [
    "A helper to print the amount of time passed:"
   ]
  },
  {
   "cell_type": "code",
   "execution_count": 89,
   "metadata": {},
   "outputs": [],
   "source": [
    "import time, math\n",
    "\n",
    "def time_since(since):\n",
    "    s = time.time() - since\n",
    "    m = math.floor(s / 60)\n",
    "    s -= m * 60\n",
    "    return '%dm %ds' % (m, s)"
   ]
  },
  {
   "cell_type": "markdown",
   "metadata": {},
   "source": [
    "The main training function"
   ]
  },
  {
   "cell_type": "code",
   "execution_count": 92,
   "metadata": {},
   "outputs": [],
   "source": [
    "def train(inp, target):\n",
    "    hidden = decoder.init_hidden()\n",
    "    decoder.zero_grad()\n",
    "    loss = 0\n",
    "\n",
    "    for c in range(chunk_len):\n",
    "        output, hidden = decoder(inp[c], hidden)\n",
    "        #output = output.unsqueeze(0)\n",
    "        #target[c]=torch.LongTensor([target[c]])\n",
    "        target_=torch.tensor([target[c]])\n",
    "        loss += criterion(output, target_)\n",
    "\n",
    "    loss.backward()\n",
    "    decoder_optimizer.step()\n",
    "   # print(loss)\n",
    "\n",
    "    return loss.data / chunk_len"
   ]
  },
  {
   "cell_type": "markdown",
   "metadata": {},
   "source": [
    "Then we define the training parameters, instantiate the model, and start training:"
   ]
  },
  {
   "cell_type": "code",
   "execution_count": 93,
   "metadata": {
    "scrolled": false
   },
   "outputs": [
    {
     "name": "stdout",
     "output_type": "stream",
     "text": [
      "[0m 12s (100 5%) 2.4017]\n",
      "Whe ith sok sen yoeve to thay dain macighaime\n",
      "\n",
      "To ma rinde\n",
      "\n",
      "Aond, rapes wisgre notins ledre suthe to w \n",
      "\n",
      "[0m 26s (200 10%) 2.0685]\n",
      "Whour to me us of endy and and my pitbrvaith to peath as.\n",
      "\n",
      "CHVEVLONTExRD:\n",
      "The proparst the faill thos  \n",
      "\n",
      "[0m 40s (300 15%) 2.1005]\n",
      "Wharl sen'derman bew.\n",
      "\n",
      "PETIO:\n",
      "In silt I mother lotting it hear ime daiter,\n",
      "And shis emen then the have \n",
      "\n",
      "[0m 54s (400 20%) 1.9774]\n",
      "Wher landle to pinowelt to at apain and of to there me bedes:\n",
      "You mores, wites yarces this lod? Gan:\n",
      "W \n",
      "\n",
      "[1m 8s (500 25%) 1.8997]\n",
      "Whe agess'd the joubkn!\n",
      "\n",
      "TRUCENTIO:\n",
      "Hath adpes thet you bore for of stishe nen\n",
      "bead, not blane piton k \n",
      "\n",
      "[1m 21s (600 30%) 2.0239]\n",
      "Whards my as my the wath baswawell\n",
      "on faid and and have thy sace, thou kend,\n",
      "As to you strill thours t \n",
      "\n",
      "[1m 35s (700 35%) 2.1315]\n",
      "Wher groks?\n",
      "\n",
      "PARCIO:\n",
      "Thou kind I This mate more's huas.\n",
      "\n",
      "ANTIO:\n",
      "I, my the browt!\n",
      "And his not father we \n",
      "\n",
      "[1m 49s (800 40%) 2.1311]\n",
      "Wharth can'd hear; you have the take strant\n",
      "Well, math paving meey heath my and prownting\n",
      "Iy thy beram \n",
      "\n",
      "[2m 3s (900 45%) 1.9055]\n",
      "Wherered, he ture to morrows, I curntrons\n",
      "I will the withess I all and,\n",
      "I your mastingee fatere and be \n",
      "\n",
      "[2m 17s (1000 50%) 1.7919]\n",
      "Whend the cherselt:\n",
      "And do curse to whime the und? ? fathice mist the fealliss\n",
      "Ins meats you he.\n",
      "\n",
      "Senc \n",
      "\n",
      "[2m 32s (1100 55%) 1.9714]\n",
      "Whers the bewerfore you?\n",
      "\n",
      "POPEY:\n",
      "And, you did the prience of you some not, the put mount thim,\n",
      "From dr \n",
      "\n",
      "[2m 45s (1200 60%) 1.8006]\n",
      "Where of your king of you we\n",
      "well distend that to of time to spet the sequing\n",
      "This nare thee the did t \n",
      "\n",
      "[3m 0s (1300 65%) 1.9477]\n",
      "Whalt, wood rits; which\n",
      "What you contry parsedered not freat hath\n",
      "What in to hent; gart Kiso:\n",
      "The nato \n",
      "\n",
      "[3m 14s (1400 70%) 2.0977]\n",
      "Whed, his brother be four heart\n",
      "Whet lorsio's not bittre bechrvief to be in by presese,\n",
      "Som so ke?\n",
      "\n",
      "GL \n",
      "\n",
      "[3m 27s (1500 75%) 1.7708]\n",
      "Where sem the fick,\n",
      "My my casper may and and foilt hart\n",
      "I'ble of hath a please\n",
      "Maus it haste carison a \n",
      "\n",
      "[3m 41s (1600 80%) 1.8640]\n",
      "Which besto\n",
      "show that it, son, peramt such my sapt\n",
      "Our more a properace mean dur that will; the enaus  \n",
      "\n",
      "[3m 55s (1700 85%) 1.7455]\n",
      "What wingles, this wainty,\n",
      "And will me a priesons and commancome.\n",
      "\n",
      "PAULUSL:\n",
      "My visht like the have mon \n",
      "\n",
      "[4m 8s (1800 90%) 1.8528]\n",
      "Whily into till destrate come of that dearbispons,\n",
      "But the chilouse that the caupoot his his demprusma \n",
      "\n",
      "[4m 22s (1900 95%) 1.6781]\n",
      "Whould the no was deurd faltion\n",
      "For Amit not thou sauch yet that all:\n",
      "My bone not one of you then word \n",
      "\n",
      "[4m 36s (2000 100%) 1.8034]\n",
      "Wh, or I'll her me shous to miser's no dewickel?\n",
      "\n",
      "EDARIUS:\n",
      "Love and more greaven: my barge here fire.\n",
      " \n",
      "\n"
     ]
    }
   ],
   "source": [
    "n_epochs = 2000\n",
    "print_every = 100\n",
    "plot_every = 100\n",
    "hidden_size = 100\n",
    "n_layers = 1\n",
    "lr = 0.005\n",
    "\n",
    "decoder = RNN(n_characters, hidden_size, n_characters, n_layers)\n",
    "decoder_optimizer = torch.optim.Adam(decoder.parameters(), lr=lr)\n",
    "criterion = nn.CrossEntropyLoss()\n",
    "\n",
    "start = time.time()\n",
    "all_losses = []\n",
    "loss_avg = 0\n",
    "\n",
    "for epoch in range(1, n_epochs + 1):\n",
    "    xx,yy=random_training_set()\n",
    "    #print(xx,yy)\n",
    "    loss = train(xx,yy)       \n",
    "    loss_avg += loss\n",
    "\n",
    "    if epoch % print_every == 0:\n",
    "        print('[%s (%d %d%%) %.4f]' % (time_since(start), epoch, epoch / n_epochs * 100, loss))\n",
    "        print(evaluate('Wh', 100), '\\n')\n",
    "\n",
    "    if epoch % plot_every == 0:\n",
    "        all_losses.append(loss_avg / plot_every)\n",
    "        loss_avg = 0"
   ]
  },
  {
   "cell_type": "markdown",
   "metadata": {},
   "source": [
    "# Plotting the Training Losses\n",
    "\n",
    "Plotting the historical loss from all_losses shows the network learning:"
   ]
  },
  {
   "cell_type": "code",
   "execution_count": 94,
   "metadata": {},
   "outputs": [
    {
     "data": {
      "text/plain": [
       "[<matplotlib.lines.Line2D at 0x1b704aca6d8>]"
      ]
     },
     "execution_count": 94,
     "metadata": {},
     "output_type": "execute_result"
    },
    {
     "data": {
      "image/png": "[encoded data removed]",
      "text/plain": [
       "<Figure size 432x288 with 1 Axes>"
      ]
     },
     "metadata": {},
     "output_type": "display_data"
    }
   ],
   "source": [
    "import matplotlib.pyplot as plt\n",
    "import matplotlib.ticker as ticker\n",
    "%matplotlib inline\n",
    "\n",
    "plt.figure()\n",
    "plt.plot(all_losses)"
   ]
  },
  {
   "cell_type": "markdown",
   "metadata": {},
   "source": [
    "# Evaluating at different \"temperatures\"\n",
    "\n",
    "In the `evaluate` function above, every time a prediction is made the outputs are divided by the \"temperature\" argument passed. Using a higher number makes all actions more equally likely, and thus gives us \"more random\" outputs. Using a lower value (less than 1) makes high probabilities contribute more. As we turn the temperature towards zero we are choosing only the most likely outputs.\n",
    "\n",
    "We can see the effects of this by adjusting the `temperature` argument."
   ]
  },
  {
   "cell_type": "code",
   "execution_count": 11,
   "metadata": {},
   "outputs": [
    {
     "name": "stdout",
     "output_type": "stream",
     "text": [
      "Thoo head strant me reporce\n",
      "O and hears of thou provand of treech.\n",
      "\n",
      "LUCI death in that to tellon is head thing come thou that to not him with your firsure but,\n",
      "They here thyse of yet in thou thy meat to\n"
     ]
    }
   ],
   "source": [
    "print(evaluate('Th', 200, temperature=0.8))"
   ]
  },
  {
   "cell_type": "markdown",
   "metadata": {},
   "source": [
    "Lower temperatures are less varied, choosing only the more probable outputs:"
   ]
  },
  {
   "cell_type": "code",
   "execution_count": 12,
   "metadata": {},
   "outputs": [
    {
     "name": "stdout",
     "output_type": "stream",
     "text": [
      "This commanderence the forself to the the to the the the to the to the the formands\n",
      "What to the strange the boy the the have the the to the to to the formands\n",
      "That the the the the the the sorn the to th\n"
     ]
    }
   ],
   "source": [
    "print(evaluate('Th', 200, temperature=0.2))"
   ]
  },
  {
   "cell_type": "markdown",
   "metadata": {},
   "source": [
    "Higher temperatures more varied, choosing less probable outputs:"
   ]
  },
  {
   "cell_type": "code",
   "execution_count": 13,
   "metadata": {},
   "outputs": [
    {
     "name": "stdout",
     "output_type": "stream",
     "text": [
      "That,\n",
      "henct wto Haste's, norsee'd stave brYiry's is dsem.\n",
      "Hell hurss Heamous halloR:\n",
      "Tht a readerty the!\n",
      "\n",
      "KuWhrate.\n",
      "\n",
      "VLOMAY, mere's no, toojecur' kong.\n",
      "\n",
      "DUKE VIx whJos ivistomzliben\n",
      "The vrieglad bloot, \n"
     ]
    }
   ],
   "source": [
    "print(evaluate('Th', 200, temperature=1.4))"
   ]
  },
  {
   "cell_type": "markdown",
   "metadata": {
    "collapsed": true
   },
   "source": [
    "# Exercises\n",
    "\n",
    "* Train with your own dataset, e.g.\n",
    "    * Text from another author\n",
    "    * Blog posts\n",
    "    * Code\n",
    "* Increase number of layers and network size to get better results"
   ]
  },
  {
   "cell_type": "markdown",
   "metadata": {},
   "source": [
    "**Next**: [Generating Names with a Conditional Character-Level RNN](https://github.com/spro/practical-pytorch/blob/master/conditional-char-rnn/conditional-char-rnn.ipynb)"
   ]
  }
 ],
 "metadata": {
  "anaconda-cloud": {},
  "kernelspec": {
   "display_name": "Python [conda root]",
   "language": "python",
   "name": "conda-root-py"
  },
  "language_info": {
   "codemirror_mode": {
    "name": "ipython",
    "version": 3
   },
   "file_extension": ".py",
   "mimetype": "text/x-python",
   "name": "python",
   "nbconvert_exporter": "python",
   "pygments_lexer": "ipython3",
   "version": "3.6.4"
  }
 },
 "nbformat": 4,
 "nbformat_minor": 1
}
