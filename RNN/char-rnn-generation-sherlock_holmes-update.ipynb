{
 "cells": [
  {
   "cell_type": "markdown",
   "metadata": {},
   "source": [
    "![](https://i.imgur.com/eBRPvWB.png)\n",
    "\n",
    "# Practical PyTorch: Generating Shakespeare with a Character-Level RNN\n",
    "\n",
    "[In the RNN classification tutorial](https://github.com/spro/practical-pytorch/blob/master/char-rnn-classification/char-rnn-classification.ipynb) we used a RNN to classify text one character at a time. This time we'll generate text one character at a time.\n",
    "\n",
    "```\n",
    "> python generate.py -n 500\n",
    "\n",
    "PAOLTREDN:\n",
    "Let, yil exter shis owrach we so sain, fleas,\n",
    "Be wast the shall deas, puty sonse my sheete.\n",
    "\n",
    "BAUFIO:\n",
    "Sirh carrow out with the knonuot my comest sifard queences\n",
    "O all a man unterd.\n",
    "\n",
    "PROMENSJO:\n",
    "Ay, I to Heron, I sack, againous; bepear, Butch,\n",
    "An as shalp will of that seal think.\n",
    "\n",
    "NUKINUS:\n",
    "And house it to thee word off hee:\n",
    "And thou charrota the son hange of that shall denthand\n",
    "For the say hor you are of I folles muth me?\n",
    "```\n",
    "\n",
    "This one might make you question the series title &mdash; \"is that really practical?\" However, these sorts of generative models form the basis of machine translation, image captioning, question answering and more. See the [Sequence to Sequence Translation tutorial](https://github.com/spro/practical-pytorch/blob/master/seq2seq-translation/seq2seq-translation.ipynb) for more on that topic."
   ]
  },
  {
   "cell_type": "markdown",
   "metadata": {},
   "source": [
    "# Recommended Reading\n",
    "\n",
    "I assume you have at least installed PyTorch, know Python, and understand Tensors:\n",
    "\n",
    "* http://pytorch.org/ For installation instructions\n",
    "* [Deep Learning with PyTorch: A 60-minute Blitz](https://github.com/pytorch/tutorials/blob/master/Deep%20Learning%20with%20PyTorch.ipynb) to get started with PyTorch in general\n",
    "* [jcjohnson's PyTorch examples](https://github.com/jcjohnson/pytorch-examples) for an in depth overview\n",
    "* [Introduction to PyTorch for former Torchies](https://github.com/pytorch/tutorials/blob/master/Introduction%20to%20PyTorch%20for%20former%20Torchies.ipynb) if you are former Lua Torch user\n",
    "\n",
    "It would also be useful to know about RNNs and how they work:\n",
    "\n",
    "* [The Unreasonable Effectiveness of Recurrent Neural Networks](http://karpathy.github.io/2015/05/21/rnn-effectiveness/) shows a bunch of real life examples\n",
    "* [Understanding LSTM Networks](http://colah.github.io/posts/2015-08-Understanding-LSTMs/) is about LSTMs specifically but also informative about RNNs in general\n",
    "\n",
    "Also see these related tutorials from the series:\n",
    "\n",
    "* [Classifying Names with a Character-Level RNN](https://github.com/spro/practical-pytorch/blob/master/char-rnn-classification/char-rnn-classification.ipynb) uses an RNN for classification\n",
    "* [Generating Names with a Conditional Character-Level RNN](https://github.com/spro/practical-pytorch/blob/master/conditional-char-rnn/conditional-char-rnn.ipynb) builds on this model to add a category as input"
   ]
  },
  {
   "cell_type": "markdown",
   "metadata": {},
   "source": [
    "# Prepare data\n",
    "\n",
    "The file we are using is a plain text file. We turn any potential unicode characters into plain ASCII by using the `unidecode` package (which you can install via `pip` or `conda`)."
   ]
  },
  {
   "cell_type": "code",
   "execution_count": 13,
   "metadata": {},
   "outputs": [
    {
     "name": "stdout",
     "output_type": "stream",
     "text": [
      "100\n",
      "0123456789abcdefghijklmnopqrstuvwxyzABCDEFGHIJKLMNOPQRSTUVWXYZ!\"#$%&'()*+,-./:;<=>?@[\\]^_`{|}~ \t\n",
      "\u000b",
      "\f",
      "\n",
      "file_len = 2046803\n"
     ]
    }
   ],
   "source": [
    "import unidecode\n",
    "import string\n",
    "import random\n",
    "import re\n",
    "\n",
    "all_characters = string.printable\n",
    "n_characters = len(all_characters)\n",
    "print(n_characters)\n",
    "print(all_characters)\n",
    "file = unidecode.unidecode(open('sherlock_holmes_all.txt').read())  #unicode to ascii\n",
    "file_len = len(file)\n",
    "print('file_len =', file_len)  #basically nuumber of characters\n",
    "#print(file) #print whole file"
   ]
  },
  {
   "cell_type": "markdown",
   "metadata": {},
   "source": [
    "To make inputs out of this big string of data, we will be splitting it into chunks."
   ]
  },
  {
   "cell_type": "code",
   "execution_count": 14,
   "metadata": {},
   "outputs": [
    {
     "name": "stdout",
     "output_type": "stream",
     "text": [
      " of crime, in its legal sense, at all. The\n",
      " small matter in which I endeavoured to help the King of Bohemia, the\n",
      " singular experience of Miss Mary Sutherland, the problem connected\n",
      " with the man with the twisted lip, and the incident of the noble\n",
      " bachelor, were all matters which are outside the pale of the law. But\n",
      " in avoiding the sensational, I fear that you may have bordered on the\n",
      " trivial.\"\n",
      "\n",
      " \"The end may have been so,\" I answered, \"but the methods I hold to\n",
      " have been novel and of interest\n"
     ]
    }
   ],
   "source": [
    "chunk_len = 500\n",
    "\n",
    "def random_chunk():\n",
    "    start_index = random.randint(0, file_len - chunk_len)  #start index\n",
    "    end_index = start_index + chunk_len + 1\n",
    "    return file[start_index:end_index]\n",
    "\n",
    "print(random_chunk())  #give a 500 length sentence randomly each time"
   ]
  },
  {
   "cell_type": "markdown",
   "metadata": {},
   "source": [
    "# Build the Model\n",
    "\n",
    "This model will take as input the character for step $t_{-1}$ and is expected to output the next character $t$. There are three layers - one linear layer that encodes the input character into an internal state, one GRU layer (which may itself have multiple layers) that operates on that internal state and a hidden state, and a decoder layer that outputs the probability distribution."
   ]
  },
  {
   "cell_type": "code",
   "execution_count": 15,
   "metadata": {},
   "outputs": [],
   "source": [
    "import torch\n",
    "import torch.nn as nn\n",
    "from torch.autograd import Variable\n",
    "\n",
    "class RNN(nn.Module):\n",
    "    def __init__(self, input_size, hidden_size, output_size, n_layers=1):\n",
    "        super(RNN, self).__init__()\n",
    "        self.input_size = input_size\n",
    "        self.hidden_size = hidden_size\n",
    "        self.output_size = output_size\n",
    "        self.n_layers = n_layers\n",
    "        \n",
    "        self.encoder = nn.Embedding(input_size, hidden_size)\n",
    "        self.gru = nn.GRU(hidden_size, hidden_size, n_layers)\n",
    "        self.decoder = nn.Linear(hidden_size, output_size)\n",
    "    \n",
    "    def forward(self, input, hidden):\n",
    "        input = self.encoder(input.view(1, -1))\n",
    "        output, hidden = self.gru(input.view(1, 1, -1), hidden)\n",
    "        output = self.decoder(output.view(1, -1))\n",
    "        return output, hidden\n",
    "\n",
    "    def init_hidden(self):\n",
    "        return Variable(torch.zeros(self.n_layers, 1, self.hidden_size))"
   ]
  },
  {
   "cell_type": "markdown",
   "metadata": {},
   "source": [
    "# Inputs and Targets"
   ]
  },
  {
   "cell_type": "markdown",
   "metadata": {},
   "source": [
    "Each chunk will be turned into a tensor, specifically a `LongTensor` (used for integer values), by looping through the characters of the string and looking up the index of each character in `all_characters`."
   ]
  },
  {
   "cell_type": "code",
   "execution_count": 16,
   "metadata": {},
   "outputs": [
    {
     "name": "stdout",
     "output_type": "stream",
     "text": [
      "tensor([ 10,  11,  12,  39,  40,  41])\n"
     ]
    }
   ],
   "source": [
    "# Turn string into list of longs\n",
    "def char_tensor(string):\n",
    "    tensor = torch.zeros(len(string)).long()\n",
    "    for c in range(len(string)):\n",
    "        tensor[c] = all_characters.index(string[c])\n",
    "    return Variable(tensor)\n",
    "\n",
    "print(char_tensor('abcDEF'))"
   ]
  },
  {
   "cell_type": "markdown",
   "metadata": {},
   "source": [
    "Finally we can assemble a pair of input and target tensors for training, from a random chunk. The input will be all characters *up to the last*, and the target will be all characters *from the first*. So if our chunk is \"abc\" the input will correspond to \"ab\" while the target is \"bc\"."
   ]
  },
  {
   "cell_type": "code",
   "execution_count": 17,
   "metadata": {},
   "outputs": [
    {
     "data": {
      "text/plain": [
       "(tensor([ 94,  32,  18,  29,  17,  94,  10,  94,  27,  14,  31,  24,\n",
       "          21,  31,  14,  27,  94,  18,  23,  15,  21,  18,  12,  29,\n",
       "          94,  28,  24,  94,  13,  14,  10,  13,  21,  34,  94,  10,\n",
       "          94,  32,  24,  30,  23,  13,  75,  96,  94,  36,  16,  10,\n",
       "          18,  23,  73,  94,  51,  10,  27,  20,  94,  47,  10,  23,\n",
       "          14,  94,  18,  28,  94,  10,  94,  15,  27,  14,  26,  30,\n",
       "          14,  23,  29,  14,  13,  94,  29,  17,  24,  27,  24,  30,\n",
       "          16,  17,  15,  10,  27,  14,  73,  94,  10,  23,  13,  94,\n",
       "          29,  17,  14,  27,  14,  94,  18,  28,  94,  10,  96,  94,\n",
       "          12,  10,  11,  74,  28,  29,  10,  23,  13,  94,  32,  18,\n",
       "          29,  17,  18,  23,  94,  10,  94,  17,  30,  23,  13,  27,\n",
       "          14,  13,  94,  34,  10,  27,  13,  28,  94,  24,  15,  94,\n",
       "          29,  17,  14,  94,  17,  24,  30,  28,  14,  75,  94,  49,\n",
       "          24,  94,  24,  23,  14,  94,  17,  10,  13,  94,  17,  14,\n",
       "          10,  27,  13,  94,  10,  96,  94,  28,  17,  24,  29,  75,\n",
       "          94,  36,  23,  13,  94,  34,  14,  29,  94,  29,  17,  14,\n",
       "          27,  14,  94,  32,  10,  28,  94,  29,  17,  14,  94,  13,\n",
       "          14,  10,  13,  94,  22,  10,  23,  73,  94,  10,  23,  13,\n",
       "          94,  29,  17,  14,  27,  14,  94,  29,  17,  14,  94,  27,\n",
       "          14,  31,  24,  21,  31,  14,  27,  94,  11,  30,  21,  21,\n",
       "          14,  29,  73,  96,  94,  32,  17,  18,  12,  17,  94,  17,\n",
       "          10,  13,  94,  22,  30,  28,  17,  27,  24,  24,  22,  14,\n",
       "          13,  94,  24,  30,  29,  73,  94,  10,  28,  94,  28,  24,\n",
       "          15,  29,  74,  23,  24,  28,  14,  13,  94,  11,  30,  21,\n",
       "          21,  14,  29,  28,  94,  32,  18,  21,  21,  73,  94,  10,\n",
       "          23,  13,  94,  28,  24,  96,  94,  18,  23,  15,  21,  18,\n",
       "          12,  29,  14,  13,  94,  10,  94,  32,  24,  30,  23,  13,\n",
       "          94,  32,  17,  18,  12,  17,  94,  22,  30,  28,  29,  94,\n",
       "          17,  10,  31,  14,  94,  12,  10,  30,  28,  14,  13,  94,\n",
       "          18,  23,  28,  29,  10,  23,  29,  10,  23,  14,  24,  30,\n",
       "          28,  94,  13,  14,  10,  29,  17,  75,  94,  54,  30,  12,\n",
       "          17,  96,  94,  32,  14,  27,  14,  94,  29,  17,  14,  94,\n",
       "          12,  18,  27,  12,  30,  22,  28,  29,  10,  23,  12,  14,\n",
       "          28,  94,  24,  15,  94,  29,  17,  14,  94,  51,  10,  27,\n",
       "          20,  94,  47,  10,  23,  14,  94,  48,  34,  28,  29,  14,\n",
       "          27,  34,  73,  94,  32,  17,  18,  12,  17,  94,  32,  14,\n",
       "          27,  14,  94,  15,  30,  27,  29,  17,  14,  27,  96,  94,\n",
       "          12,  24,  22,  25,  21,  18,  12,  10,  29,  14,  13,  94,\n",
       "          11,  34,  94,  14,  23,  29,  18,  27,  14,  94,  10,  11,\n",
       "          28,  14,  23,  12,  14,  94,  24,  15,  94,  22,  24,  29,\n",
       "          18,  31,  14,  73,  94,  28,  18,  23,  12,  14,  73,  94,\n",
       "          10,  28,  94,  44,  94,  17,  10,  31]),\n",
       " tensor([ 32,  18,  29,  17,  94,  10,  94,  27,  14,  31,  24,  21,\n",
       "          31,  14,  27,  94,  18,  23,  15,  21,  18,  12,  29,  94,\n",
       "          28,  24,  94,  13,  14,  10,  13,  21,  34,  94,  10,  94,\n",
       "          32,  24,  30,  23,  13,  75,  96,  94,  36,  16,  10,  18,\n",
       "          23,  73,  94,  51,  10,  27,  20,  94,  47,  10,  23,  14,\n",
       "          94,  18,  28,  94,  10,  94,  15,  27,  14,  26,  30,  14,\n",
       "          23,  29,  14,  13,  94,  29,  17,  24,  27,  24,  30,  16,\n",
       "          17,  15,  10,  27,  14,  73,  94,  10,  23,  13,  94,  29,\n",
       "          17,  14,  27,  14,  94,  18,  28,  94,  10,  96,  94,  12,\n",
       "          10,  11,  74,  28,  29,  10,  23,  13,  94,  32,  18,  29,\n",
       "          17,  18,  23,  94,  10,  94,  17,  30,  23,  13,  27,  14,\n",
       "          13,  94,  34,  10,  27,  13,  28,  94,  24,  15,  94,  29,\n",
       "          17,  14,  94,  17,  24,  30,  28,  14,  75,  94,  49,  24,\n",
       "          94,  24,  23,  14,  94,  17,  10,  13,  94,  17,  14,  10,\n",
       "          27,  13,  94,  10,  96,  94,  28,  17,  24,  29,  75,  94,\n",
       "          36,  23,  13,  94,  34,  14,  29,  94,  29,  17,  14,  27,\n",
       "          14,  94,  32,  10,  28,  94,  29,  17,  14,  94,  13,  14,\n",
       "          10,  13,  94,  22,  10,  23,  73,  94,  10,  23,  13,  94,\n",
       "          29,  17,  14,  27,  14,  94,  29,  17,  14,  94,  27,  14,\n",
       "          31,  24,  21,  31,  14,  27,  94,  11,  30,  21,  21,  14,\n",
       "          29,  73,  96,  94,  32,  17,  18,  12,  17,  94,  17,  10,\n",
       "          13,  94,  22,  30,  28,  17,  27,  24,  24,  22,  14,  13,\n",
       "          94,  24,  30,  29,  73,  94,  10,  28,  94,  28,  24,  15,\n",
       "          29,  74,  23,  24,  28,  14,  13,  94,  11,  30,  21,  21,\n",
       "          14,  29,  28,  94,  32,  18,  21,  21,  73,  94,  10,  23,\n",
       "          13,  94,  28,  24,  96,  94,  18,  23,  15,  21,  18,  12,\n",
       "          29,  14,  13,  94,  10,  94,  32,  24,  30,  23,  13,  94,\n",
       "          32,  17,  18,  12,  17,  94,  22,  30,  28,  29,  94,  17,\n",
       "          10,  31,  14,  94,  12,  10,  30,  28,  14,  13,  94,  18,\n",
       "          23,  28,  29,  10,  23,  29,  10,  23,  14,  24,  30,  28,\n",
       "          94,  13,  14,  10,  29,  17,  75,  94,  54,  30,  12,  17,\n",
       "          96,  94,  32,  14,  27,  14,  94,  29,  17,  14,  94,  12,\n",
       "          18,  27,  12,  30,  22,  28,  29,  10,  23,  12,  14,  28,\n",
       "          94,  24,  15,  94,  29,  17,  14,  94,  51,  10,  27,  20,\n",
       "          94,  47,  10,  23,  14,  94,  48,  34,  28,  29,  14,  27,\n",
       "          34,  73,  94,  32,  17,  18,  12,  17,  94,  32,  14,  27,\n",
       "          14,  94,  15,  30,  27,  29,  17,  14,  27,  96,  94,  12,\n",
       "          24,  22,  25,  21,  18,  12,  10,  29,  14,  13,  94,  11,\n",
       "          34,  94,  14,  23,  29,  18,  27,  14,  94,  10,  11,  28,\n",
       "          14,  23,  12,  14,  94,  24,  15,  94,  22,  24,  29,  18,\n",
       "          31,  14,  73,  94,  28,  18,  23,  12,  14,  73,  94,  10,\n",
       "          28,  94,  44,  94,  17,  10,  31,  14]))"
      ]
     },
     "execution_count": 17,
     "metadata": {},
     "output_type": "execute_result"
    }
   ],
   "source": [
    "def random_training_set():    \n",
    "    chunk = random_chunk()\n",
    "    inp = char_tensor(chunk[:-1])\n",
    "    target = char_tensor(chunk[1:])\n",
    "   # target=torch.LongTensor([target])\n",
    "    return inp, target\n",
    "\n",
    "random_training_set()"
   ]
  },
  {
   "cell_type": "markdown",
   "metadata": {},
   "source": [
    "# Evaluating\n",
    "\n",
    "To evaluate the network we will feed one character at a time, use the outputs of the network as a probability distribution for the next character, and repeat. To start generation we pass a priming string to start building up the hidden state, from which we then generate one character at a time."
   ]
  },
  {
   "cell_type": "code",
   "execution_count": 18,
   "metadata": {},
   "outputs": [],
   "source": [
    "def evaluate(prime_str='A', predict_len=100, temperature=0.8):\n",
    "    hidden = decoder.init_hidden()\n",
    "    prime_input = char_tensor(prime_str)\n",
    "    predicted = prime_str\n",
    "\n",
    "    # Use priming string to \"build up\" hidden state\n",
    "    for p in range(len(prime_str) - 1):\n",
    "        _, hidden = decoder(prime_input[p], hidden)\n",
    "    inp = prime_input[-1]\n",
    "    \n",
    "    for p in range(predict_len):\n",
    "        output, hidden = decoder(inp, hidden)\n",
    "        \n",
    "        # Sample from the network as a multinomial distribution\n",
    "        output_dist = output.data.view(-1).div(temperature).exp()\n",
    "        top_i = torch.multinomial(output_dist, 1)[0]\n",
    "        \n",
    "        # Add predicted character to string and use as next input\n",
    "        predicted_char = all_characters[top_i]\n",
    "        predicted += predicted_char\n",
    "        inp = char_tensor(predicted_char)\n",
    "\n",
    "    return predicted"
   ]
  },
  {
   "cell_type": "markdown",
   "metadata": {},
   "source": [
    "# Training"
   ]
  },
  {
   "cell_type": "markdown",
   "metadata": {},
   "source": [
    "A helper to print the amount of time passed:"
   ]
  },
  {
   "cell_type": "code",
   "execution_count": 19,
   "metadata": {},
   "outputs": [],
   "source": [
    "import time, math\n",
    "\n",
    "def time_since(since):\n",
    "    s = time.time() - since\n",
    "    m = math.floor(s / 60)\n",
    "    s -= m * 60\n",
    "    return '%dm %ds' % (m, s)"
   ]
  },
  {
   "cell_type": "markdown",
   "metadata": {},
   "source": [
    "The main training function"
   ]
  },
  {
   "cell_type": "code",
   "execution_count": 20,
   "metadata": {},
   "outputs": [],
   "source": [
    "def train(inp, target):\n",
    "    hidden = decoder.init_hidden()\n",
    "    decoder.zero_grad()\n",
    "    loss = 0\n",
    "\n",
    "    for c in range(chunk_len):\n",
    "        output, hidden = decoder(inp[c], hidden)\n",
    "        #output = output.unsqueeze(0)\n",
    "        #target[c]=torch.LongTensor([target[c]])\n",
    "        target_=torch.tensor([target[c]])\n",
    "        loss += criterion(output, target_)\n",
    "\n",
    "    loss.backward()\n",
    "    decoder_optimizer.step()\n",
    "   # print(loss)\n",
    "\n",
    "    return loss.data / chunk_len"
   ]
  },
  {
   "cell_type": "markdown",
   "metadata": {},
   "source": [
    "Then we define the training parameters, instantiate the model, and start training:"
   ]
  },
  {
   "cell_type": "code",
   "execution_count": 22,
   "metadata": {
    "scrolled": false
   },
   "outputs": [
    {
     "name": "stdout",
     "output_type": "stream",
     "text": [
      "[13m 0s (1000 10%) 1.7089]\n",
      "How, to Holmes been have been seemmor\n",
      " gives said of the this iden this and a ta\n",
      " little and a for the Colonel my deep said with his had noth\n",
      " mage to me come inchfect he courned a battorate now with in \n",
      "\n",
      "Watinatised you\n",
      " had not ced a so panger\n",
      " the commes case own that was had day He has this the this feame was in his sumban expatuelably\n",
      " amed for you me. He are clee that be he to\n",
      " mind of this most in \n",
      "\n",
      "[24m 43s (2000 20%) 1.5853]\n",
      "How is enought for\n",
      " spleached in the worrid roominar. Well and know you worlut on that that the\n",
      " comptmate. And you wour return the morate more was and featanly found foot be been much\n",
      " had bunding and  \n",
      "\n",
      "Was the is feele was to the papeal. Of the save to the spoy was surbable easter set\n",
      " her of profoincence of the cascar, leave if the order. I was\n",
      " about for which with the morrow lad to be was tone our  \n",
      "\n",
      "[36m 39s (3000 30%) 1.5261]\n",
      "However mime in the\n",
      " riffisue curibock out to see his respeint of astonly of the sion our appeared\n",
      " out you have the soull centing that I have not returning\n",
      " our housell carred that issend to so. The op \n",
      "\n",
      "Wat, and in all of marriage.\n",
      " On laughing you certay everetice may table very of interest me.  Sherloponising who have still it is may in such\n",
      " Holmes done of myserfusuince of But his day pristand. \"The \n",
      "\n",
      "[48m 40s (4000 40%) 1.4629]\n",
      "Holmes would a\n",
      " profor tturned of not have been been his the impanatial commandly\n",
      " heard with nothing upon you would no fold was ake all the\n",
      " roser, and thillmand, my sittenly have for's part case of af \n",
      "\n",
      "Wak fellow within the just, and\n",
      " the much last and head here apt, and I had been to grantly withed had\n",
      " bearry still of inton to the cot her window, not stally, and it is that\n",
      " then waiting in ent Cuces \n",
      "\n",
      "[61m 15s (5000 50%) 1.5585]\n",
      "Holmes?\"\n",
      "\n",
      " \"On my life with the on'twentisions at so, thee carriages and of his my first.\n",
      " Holmes, for Holmes, but these advermina two story clear and was\n",
      " found the doubt with the excised pressed not w \n",
      "\n",
      "Wates of the hands as was\n",
      " blue in Prensing-seen without his round. He had life absolvesso\n",
      " his haggired as his countrys, however with his feamined\n",
      " in Hove Flanger. Then you walked very down a here the \n",
      "\n",
      "[73m 40s (6000 60%) 1.3338]\n",
      "How or the hearl\n",
      " of this off, with the a's are in his hand some pokes with a carice as a very hardly,\n",
      " stative Passight of the lid, farancy to him. A meant to the straigh,\n",
      " and this life where hundred  \n",
      "\n",
      "Wable. You have the\n",
      " harled that you cercomed it, and what he had a found me. He the\n",
      " professions with me in the marks of the for a quity wordhs so that so\n",
      " to the mince, the morning that some of a smoo \n",
      "\n",
      "[86m 31s (7000 70%) 1.4991]\n",
      "Holming, not ponected\n",
      " with a conderent which hand you cried to this carge fir. Hosment them? It was the long\n",
      " that way one flonk inclays that it that I was naince enought and confally and\n",
      " pair down, a \n",
      "\n",
      "Wach of you can deen. Then\n",
      " the hall to came more clace, leaned at the matter. Frusteration, which\n",
      " Meady nevagrria the expling expeons me again in could of a crime word and he\n",
      " shull thinked, and he be \n",
      "\n",
      "[98m 48s (8000 80%) 1.4118]\n",
      "Holmes of chiligy that\n",
      " I had should not did do corrow drugging-retrund down and such into the money\n",
      " and my laid in the dread station. I wateryed faces of some and to the\n",
      " pocket in his wring into way  \n",
      "\n",
      "Wand her loss to two it\n",
      " within of met his for this ford of intition. He had do never me and\n",
      " in of to the postia his more the want to ating the tlad which\n",
      " see which shat which should walk with this it \n",
      "\n",
      "[111m 6s (9000 90%) 1.7075]\n",
      "Holmes say had\n",
      " anyone of Parrection, not you do your marks conculd his night,\n",
      " it was resurs doen of the proceers to made. On a way in your insarly up officulored. Pond see\n",
      " you already examined you di \n",
      "\n",
      "Was. The some in ority of the\n",
      " kemed and or your own case this way inciding seances. He man shall\n",
      " ham those, And crut and so made a last of box some inquire an old did that or\n",
      " wish, as I can had for t \n",
      "\n",
      "[123m 52s (10000 100%) 1.4769]\n",
      "Holmes, but I wenk\n",
      " we exais change, and it as asqarminged in one.\"\n",
      "\n",
      " \"There had really, as havened in his busion, and of my grounne\n",
      " or her entery. You asked heose was it is a gese. Thing more\n",
      " his man \n",
      "\n",
      "Want, yetpisten to my staype and eacty\n",
      " bunzaggerous, and it the percitity passried aring at the statema a some a\n",
      " hands and a life your neles. Then we sametle from the known that\n",
      " parcurent of his call \n",
      "\n"
     ]
    }
   ],
   "source": [
    "n_epochs = 10000\n",
    "print_every = 1000\n",
    "plot_every = 1000\n",
    "hidden_size = n_characters\n",
    "n_layers = 3\n",
    "lr = 0.005\n",
    "\n",
    "decoder = RNN(n_characters, hidden_size, n_characters, n_layers)\n",
    "decoder_optimizer = torch.optim.Adam(decoder.parameters(), lr=lr)\n",
    "criterion = nn.CrossEntropyLoss()\n",
    "\n",
    "start = time.time()\n",
    "all_losses = []\n",
    "loss_avg = 0\n",
    "\n",
    "for epoch in range(1, n_epochs + 1):\n",
    "    xx,yy=random_training_set()\n",
    "    #print(xx,yy)\n",
    "    loss = train(xx,yy)       \n",
    "    loss_avg += loss\n",
    "\n",
    "    if epoch % print_every == 0:\n",
    "        print('[%s (%d %d%%) %.4f]' % (time_since(start), epoch, epoch / n_epochs * 100, loss))\n",
    "        decoder.eval()\n",
    "        print(evaluate('Ho', 200), '\\n')\n",
    "        print(evaluate('Wa', 200), '\\n')\n",
    "        decoder.train()\n",
    "    if epoch % plot_every == 0:\n",
    "        all_losses.append(loss_avg / plot_every)\n",
    "        loss_avg = 0"
   ]
  },
  {
   "cell_type": "markdown",
   "metadata": {},
   "source": [
    "# Plotting the Training Losses\n",
    "\n",
    "Plotting the historical loss from all_losses shows the network learning:"
   ]
  },
  {
   "cell_type": "code",
   "execution_count": 23,
   "metadata": {},
   "outputs": [
    {
     "data": {
      "text/plain": [
       "[<matplotlib.lines.Line2D at 0x263379baf60>]"
      ]
     },
     "execution_count": 23,
     "metadata": {},
     "output_type": "execute_result"
    },
    {
     "data": {
      "image/png": "[encoded data removed]",
      "text/plain": [
       "<Figure size 432x288 with 1 Axes>"
      ]
     },
     "metadata": {},
     "output_type": "display_data"
    }
   ],
   "source": [
    "import matplotlib.pyplot as plt\n",
    "import matplotlib.ticker as ticker\n",
    "%matplotlib inline\n",
    "\n",
    "plt.figure()\n",
    "plt.plot(all_losses)"
   ]
  },
  {
   "cell_type": "markdown",
   "metadata": {},
   "source": [
    "# Evaluating at different \"temperatures\"\n",
    "\n",
    "In the `evaluate` function above, every time a prediction is made the outputs are divided by the \"temperature\" argument passed. Using a higher number makes all actions more equally likely, and thus gives us \"more random\" outputs. Using a lower value (less than 1) makes high probabilities contribute more. As we turn the temperature towards zero we are choosing only the most likely outputs.\n",
    "\n",
    "We can see the effects of this by adjusting the `temperature` argument."
   ]
  },
  {
   "cell_type": "code",
   "execution_count": 79,
   "metadata": {},
   "outputs": [
    {
     "name": "stdout",
     "output_type": "stream",
     "text": [
      "Professor Moriarty\n",
      " and all entered from the sear a singure at the good of the state\n",
      " address of his carriage not of the pather which he drawger in the whole.\n",
      "\n",
      " \"'You convern the with the sitte of a floor and my draw. \n"
     ]
    }
   ],
   "source": [
    "print(evaluate('Professor Moriarty', 200, temperature=0.5))"
   ]
  },
  {
   "cell_type": "code",
   "execution_count": 41,
   "metadata": {},
   "outputs": [
    {
     "name": "stdout",
     "output_type": "stream",
     "text": [
      "Holmend him? Condrss,' shen\n",
      " fince throunds. Maside that tWoughly.\"\n",
      "\n",
      " A jin ttoce ceracfasion Gook.\"\n",
      "\n",
      " \"On you ardished cleagage that my Broke then. Excot was\n",
      " though. He was only load him votbers Squabst\n"
     ]
    }
   ],
   "source": [
    "print(evaluate('Holm', 200, temperature=1.4))"
   ]
  },
  {
   "cell_type": "code",
   "execution_count": 42,
   "metadata": {
    "scrolled": true
   },
   "outputs": [
    {
     "name": "stdout",
     "output_type": "stream",
     "text": [
      "Holmes.  He was sugk\n",
      " you have extents?\"\n",
      "\n",
      " \"Yar. Now, With they had so Torner, and not into then my\n",
      " kaltia Rost of real into there descridge, with no, here?\" Nurt for\n",
      " sharm to this atterment for her.\n",
      "\n",
      " \n"
     ]
    }
   ],
   "source": [
    "print(evaluate('Holm', 200, temperature=1.0))"
   ]
  },
  {
   "cell_type": "code",
   "execution_count": 45,
   "metadata": {},
   "outputs": [
    {
     "name": "stdout",
     "output_type": "stream",
     "text": [
      "Holmes. Now, glorious\n",
      " hif her whethere had a roughing his well and a lamberniscrister came wife,\n",
      " but, and led coudrey content upon a caskipe. You outent of the ensidectaress\n",
      " threas clue on these of out\n"
     ]
    }
   ],
   "source": [
    "print(evaluate('Holm', 200, temperature=0.9))"
   ]
  },
  {
   "cell_type": "code",
   "execution_count": 48,
   "metadata": {
    "scrolled": true
   },
   "outputs": [
    {
     "name": "stdout",
     "output_type": "stream",
     "text": [
      "Holmes his chore, and he, which his not, and\n",
      " still be the assuals the inspector for the elare which he met a speceme of pains and a\n",
      " other mapable gain of the grassores, it.\n",
      "\n",
      " \"You was the bore?\"\n",
      "\n",
      " \"You \n"
     ]
    }
   ],
   "source": [
    "print(evaluate('Holm', 200, temperature=0.8))"
   ]
  },
  {
   "cell_type": "code",
   "execution_count": 61,
   "metadata": {},
   "outputs": [
    {
     "name": "stdout",
     "output_type": "stream",
     "text": [
      "Holmes, we quite world on the one\n",
      " the week and that dead the good, have the whower the man and side of his conside\n",
      " of conside of the pharise at us in an nention. He are do the last\n",
      " has say and so house\n"
     ]
    }
   ],
   "source": [
    "print(evaluate('Holm', 200, temperature=0.7))"
   ]
  },
  {
   "cell_type": "code",
   "execution_count": 60,
   "metadata": {},
   "outputs": [
    {
     "name": "stdout",
     "output_type": "stream",
     "text": [
      "Holmes who seen an and be a\n",
      " constrange.\"\n",
      "\n",
      " \"There force out and the confess a shoulder?' asked Holmes, and I have\n",
      " she starting it to suspect the persham, the will go before an expector\n",
      " and him. The onl\n"
     ]
    }
   ],
   "source": [
    "print(evaluate('Holm', 200, temperature=0.6))"
   ]
  },
  {
   "cell_type": "code",
   "execution_count": 58,
   "metadata": {},
   "outputs": [
    {
     "name": "stdout",
     "output_type": "stream",
     "text": [
      "Holmes at the man, and\n",
      " the same of the man, with the conse which he had been in his should purportance which\n",
      " was a looked of the should have to the kept the said at his entered starter and\n",
      " the man of t\n"
     ]
    }
   ],
   "source": [
    "print(evaluate('Holm', 200, temperature=0.5))"
   ]
  },
  {
   "cell_type": "markdown",
   "metadata": {},
   "source": [
    "Lower temperatures are less varied, choosing only the more probable outputs:"
   ]
  },
  {
   "cell_type": "code",
   "execution_count": 57,
   "metadata": {},
   "outputs": [
    {
     "name": "stdout",
     "output_type": "stream",
     "text": [
      "Holmes and a state of the same\n",
      " and a grass of the sight and the past of the second of the man and the side\n",
      " and a street the short which he was a conside and he was a statest of the\n",
      " state were and a sta\n"
     ]
    }
   ],
   "source": [
    "print(evaluate('Holm', 200, temperature=0.2))"
   ]
  },
  {
   "cell_type": "markdown",
   "metadata": {},
   "source": [
    "Higher temperatures more varied, choosing less probable outputs:"
   ]
  },
  {
   "cell_type": "code",
   "execution_count": 55,
   "metadata": {},
   "outputs": [
    {
     "name": "stdout",
     "output_type": "stream",
     "text": [
      "Holmes and a state of the shall and a\n",
      " state of the shall present of the shall present of the second of the shall\n",
      " starting that the shall of the shall of the state of the shall present and the shall and \n"
     ]
    }
   ],
   "source": [
    "print(evaluate('Holm', 200, temperature=0.1))"
   ]
  },
  {
   "cell_type": "markdown",
   "metadata": {
    "collapsed": true
   },
   "source": [
    "# Exercises\n",
    "\n",
    "* Train with your own dataset, e.g.\n",
    "    * Text from another author\n",
    "    * Blog posts\n",
    "    * Code\n",
    "* Increase number of layers and network size to get better results"
   ]
  },
  {
   "cell_type": "markdown",
   "metadata": {},
   "source": [
    "**Next**: [Generating Names with a Conditional Character-Level RNN](https://github.com/spro/practical-pytorch/blob/master/conditional-char-rnn/conditional-char-rnn.ipynb)"
   ]
  }
 ],
 "metadata": {
  "anaconda-cloud": {},
  "kernelspec": {
   "display_name": "Python [conda root]",
   "language": "python",
   "name": "conda-root-py"
  },
  "language_info": {
   "codemirror_mode": {
    "name": "ipython",
    "version": 3
   },
   "file_extension": ".py",
   "mimetype": "text/x-python",
   "name": "python",
   "nbconvert_exporter": "python",
   "pygments_lexer": "ipython3",
   "version": "3.6.4"
  }
 },
 "nbformat": 4,
 "nbformat_minor": 1
}
