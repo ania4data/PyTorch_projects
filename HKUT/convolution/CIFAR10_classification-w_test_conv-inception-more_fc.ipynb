{
 "cells": [
  {
   "cell_type": "code",
   "execution_count": 9,
   "metadata": {},
   "outputs": [],
   "source": [
    "import numpy as np\n",
    "import torch\n",
    "import torchvision\n",
    "from torch.utils.data import DataLoader,Dataset\n",
    "from torchvision import datasets,transforms,utils\n",
    "import matplotlib.pyplot as plt\n",
    "import torch.nn.functional as F\n",
    "\n"
   ]
  },
  {
   "cell_type": "code",
   "execution_count": 10,
   "metadata": {},
   "outputs": [
    {
     "name": "stdout",
     "output_type": "stream",
     "text": [
      "Files already downloaded and verified\n",
      "Files already downloaded and verified\n"
     ]
    }
   ],
   "source": [
    "transform = transforms.Compose(\n",
    "    [transforms.ToTensor(),transforms.Normalize((0.4914, 0.4822, 0.4465), (0.247, 0.243, 0.261))])   #needed to do grayscale cob=nversion before normalizing to tensor\n",
    "trainset=datasets.CIFAR10('CIFAR10/',train=True,transform=transform,download=True)\n",
    "train_loader=DataLoader(trainset,batch_size=64,shuffle=True) #use all three channels\n",
    "\n",
    "testset=datasets.CIFAR10('CIFAR10/',train=False,transform=transform,download=True)\n",
    "test_loader=DataLoader(testset,batch_size=64,shuffle=True)\n"
   ]
  },
  {
   "cell_type": "code",
   "execution_count": 11,
   "metadata": {
    "scrolled": true
   },
   "outputs": [
    {
     "name": "stdout",
     "output_type": "stream",
     "text": [
      "torch.Size([64, 3, 32, 32])\n",
      "torch.Size([64])\n"
     ]
    },
    {
     "data": {
      "text/plain": [
       "<matplotlib.image.AxesImage at 0x2c8673fa710>"
      ]
     },
     "execution_count": 11,
     "metadata": {},
     "output_type": "execute_result"
    },
    {
     "data": {
      "image/png": "[encoded data removed]",
      "text/plain": [
       "<Figure size 432x288 with 1 Axes>"
      ]
     },
     "metadata": {},
     "output_type": "display_data"
    }
   ],
   "source": [
    "image,label=next(iter(train_loader))\n",
    "print(image.size())\n",
    "print(label.size())\n",
    "plt.imshow(image[0][0,:])"
   ]
  },
  {
   "cell_type": "code",
   "execution_count": 12,
   "metadata": {},
   "outputs": [
    {
     "data": {
      "text/plain": [
       "tensor([ 2,  0,  5,  6,  7,  8,  9,  2,  2,  0,  1,  2,  7,  9,\n",
       "         8,  6,  4,  3,  3,  1,  1,  0,  8,  8,  5,  5,  8,  8,\n",
       "         9,  6,  6,  1,  7,  2,  3,  6,  2,  2,  6,  2,  9,  0,\n",
       "         5,  6,  2,  2,  1,  3,  8,  7,  4,  1,  1,  0,  8,  0,\n",
       "         8,  5,  4,  7,  8,  2,  4,  0])"
      ]
     },
     "execution_count": 12,
     "metadata": {},
     "output_type": "execute_result"
    }
   ],
   "source": [
    "label"
   ]
  },
  {
   "cell_type": "code",
   "execution_count": 13,
   "metadata": {},
   "outputs": [],
   "source": [
    "class inception_(torch.nn.Module):\n",
    "    \n",
    "    def __init__(self,input_):\n",
    "        super(inception_,self).__init__()\n",
    "           \n",
    "        self.conv1_1_1=torch.nn.Conv2d(input_,16,kernel_size=1)\n",
    "        \n",
    "        self.conv1_1_2=torch.nn.Conv2d(input_,16,kernel_size=1)\n",
    "        self.conv5_5_2=torch.nn.Conv2d(16,24,kernel_size=5,padding=2)\n",
    "        \n",
    "        self.conv1_1_3=torch.nn.Conv2d(input_,16,kernel_size=1) \n",
    "        self.conv3_3_1_3=torch.nn.Conv2d(16,24,kernel_size=3,padding=1)\n",
    "        self.conv3_3_2_3=torch.nn.Conv2d(24,24,kernel_size=3,padding=1)\n",
    "        \n",
    "        #self.avgpool4=torch.nn.AvgPool2d(kernel_size=3,stride=1,padding=1)\n",
    "        self.conv1_1_4=torch.nn.Conv2d(input_,24,kernel_size=1)\n",
    "\n",
    "   \n",
    "    def forward(self,x): \n",
    "        \n",
    "        #input_=x.size(0)\n",
    "        #x=x.view(-1)  ?\n",
    "        x1_1=self.conv1_1_1(x)\n",
    "        \n",
    "        x5_5=self.conv1_1_2(x)\n",
    "        x5_5=self.conv5_5_2(x5_5)\n",
    "        \n",
    "        x3_3=self.conv1_1_3(x)\n",
    "        x3_3=self.conv3_3_1_3(x3_3)\n",
    "        x3_3=self.conv3_3_2_3(x3_3)\n",
    "        \n",
    "        xpool=F.avg_pool2d(x,kernel_size=3,stride=1,padding=1)\n",
    "        xpool=self.conv1_1_4(xpool)\n",
    "        \n",
    "        outputs=[x1_1,x5_5,x3_3,xpool]\n",
    "        \n",
    "        return torch.cat(outputs,1)\n",
    "        \n",
    "    "
   ]
  },
  {
   "cell_type": "code",
   "execution_count": 14,
   "metadata": {},
   "outputs": [],
   "source": [
    "class Network(torch.nn.Module):\n",
    "    \n",
    "    def __init__(self):\n",
    "        super(Network,self).__init__()\n",
    "        self.conv1=torch.nn.Conv2d(3,10,kernel_size=5)\n",
    "        self.conv2=torch.nn.Conv2d(88,20,kernel_size=5)\n",
    "        \n",
    "        self.incept1=inception_(input_=10)\n",
    "        self.incept2=inception_(input_=20)\n",
    "        \n",
    "        self.mp=torch.nn.MaxPool2d(2)\n",
    "        self.fc=torch.nn.Linear(2200,1000)\n",
    "        self.dropout0=torch.nn.Dropout(p=0.2)\n",
    "        self.fc1=torch.nn.Linear(1000,500)\n",
    "        self.dropout1=torch.nn.Dropout(p=0.2)\n",
    "        self.fc2=torch.nn.Linear(500,200)\n",
    "        self.dropout2=torch.nn.Dropout(p=0.2)\n",
    "        self.fc3=torch.nn.Linear(200,10)\n",
    "        \n",
    "        \n",
    "        \n",
    "    def forward(self,x):\n",
    "        \n",
    "        input_size=x.size(0)\n",
    "        x=F.relu(self.mp(self.conv1(x)))\n",
    "        \n",
    "        x=self.incept1(x)\n",
    "        \n",
    "        x=F.relu(self.mp(self.conv2(x)))\n",
    "        \n",
    "        x=self.incept2(x)\n",
    "        \n",
    "        x=x.view(input_size,-1)\n",
    "        \n",
    "        x=F.relu(self.fc(x))\n",
    "        x=self.dropout0(x)\n",
    "        x=F.relu(self.fc1(x))\n",
    "        x=self.dropout1(x)\n",
    "        x=F.relu(self.fc2(x))  \n",
    "        x=self.dropout2(x)\n",
    "        x=F.relu(self.fc3(x))\n",
    "        y_pred=x     \n",
    "        \n",
    "        return y_pred\n",
    "\n",
    "model=Network()    \n",
    "    "
   ]
  },
  {
   "cell_type": "code",
   "execution_count": 15,
   "metadata": {},
   "outputs": [],
   "source": [
    "epochs=10\n",
    "criterion=torch.nn.CrossEntropyLoss()  #if increase the lr to 0.1, it kicks to local min and stays\n",
    "optimizer=torch.optim.SGD(model.parameters(),lr=0.01,momentum=0.9)  #had to change from SGD to Adam but later noy much difference\n",
    "lr_scheduler_=torch.optim.lr_scheduler.ReduceLROnPlateau(optimizer, 'min')\n",
    "#lr_scheduler_=torch.optim.lr_scheduler.CosineAnnealingLR(optimizer,T_max=epochs)"
   ]
  },
  {
   "cell_type": "code",
   "execution_count": 16,
   "metadata": {},
   "outputs": [
    {
     "name": "stdout",
     "output_type": "stream",
     "text": [
      "torch.Size([64, 10]) torch.Size([64])\n",
      "epoch 1 / 10 running_loss: 0.03590712681412697 Accuracy 12.890625\n",
      "epoch 1 / 10 running_loss: 0.03487946182955057 Accuracy 17.62890625\n",
      "epoch 1 / 10 running_loss: 0.0330093618730704 Accuracy 22.450520833333332\n",
      "epoch 2 / 10 running_loss: 0.031199934552395982 Accuracy 26.798561151079138\n",
      "epoch 2 / 10 running_loss: 0.029653906307728673 Accuracy 30.430635476607456\n",
      "epoch 2 / 10 running_loss: 0.028457581181500838 Accuracy 33.333333333333336\n",
      "epoch 2 / 10 running_loss: 0.02739223145176113 Accuracy 36.046096122923\n",
      "epoch 3 / 10 running_loss: 0.026515946818196964 Accuracy 38.25363622145762\n",
      "epoch 3 / 10 running_loss: 0.025680470470135032 Accuracy 40.29225743675285\n",
      "epoch 3 / 10 running_loss: 0.024995402565558225 Accuracy 42.05185138854141\n",
      "epoch 3 / 10 running_loss: 0.024377311453009726 Accuracy 43.632021833068\n",
      "epoch 4 / 10 running_loss: 0.023818034037424073 Accuracy 45.02267751016578\n",
      "epoch 4 / 10 running_loss: 0.023262276126966474 Accuracy 46.389904725243\n",
      "epoch 4 / 10 running_loss: 0.02275425806067689 Accuracy 47.626999374497366\n",
      "epoch 4 / 10 running_loss: 0.02230883567882841 Accuracy 48.711012425986155\n",
      "epoch 5 / 10 running_loss: 0.02189069510719246 Accuracy 49.76149515170472\n",
      "epoch 5 / 10 running_loss: 0.021468425105159464 Accuracy 50.764461289372974\n",
      "epoch 5 / 10 running_loss: 0.021085227038820053 Accuracy 51.69498887962191\n",
      "epoch 5 / 10 running_loss: 0.020736063842327856 Accuracy 52.557528970239666\n",
      "epoch 6 / 10 running_loss: 0.020389362618975018 Accuracy 53.406709415076634\n",
      "epoch 6 / 10 running_loss: 0.020040388275265233 Accuracy 54.22289246350908\n",
      "epoch 6 / 10 running_loss: 0.019727181239153704 Accuracy 54.96481376172875\n",
      "epoch 6 / 10 running_loss: 0.019450784856663763 Accuracy 55.63196899646451\n",
      "epoch 7 / 10 running_loss: 0.019138902210389757 Accuracy 56.386847044103845\n",
      "epoch 7 / 10 running_loss: 0.01884487256823109 Accuracy 57.072615353818435\n",
      "epoch 7 / 10 running_loss: 0.01858518386582156 Accuracy 57.70017322683091\n",
      "epoch 7 / 10 running_loss: 0.018362187835934286 Accuracy 58.23284450004633\n",
      "epoch 8 / 10 running_loss: 0.018110539246963278 Accuracy 58.83836409133563\n",
      "epoch 8 / 10 running_loss: 0.01786098742414073 Accuracy 59.41585055438112\n",
      "epoch 8 / 10 running_loss: 0.01763350586607879 Accuracy 59.943075190791944\n",
      "epoch 8 / 10 running_loss: 0.017426191507603946 Accuracy 60.43045522418177\n",
      "epoch 9 / 10 running_loss: 0.017195266632224537 Accuracy 60.96731310603691\n",
      "epoch 9 / 10 running_loss: 0.016976121471898756 Accuracy 61.48700523202912\n",
      "epoch 9 / 10 running_loss: 0.016773844634909003 Accuracy 61.94758242566971\n",
      "epoch 9 / 10 running_loss: 0.016588668602678262 Accuracy 62.377797040320274\n",
      "epoch 10 / 10 running_loss: 0.016382098342362733 Accuracy 62.86297049317068\n",
      "epoch 10 / 10 running_loss: 0.016183322406021612 Accuracy 63.3111283941433\n",
      "epoch 10 / 10 running_loss: 0.016005098636552834 Accuracy 63.7214796035953\n",
      "epoch 10 / 10 running_loss: 0.01585127442617003 Accuracy 64.08630866454945\n"
     ]
    }
   ],
   "source": [
    "#torch.set_printoptions(precision=2)\n",
    "def train_function(train_loader):\n",
    "    loss_running=0\n",
    "    count=0\n",
    "    count_batch=0\n",
    "    sum_acc=0\n",
    "\n",
    "    for epoch in range(epochs):\n",
    "\n",
    "        for image,label in iter(train_loader):\n",
    "\n",
    "            #input.resize_(input.size()[0], 784)   take to forward\n",
    "            y_pred=model(image)   #this is 64 (bacth_size)*10\n",
    "\n",
    "            if(count==0): print(y_pred.size(),label.size())\n",
    "            loss=criterion(y_pred,label)    #criterion(y_pred,label), crossentropy criterion need long (output of forward) and normal tensor (target)\n",
    "            loss_running=loss_running+loss.item()\n",
    "            optimizer.zero_grad()\n",
    "            loss.backward()\n",
    "            optimizer.step()\n",
    "            count=count+1\n",
    "            #y_pred_round=torch.round(y_pred)\n",
    "            count_batch=count_batch+(label.size()[0])\n",
    "            _,y_pred_=torch.max(y_pred,dim=1)    #argmax is the second value returned by torch.max()  ,this collapse dimension to batch size with argmax of probabililty/value (second) item, first one is the value itself \n",
    "\n",
    "            acc=(label==y_pred_).sum().item()    #/label.size()[0]\n",
    "            sum_acc=sum_acc+acc\n",
    "            if(count%200==0): print('epoch',epoch+1,'/',epochs,'running_loss:',(loss_running/count_batch),'Accuracy',(sum_acc*100/count_batch))\n",
    "\n",
    "        check_loss=(loss_running/count_batch)\n",
    "        lr_scheduler_.step(check_loss)\n",
    "\n",
    "train_function(train_loader)"
   ]
  },
  {
   "cell_type": "code",
   "execution_count": 17,
   "metadata": {},
   "outputs": [
    {
     "name": "stdout",
     "output_type": "stream",
     "text": [
      "running_loss: 0.014409492444247007 Accuracy 70.875\n"
     ]
    }
   ],
   "source": [
    "#torch.set_printoptions(precision=2)\n",
    "def test_function(test_loader):\n",
    "    loss_running=0\n",
    "    count=0\n",
    "    count_batch=0\n",
    "    sum_acc=0\n",
    "\n",
    "    for input,label in iter(test_loader):\n",
    "        model.eval()\n",
    "\n",
    "        #input.resize_(input.size()[0], 784)   take to forward\n",
    "        y_pred=model(input)   #this is 64 (bacth_size)*10\n",
    "\n",
    "        #if(count==0): print(y_pred.size(),label.size())\n",
    "        loss=criterion(y_pred,label)    #criterion(y_pred,label), crossentropy criterion need long (output of forward) and normal tensor (target)\n",
    "        loss_running=loss_running+loss.item()\n",
    "        count=count+1\n",
    "\n",
    "        count_batch=count_batch+(label.size()[0])\n",
    "        _,y_pred_=torch.max(y_pred,dim=1)    #argmax is the second value returned by torch.max()  ,this collapse dimension to batch size with argmax of probabililty/value (second) item, first one is the value itself \n",
    "\n",
    "        acc=(label==y_pred_).sum().item()    #/label.size()[0]\n",
    "        sum_acc=sum_acc+acc\n",
    "        if(count%100==0): print('running_loss:',(loss_running/count_batch),'Accuracy',(sum_acc*100/count_batch))\n",
    "\n",
    "\n",
    "\n",
    "\n",
    "test_function(test_loader)   # w/o convnet :result show over fitting on train 64%, but overall 50% on test is not too bad wihtout convnet\n",
    "#w/ convnet just after 5 epoch training the test got to 63% (50% train)\n",
    "#after 10 epoch test get to 66% pretty good without big networks\n",
    "\n",
    "#CiFAR10 with inception better in training improve to 64% but not much better for test at 64% (may be need derop out and more fc)\n",
    "\n",
    "#after more fc on top of inception got to 70% test, "
   ]
  },
  {
   "cell_type": "code",
   "execution_count": null,
   "metadata": {},
   "outputs": [],
   "source": []
  },
  {
   "cell_type": "code",
   "execution_count": null,
   "metadata": {},
   "outputs": [],
   "source": []
  }
 ],
 "metadata": {
  "kernelspec": {
   "display_name": "Python [conda env:Anaconda3]",
   "language": "python",
   "name": "conda-env-Anaconda3-py"
  },
  "language_info": {
   "codemirror_mode": {
    "name": "ipython",
    "version": 3
   },
   "file_extension": ".py",
   "mimetype": "text/x-python",
   "name": "python",
   "nbconvert_exporter": "python",
   "pygments_lexer": "ipython3",
   "version": "3.6.4"
  }
 },
 "nbformat": 4,
 "nbformat_minor": 2
}
