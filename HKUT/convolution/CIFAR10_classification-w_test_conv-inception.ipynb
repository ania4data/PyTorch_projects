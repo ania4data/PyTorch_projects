{
 "cells": [
  {
   "cell_type": "code",
   "execution_count": 1,
   "metadata": {},
   "outputs": [],
   "source": [
    "import numpy as np\n",
    "import torch\n",
    "import torchvision\n",
    "from torch.utils.data import DataLoader,Dataset\n",
    "from torchvision import datasets,transforms,utils\n",
    "import matplotlib.pyplot as plt\n",
    "import torch.nn.functional as F\n",
    "\n"
   ]
  },
  {
   "cell_type": "code",
   "execution_count": 2,
   "metadata": {},
   "outputs": [
    {
     "name": "stdout",
     "output_type": "stream",
     "text": [
      "Files already downloaded and verified\n",
      "Files already downloaded and verified\n"
     ]
    }
   ],
   "source": [
    "transform = transforms.Compose(\n",
    "    [transforms.ToTensor(),transforms.Normalize((0.4914, 0.4822, 0.4465), (0.247, 0.243, 0.261))])   #needed to do grayscale cob=nversion before normalizing to tensor\n",
    "trainset=datasets.CIFAR10('CIFAR10/',train=True,transform=transform,download=True)\n",
    "train_loader=DataLoader(trainset,batch_size=64,shuffle=True) #use all three channels\n",
    "\n",
    "testset=datasets.CIFAR10('CIFAR10/',train=False,transform=transform,download=True)\n",
    "test_loader=DataLoader(testset,batch_size=64,shuffle=True)\n"
   ]
  },
  {
   "cell_type": "code",
   "execution_count": 3,
   "metadata": {
    "scrolled": true
   },
   "outputs": [
    {
     "name": "stdout",
     "output_type": "stream",
     "text": [
      "torch.Size([64, 3, 32, 32])\n",
      "torch.Size([64])\n"
     ]
    },
    {
     "data": {
      "text/plain": [
       "<matplotlib.image.AxesImage at 0x1ebce47d0b8>"
      ]
     },
     "execution_count": 3,
     "metadata": {},
     "output_type": "execute_result"
    },
    {
     "data": {
      "image/png": "[encoded data removed]",
      "text/plain": [
       "<Figure size 432x288 with 1 Axes>"
      ]
     },
     "metadata": {},
     "output_type": "display_data"
    }
   ],
   "source": [
    "image,label=next(iter(train_loader))\n",
    "print(image.size())\n",
    "print(label.size())\n",
    "plt.imshow(image[0][0,:])"
   ]
  },
  {
   "cell_type": "code",
   "execution_count": 4,
   "metadata": {},
   "outputs": [
    {
     "data": {
      "text/plain": [
       "tensor([ 0,  2,  9,  6,  1,  6,  4,  2,  6,  4,  4,  5,  3,  6,\n",
       "         9,  7,  4,  2,  1,  4,  8,  8,  2,  5,  1,  9,  8,  8,\n",
       "         0,  5,  1,  3,  7,  6,  8,  4,  9,  7,  2,  8,  6,  8,\n",
       "         8,  4,  7,  3,  1,  5,  3,  5,  0,  6,  0,  8,  6,  5,\n",
       "         2,  5,  9,  2,  3,  2,  1,  1])"
      ]
     },
     "execution_count": 4,
     "metadata": {},
     "output_type": "execute_result"
    }
   ],
   "source": [
    "label"
   ]
  },
  {
   "cell_type": "code",
   "execution_count": 5,
   "metadata": {},
   "outputs": [],
   "source": [
    "class inception_(torch.nn.Module):\n",
    "    \n",
    "    def __init__(self,input_):\n",
    "        super(inception_,self).__init__()\n",
    "           \n",
    "        self.conv1_1_1=torch.nn.Conv2d(input_,16,kernel_size=1)\n",
    "        \n",
    "        self.conv1_1_2=torch.nn.Conv2d(input_,16,kernel_size=1)\n",
    "        self.conv5_5_2=torch.nn.Conv2d(16,24,kernel_size=5,padding=2)\n",
    "        \n",
    "        self.conv1_1_3=torch.nn.Conv2d(input_,16,kernel_size=1) \n",
    "        self.conv3_3_1_3=torch.nn.Conv2d(16,24,kernel_size=3,padding=1)\n",
    "        self.conv3_3_2_3=torch.nn.Conv2d(24,24,kernel_size=3,padding=1)\n",
    "        \n",
    "        #self.avgpool4=torch.nn.AvgPool2d(kernel_size=3,stride=1,padding=1)\n",
    "        self.conv1_1_4=torch.nn.Conv2d(input_,24,kernel_size=1)\n",
    "\n",
    "   \n",
    "    def forward(self,x): \n",
    "        \n",
    "        #input_=x.size(0)\n",
    "        #x=x.view(-1)  ?\n",
    "        x1_1=self.conv1_1_1(x)\n",
    "        \n",
    "        x5_5=self.conv1_1_2(x)\n",
    "        x5_5=self.conv5_5_2(x5_5)\n",
    "        \n",
    "        x3_3=self.conv1_1_3(x)\n",
    "        x3_3=self.conv3_3_1_3(x3_3)\n",
    "        x3_3=self.conv3_3_2_3(x3_3)\n",
    "        \n",
    "        xpool=F.avg_pool2d(x,kernel_size=3,stride=1,padding=1)\n",
    "        xpool=self.conv1_1_4(xpool)\n",
    "        \n",
    "        outputs=[x1_1,x5_5,x3_3,xpool]\n",
    "        \n",
    "        return torch.cat(outputs,1)\n",
    "        \n",
    "    "
   ]
  },
  {
   "cell_type": "code",
   "execution_count": 6,
   "metadata": {},
   "outputs": [],
   "source": [
    "class Network(torch.nn.Module):\n",
    "    \n",
    "    def __init__(self):\n",
    "        super(Network,self).__init__()\n",
    "        self.conv1=torch.nn.Conv2d(3,10,kernel_size=5)\n",
    "        self.conv2=torch.nn.Conv2d(88,20,kernel_size=5)\n",
    "        \n",
    "        self.incept1=inception_(input_=10)\n",
    "        self.incept2=inception_(input_=20)\n",
    "        \n",
    "        self.mp=torch.nn.MaxPool2d(2)\n",
    "        self.fc=torch.nn.Linear(2200,10)\n",
    "        \n",
    "        \n",
    "        \n",
    "    def forward(self,x):\n",
    "        \n",
    "        input_size=x.size(0)\n",
    "        x=F.relu(self.mp(self.conv1(x)))\n",
    "        \n",
    "        x=self.incept1(x)\n",
    "        \n",
    "        x=F.relu(self.mp(self.conv2(x)))\n",
    "        \n",
    "        x=self.incept2(x)\n",
    "        \n",
    "        x=x.view(input_size,-1)\n",
    "        \n",
    "        x=self.fc(x)\n",
    "        y_pred=x\n",
    "        \n",
    "        return y_pred\n",
    "\n",
    "model=Network()    \n",
    "    "
   ]
  },
  {
   "cell_type": "code",
   "execution_count": 7,
   "metadata": {},
   "outputs": [],
   "source": [
    "epochs=10\n",
    "criterion=torch.nn.CrossEntropyLoss()  #if increase the lr to 0.1, it kicks to local min and stays\n",
    "optimizer=torch.optim.SGD(model.parameters(),lr=0.01,momentum=0.9)  #had to change from SGD to Adam but later noy much difference\n",
    "lr_scheduler_=torch.optim.lr_scheduler.ReduceLROnPlateau(optimizer, 'min')\n",
    "#lr_scheduler_=torch.optim.lr_scheduler.CosineAnnealingLR(optimizer,T_max=epochs)"
   ]
  },
  {
   "cell_type": "code",
   "execution_count": 8,
   "metadata": {},
   "outputs": [
    {
     "name": "stdout",
     "output_type": "stream",
     "text": [
      "torch.Size([64, 10]) torch.Size([64])\n",
      "epoch 1 / 10 running_loss: 0.029214067105203866 Accuracy 30.890625\n",
      "epoch 1 / 10 running_loss: 0.026458006780594588 Accuracy 37.8828125\n",
      "epoch 1 / 10 running_loss: 0.024848014408101637 Accuracy 42.0625\n",
      "epoch 2 / 10 running_loss: 0.02374540111950162 Accuracy 44.97380356584298\n",
      "epoch 2 / 10 running_loss: 0.02283201101596039 Accuracy 47.30891918939204\n",
      "epoch 2 / 10 running_loss: 0.022138224578019304 Accuracy 49.009797790285596\n",
      "epoch 2 / 10 running_loss: 0.0215778627953871 Accuracy 50.41540110773629\n",
      "epoch 3 / 10 running_loss: 0.021109987050294876 Accuracy 51.60893024710666\n",
      "epoch 3 / 10 running_loss: 0.02061932660744924 Accuracy 52.8634973589102\n",
      "epoch 3 / 10 running_loss: 0.020274321052106227 Accuracy 53.76219664748562\n",
      "epoch 3 / 10 running_loss: 0.019954776537534944 Accuracy 54.55637366386173\n",
      "epoch 4 / 10 running_loss: 0.019636832508568767 Accuracy 55.38786362214576\n",
      "epoch 4 / 10 running_loss: 0.019344682601874653 Accuracy 56.087599846020595\n",
      "epoch 4 / 10 running_loss: 0.019119851685978538 Accuracy 56.638146725046916\n",
      "epoch 4 / 10 running_loss: 0.018907816035354737 Accuracy 57.188724876991074\n",
      "epoch 5 / 10 running_loss: 0.018703357062530044 Accuracy 57.70644354081952\n",
      "epoch 5 / 10 running_loss: 0.018494056264957873 Accuracy 58.223248454518696\n",
      "epoch 5 / 10 running_loss: 0.018333356989061366 Accuracy 58.62567764804003\n",
      "epoch 5 / 10 running_loss: 0.018186300080039013 Accuracy 58.995588622596784\n",
      "epoch 6 / 10 running_loss: 0.01802039099568813 Accuracy 59.41781357522677\n",
      "epoch 6 / 10 running_loss: 0.01785981639374091 Accuracy 59.799672326481975\n",
      "epoch 6 / 10 running_loss: 0.017717183965692846 Accuracy 60.159937446687515\n",
      "epoch 6 / 10 running_loss: 0.01760711247151576 Accuracy 60.42935817242317\n",
      "epoch 7 / 10 running_loss: 0.017485778693631392 Accuracy 60.72620164737775\n",
      "epoch 7 / 10 running_loss: 0.017373228098978278 Accuracy 60.97769242318086\n",
      "epoch 7 / 10 running_loss: 0.017261044768853713 Accuracy 61.247413627177366\n",
      "epoch 7 / 10 running_loss: 0.017171755211018547 Accuracy 61.470785840051896\n",
      "epoch 8 / 10 running_loss: 0.017061134377330738 Accuracy 61.748179096474374\n",
      "epoch 8 / 10 running_loss: 0.016957840404948448 Accuracy 61.98552569135856\n",
      "epoch 8 / 10 running_loss: 0.016872244476485932 Accuracy 62.18227407314734\n",
      "epoch 8 / 10 running_loss: 0.016784077793028405 Accuracy 62.409701763590135\n",
      "epoch 9 / 10 running_loss: 0.016699061793466568 Accuracy 62.62756099468251\n",
      "epoch 9 / 10 running_loss: 0.016618962282081005 Accuracy 62.832688808007276\n",
      "epoch 9 / 10 running_loss: 0.016534183800074088 Accuracy 63.03148918163085\n",
      "epoch 9 / 10 running_loss: 0.016462651685730884 Accuracy 63.19858986273949\n",
      "epoch 10 / 10 running_loss: 0.016380035196763173 Accuracy 63.39298126716019\n",
      "epoch 10 / 10 running_loss: 0.01630287913038268 Accuracy 63.56959895850945\n",
      "epoch 10 / 10 running_loss: 0.016244111057443632 Accuracy 63.70234254107266\n",
      "epoch 10 / 10 running_loss: 0.016187528578865493 Accuracy 63.84371090366663\n"
     ]
    }
   ],
   "source": [
    "#torch.set_printoptions(precision=2)\n",
    "def train_function(train_loader):\n",
    "    loss_running=0\n",
    "    count=0\n",
    "    count_batch=0\n",
    "    sum_acc=0\n",
    "\n",
    "    for epoch in range(epochs):\n",
    "\n",
    "        for image,label in iter(train_loader):\n",
    "\n",
    "            #input.resize_(input.size()[0], 784)   take to forward\n",
    "            y_pred=model(image)   #this is 64 (bacth_size)*10\n",
    "\n",
    "            if(count==0): print(y_pred.size(),label.size())\n",
    "            loss=criterion(y_pred,label)    #criterion(y_pred,label), crossentropy criterion need long (output of forward) and normal tensor (target)\n",
    "            loss_running=loss_running+loss.item()\n",
    "            optimizer.zero_grad()\n",
    "            loss.backward()\n",
    "            optimizer.step()\n",
    "            count=count+1\n",
    "            #y_pred_round=torch.round(y_pred)\n",
    "            count_batch=count_batch+(label.size()[0])\n",
    "            _,y_pred_=torch.max(y_pred,dim=1)    #argmax is the second value returned by torch.max()  ,this collapse dimension to batch size with argmax of probabililty/value (second) item, first one is the value itself \n",
    "\n",
    "            acc=(label==y_pred_).sum().item()    #/label.size()[0]\n",
    "            sum_acc=sum_acc+acc\n",
    "            if(count%200==0): print('epoch',epoch+1,'/',epochs,'running_loss:',(loss_running/count_batch),'Accuracy',(sum_acc*100/count_batch))\n",
    "\n",
    "        check_loss=(loss_running/count_batch)\n",
    "        lr_scheduler_.step(check_loss)\n",
    "\n",
    "train_function(train_loader)"
   ]
  },
  {
   "cell_type": "code",
   "execution_count": 9,
   "metadata": {},
   "outputs": [
    {
     "name": "stdout",
     "output_type": "stream",
     "text": [
      "running_loss: 0.01664876247756183 Accuracy 64.921875\n"
     ]
    }
   ],
   "source": [
    "#torch.set_printoptions(precision=2)\n",
    "def test_function(test_loader):\n",
    "    loss_running=0\n",
    "    count=0\n",
    "    count_batch=0\n",
    "    sum_acc=0\n",
    "\n",
    "    for input,label in iter(test_loader):\n",
    "        model.eval()\n",
    "\n",
    "        #input.resize_(input.size()[0], 784)   take to forward\n",
    "        y_pred=model(input)   #this is 64 (bacth_size)*10\n",
    "\n",
    "        #if(count==0): print(y_pred.size(),label.size())\n",
    "        loss=criterion(y_pred,label)    #criterion(y_pred,label), crossentropy criterion need long (output of forward) and normal tensor (target)\n",
    "        loss_running=loss_running+loss.item()\n",
    "        count=count+1\n",
    "\n",
    "        count_batch=count_batch+(label.size()[0])\n",
    "        _,y_pred_=torch.max(y_pred,dim=1)    #argmax is the second value returned by torch.max()  ,this collapse dimension to batch size with argmax of probabililty/value (second) item, first one is the value itself \n",
    "\n",
    "        acc=(label==y_pred_).sum().item()    #/label.size()[0]\n",
    "        sum_acc=sum_acc+acc\n",
    "        if(count%100==0): print('running_loss:',(loss_running/count_batch),'Accuracy',(sum_acc*100/count_batch))\n",
    "\n",
    "\n",
    "\n",
    "\n",
    "test_function(test_loader)   # w/o convnet :result show over fitting on train 64%, but overall 50% on test is not too bad wihtout convnet\n",
    "#w/ convnet just after 5 epoch training the test got to 63% (50% train)\n",
    "#after 10 epoch test get to 66% pretty good without big networks\n",
    "\n",
    "#CiFAR10 with inception better in training improve to 64% but not much better for test at 64% (may be need derop out and more fc)"
   ]
  },
  {
   "cell_type": "code",
   "execution_count": null,
   "metadata": {},
   "outputs": [],
   "source": []
  },
  {
   "cell_type": "code",
   "execution_count": 33,
   "metadata": {},
   "outputs": [
    {
     "ename": "NameError",
     "evalue": "name 'y_pred' is not defined",
     "output_type": "error",
     "traceback": [
      "\u001b[1;31m---------------------------------------------------------------------------\u001b[0m",
      "\u001b[1;31mNameError\u001b[0m                                 Traceback (most recent call last)",
      "\u001b[1;32m<ipython-input-33-3aaf935e6aec>\u001b[0m in \u001b[0;36m<module>\u001b[1;34m()\u001b[0m\n\u001b[1;32m----> 1\u001b[1;33m \u001b[0my_pred\u001b[0m\u001b[1;33m\u001b[0m\u001b[0m\n\u001b[0m",
      "\u001b[1;31mNameError\u001b[0m: name 'y_pred' is not defined"
     ]
    }
   ],
   "source": [
    "y_pred"
   ]
  },
  {
   "cell_type": "code",
   "execution_count": null,
   "metadata": {},
   "outputs": [],
   "source": []
  }
 ],
 "metadata": {
  "kernelspec": {
   "display_name": "Python [conda env:Anaconda3]",
   "language": "python",
   "name": "conda-env-Anaconda3-py"
  },
  "language_info": {
   "codemirror_mode": {
    "name": "ipython",
    "version": 3
   },
   "file_extension": ".py",
   "mimetype": "text/x-python",
   "name": "python",
   "nbconvert_exporter": "python",
   "pygments_lexer": "ipython3",
   "version": "3.6.4"
  }
 },
 "nbformat": 4,
 "nbformat_minor": 2
}
