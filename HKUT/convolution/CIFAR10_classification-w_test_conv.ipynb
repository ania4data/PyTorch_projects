{
 "cells": [
  {
   "cell_type": "code",
   "execution_count": 42,
   "metadata": {},
   "outputs": [],
   "source": [
    "import numpy as np\n",
    "import torch\n",
    "import torchvision\n",
    "from torch.utils.data import DataLoader,Dataset\n",
    "from torchvision import datasets,transforms,utils\n",
    "import matplotlib.pyplot as plt\n",
    "import torch.nn.functional as F\n",
    "\n"
   ]
  },
  {
   "cell_type": "code",
   "execution_count": 43,
   "metadata": {},
   "outputs": [
    {
     "name": "stdout",
     "output_type": "stream",
     "text": [
      "Files already downloaded and verified\n",
      "Files already downloaded and verified\n"
     ]
    }
   ],
   "source": [
    "transform = transforms.Compose(\n",
    "    [transforms.ToTensor(),transforms.Normalize((0.4914, 0.4822, 0.4465), (0.247, 0.243, 0.261))])   #needed to do grayscale cob=nversion before normalizing to tensor\n",
    "trainset=datasets.CIFAR10('CIFAR10/',train=True,transform=transform,download=True)\n",
    "train_loader=DataLoader(trainset,batch_size=64,shuffle=True) #use all three channels\n",
    "\n",
    "testset=datasets.CIFAR10('CIFAR10/',train=False,transform=transform,download=True)\n",
    "test_loader=DataLoader(testset,batch_size=64,shuffle=True)\n"
   ]
  },
  {
   "cell_type": "code",
   "execution_count": 44,
   "metadata": {
    "scrolled": true
   },
   "outputs": [
    {
     "name": "stdout",
     "output_type": "stream",
     "text": [
      "torch.Size([64, 3, 32, 32])\n",
      "torch.Size([64])\n"
     ]
    },
    {
     "data": {
      "text/plain": [
       "<matplotlib.image.AxesImage at 0x2add069f0b8>"
      ]
     },
     "execution_count": 44,
     "metadata": {},
     "output_type": "execute_result"
    },
    {
     "data": {
      "image/png": "[encoded data removed]",
      "text/plain": [
       "<Figure size 432x288 with 1 Axes>"
      ]
     },
     "metadata": {},
     "output_type": "display_data"
    }
   ],
   "source": [
    "image,label=next(iter(train_loader))\n",
    "print(image.size())\n",
    "print(label.size())\n",
    "plt.imshow(image[0][0,:])"
   ]
  },
  {
   "cell_type": "code",
   "execution_count": 45,
   "metadata": {},
   "outputs": [
    {
     "data": {
      "text/plain": [
       "tensor([ 0,  0,  9,  1,  4,  3,  2,  5,  6,  0,  6,  1,  7,  5,\n",
       "         9,  8,  9,  0,  1,  3,  0,  8,  4,  7,  9,  4,  1,  5,\n",
       "         4,  8,  3,  1,  5,  0,  1,  4,  1,  0,  2,  0,  4,  4,\n",
       "         6,  5,  8,  0,  2,  1,  4,  2,  4,  2,  6,  6,  9,  1,\n",
       "         0,  5,  0,  5,  5,  5,  7,  6])"
      ]
     },
     "execution_count": 45,
     "metadata": {},
     "output_type": "execute_result"
    }
   ],
   "source": [
    "label"
   ]
  },
  {
   "cell_type": "code",
   "execution_count": 46,
   "metadata": {},
   "outputs": [],
   "source": [
    "class Network(torch.nn.Module):\n",
    "    \n",
    "    def __init__(self):\n",
    "        super(Network,self).__init__()\n",
    "        self.conv1=torch.nn.Conv2d(3,10,kernel_size=5)\n",
    "        self.conv2=torch.nn.Conv2d(10,20,kernel_size=5)\n",
    "        self.mxpool1=torch.nn.MaxPool2d(2)\n",
    "        self.fc1=torch.nn.Linear(500,200)\n",
    "        self.dropout1=torch.nn.Dropout(p=0.2)\n",
    "        self.fc2=torch.nn.Linear(200,100)\n",
    "        self.dropout2=torch.nn.Dropout(p=0.2)\n",
    "        self.fc3=torch.nn.Linear(100,10)\n",
    "        \n",
    "        \n",
    "        \n",
    "    def forward(self,x):\n",
    "        \n",
    "        input_size=x.size(0)\n",
    "        x=F.relu(self.mxpool1(self.conv1(x)))\n",
    "        x=F.relu(self.mxpool1(self.conv2(x)))\n",
    "        x=x.view(input_size,-1) #flatten the tensor\n",
    "        x=F.relu(self.fc1(x))\n",
    "        x=self.dropout1(x)\n",
    "        x=F.relu(self.fc2(x))  \n",
    "        x=self.dropout2(x)\n",
    "        x=F.relu(self.fc3(x))\n",
    "        y_pred=x                                                 \n",
    "                    \n",
    "        #x=x.view(-1,1024)  #flatten in forward instead of train\n",
    "\n",
    "         #sof max at end, or sigmoid all the way did not work out\n",
    "        #y_pred=F.softmax(out4,dim=1)   #if don't need probability as out put not necessary output4 is batch_size*10\n",
    "\n",
    "        return y_pred\n",
    "\n",
    "model=Network()    \n",
    "    "
   ]
  },
  {
   "cell_type": "code",
   "execution_count": 47,
   "metadata": {},
   "outputs": [],
   "source": [
    "epochs=10\n",
    "criterion=torch.nn.CrossEntropyLoss()  #if increase the lr to 0.1, it kicks to local min and stays\n",
    "optimizer=torch.optim.SGD(model.parameters(),lr=0.01,momentum=0.9)  #had to change from SGD to Adam but later noy much difference\n",
    "lr_scheduler_=torch.optim.lr_scheduler.ReduceLROnPlateau(optimizer, 'min')\n",
    "#lr_scheduler_=torch.optim.lr_scheduler.CosineAnnealingLR(optimizer,T_max=epochs)"
   ]
  },
  {
   "cell_type": "code",
   "execution_count": 48,
   "metadata": {},
   "outputs": [
    {
     "name": "stdout",
     "output_type": "stream",
     "text": [
      "torch.Size([64, 10]) torch.Size([64])\n",
      "epoch 1 / 10 running_loss: 0.0354797759372741 Accuracy 14.828125\n",
      "epoch 1 / 10 running_loss: 0.032295448537915945 Accuracy 22.91796875\n",
      "epoch 1 / 10 running_loss: 0.030054268430297574 Accuracy 28.5390625\n",
      "epoch 2 / 10 running_loss: 0.028547552087678365 Accuracy 32.524632467938694\n",
      "epoch 2 / 10 running_loss: 0.02737326832608876 Accuracy 35.5266449837378\n",
      "epoch 2 / 10 running_loss: 0.02645469666434398 Accuracy 37.81008963935793\n",
      "epoch 2 / 10 running_loss: 0.025700199815957316 Accuracy 39.72998927997141\n",
      "epoch 3 / 10 running_loss: 0.02506033534432878 Accuracy 41.41773537691586\n",
      "epoch 3 / 10 running_loss: 0.02446680700767362 Accuracy 42.95072282457603\n",
      "epoch 3 / 10 running_loss: 0.02395257202608752 Accuracy 44.23082937202902\n",
      "epoch 3 / 10 running_loss: 0.023521140075022047 Accuracy 45.290823288605864\n",
      "epoch 4 / 10 running_loss: 0.02313190417449885 Accuracy 46.28427692628506\n",
      "epoch 4 / 10 running_loss: 0.02275242737062672 Accuracy 47.19107881820806\n",
      "epoch 4 / 10 running_loss: 0.022372201170641492 Accuracy 48.14806540970422\n",
      "epoch 4 / 10 running_loss: 0.022076823861500446 Accuracy 48.868943374197315\n",
      "epoch 5 / 10 running_loss: 0.021784955762969932 Accuracy 49.62611432593056\n",
      "epoch 5 / 10 running_loss: 0.021482718067749797 Accuracy 50.41396820724168\n",
      "epoch 5 / 10 running_loss: 0.021244878089430846 Accuracy 51.02385668612733\n",
      "epoch 5 / 10 running_loss: 0.021007698729059353 Accuracy 51.599124308664734\n",
      "epoch 6 / 10 running_loss: 0.020770980128980557 Accuracy 52.17860494213325\n",
      "epoch 6 / 10 running_loss: 0.02053845626770083 Accuracy 52.76213881441763\n",
      "epoch 6 / 10 running_loss: 0.020332391691421425 Accuracy 53.27232015922662\n",
      "epoch 6 / 10 running_loss: 0.020126412273150342 Accuracy 53.78535490889312\n",
      "epoch 7 / 10 running_loss: 0.019933434705487967 Accuracy 54.26278542383484\n",
      "epoch 7 / 10 running_loss: 0.01973386984585093 Accuracy 54.77492243018717\n",
      "epoch 7 / 10 running_loss: 0.019548204408664754 Accuracy 55.23018718121451\n",
      "epoch 7 / 10 running_loss: 0.019387143286648104 Accuracy 55.62795385043091\n",
      "epoch 8 / 10 running_loss: 0.01921244080951788 Accuracy 56.054504222708786\n",
      "epoch 8 / 10 running_loss: 0.01904264279617947 Accuracy 56.47407135769446\n",
      "epoch 8 / 10 running_loss: 0.018883031388274216 Accuracy 56.85104674923892\n",
      "epoch 8 / 10 running_loss: 0.018739097392400532 Accuracy 57.21099519754631\n",
      "epoch 9 / 10 running_loss: 0.01857837408659866 Accuracy 57.596232796371595\n",
      "epoch 9 / 10 running_loss: 0.01842215712500574 Accuracy 57.971261753108884\n",
      "epoch 9 / 10 running_loss: 0.01828293863687777 Accuracy 58.29224315572564\n",
      "epoch 9 / 10 running_loss: 0.018164278662792566 Accuracy 58.573643480125824\n",
      "epoch 10 / 10 running_loss: 0.018013621134618043 Accuracy 58.93155041184444\n",
      "epoch 10 / 10 running_loss: 0.017878861443259883 Accuracy 59.239424475027896\n",
      "epoch 10 / 10 running_loss: 0.017759424522634404 Accuracy 59.52202614163895\n",
      "epoch 10 / 10 running_loss: 0.017649273356210124 Accuracy 59.79513521316524\n"
     ]
    }
   ],
   "source": [
    "#torch.set_printoptions(precision=2)\n",
    "def train_function(train_loader):\n",
    "    loss_running=0\n",
    "    count=0\n",
    "    count_batch=0\n",
    "    sum_acc=0\n",
    "\n",
    "    for epoch in range(epochs):\n",
    "\n",
    "        for input,label in iter(train_loader):\n",
    "\n",
    "            #input.resize_(input.size()[0], 784)   take to forward\n",
    "            y_pred=model(input)   #this is 64 (bacth_size)*10\n",
    "\n",
    "            if(count==0): print(y_pred.size(),label.size())\n",
    "            loss=criterion(y_pred,label)    #criterion(y_pred,label), crossentropy criterion need long (output of forward) and normal tensor (target)\n",
    "            loss_running=loss_running+loss.item()\n",
    "            optimizer.zero_grad()\n",
    "            loss.backward()\n",
    "            optimizer.step()\n",
    "            count=count+1\n",
    "            #y_pred_round=torch.round(y_pred)\n",
    "            count_batch=count_batch+(label.size()[0])\n",
    "            _,y_pred_=torch.max(y_pred,dim=1)    #argmax is the second value returned by torch.max()  ,this collapse dimension to batch size with argmax of probabililty/value (second) item, first one is the value itself \n",
    "\n",
    "            acc=(label==y_pred_).sum().item()    #/label.size()[0]\n",
    "            sum_acc=sum_acc+acc\n",
    "            if(count%200==0): print('epoch',epoch+1,'/',epochs,'running_loss:',(loss_running/count_batch),'Accuracy',(sum_acc*100/count_batch))\n",
    "\n",
    "        check_loss=(loss_running/count_batch)\n",
    "        lr_scheduler_.step(check_loss)\n",
    "\n",
    "train_function(train_loader)"
   ]
  },
  {
   "cell_type": "code",
   "execution_count": 50,
   "metadata": {},
   "outputs": [
    {
     "name": "stdout",
     "output_type": "stream",
     "text": [
      "running_loss: 0.015260435463860631 Accuracy 66.375\n"
     ]
    }
   ],
   "source": [
    "#torch.set_printoptions(precision=2)\n",
    "def test_function(test_loader):\n",
    "    loss_running=0\n",
    "    count=0\n",
    "    count_batch=0\n",
    "    sum_acc=0\n",
    "\n",
    "    for input,label in iter(test_loader):\n",
    "        model.eval()\n",
    "\n",
    "        #input.resize_(input.size()[0], 784)   take to forward\n",
    "        y_pred=model(input)   #this is 64 (bacth_size)*10\n",
    "\n",
    "        #if(count==0): print(y_pred.size(),label.size())\n",
    "        loss=criterion(y_pred,label)    #criterion(y_pred,label), crossentropy criterion need long (output of forward) and normal tensor (target)\n",
    "        loss_running=loss_running+loss.item()\n",
    "        count=count+1\n",
    "\n",
    "        count_batch=count_batch+(label.size()[0])\n",
    "        _,y_pred_=torch.max(y_pred,dim=1)    #argmax is the second value returned by torch.max()  ,this collapse dimension to batch size with argmax of probabililty/value (second) item, first one is the value itself \n",
    "\n",
    "        acc=(label==y_pred_).sum().item()    #/label.size()[0]\n",
    "        sum_acc=sum_acc+acc\n",
    "        if(count%100==0): print('running_loss:',(loss_running/count_batch),'Accuracy',(sum_acc*100/count_batch))\n",
    "\n",
    "\n",
    "\n",
    "\n",
    "test_function(test_loader)   # w/o convnet :result show over fitting on train 64%, but overall 50% on test is not too bad wihtout convnet\n",
    "#w/ convnet just after 5 epoch training the test got to 63% (50% train)\n",
    "#after 10 epoch test get to 66% pretty good without big networks"
   ]
  },
  {
   "cell_type": "code",
   "execution_count": null,
   "metadata": {},
   "outputs": [],
   "source": []
  },
  {
   "cell_type": "code",
   "execution_count": null,
   "metadata": {},
   "outputs": [],
   "source": []
  }
 ],
 "metadata": {
  "kernelspec": {
   "display_name": "Python [conda env:Anaconda3]",
   "language": "python",
   "name": "conda-env-Anaconda3-py"
  },
  "language_info": {
   "codemirror_mode": {
    "name": "ipython",
    "version": 3
   },
   "file_extension": ".py",
   "mimetype": "text/x-python",
   "name": "python",
   "nbconvert_exporter": "python",
   "pygments_lexer": "ipython3",
   "version": "3.6.4"
  }
 },
 "nbformat": 4,
 "nbformat_minor": 2
}
