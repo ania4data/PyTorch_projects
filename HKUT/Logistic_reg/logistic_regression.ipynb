{
 "cells": [
  {
   "cell_type": "code",
   "execution_count": 70,
   "metadata": {},
   "outputs": [],
   "source": [
    "import numpy as np\n",
    "import torch\n",
    "import torch.nn.functional as F\n",
    "from torch.autograd import Variable\n",
    "import matplotlib.pyplot as plt"
   ]
  },
  {
   "cell_type": "code",
   "execution_count": 71,
   "metadata": {},
   "outputs": [],
   "source": [
    "x_data=Variable(torch.tensor([[1.0],[2.0],[3.0],[4.0]]))  # this makes is 3*1,  only one feature, require grad default to false\n",
    "y_data=Variable(torch.tensor([[0.0],[0.0],[1.0],[1.0]]))   #Variable:Wraps a tensor and records the operations applied to it\n",
    "epochs=500"
   ]
  },
  {
   "cell_type": "code",
   "execution_count": 72,
   "metadata": {},
   "outputs": [],
   "source": [
    "class Model(torch.nn.Module):\n",
    "    def __init__(self):\n",
    "        super(Model,self).__init__()   #call in the init of the nn.Module\n",
    "        self.fc1=torch.nn.Linear(1,1)  #one feature in, one feature out 1*1\n",
    "        \n",
    "    def forward(self,x):  \n",
    "        \n",
    "        y_pred=F.sigmoid(self.fc1(x))\n",
    "        \n",
    "        return y_pred\n",
    "        "
   ]
  },
  {
   "cell_type": "code",
   "execution_count": 73,
   "metadata": {},
   "outputs": [],
   "source": [
    "model=Model()"
   ]
  },
  {
   "cell_type": "code",
   "execution_count": 74,
   "metadata": {},
   "outputs": [
    {
     "name": "stdout",
     "output_type": "stream",
     "text": [
      "<bound method Module.parameters of Model(\n",
      "  (fc1): Linear(in_features=1, out_features=1, bias=True)\n",
      ")>\n"
     ]
    }
   ],
   "source": [
    "print(model.parameters)"
   ]
  },
  {
   "cell_type": "code",
   "execution_count": 75,
   "metadata": {},
   "outputs": [
    {
     "name": "stdout",
     "output_type": "stream",
     "text": [
      "tensor([ 0.2741])\n",
      "tensor(-0.3809)\n"
     ]
    }
   ],
   "source": [
    "for parameter in model.parameters(): print((parameter[0]))   #initillizing it on its own"
   ]
  },
  {
   "cell_type": "code",
   "execution_count": 76,
   "metadata": {},
   "outputs": [
    {
     "data": {
      "text/plain": [
       "[Parameter containing:\n",
       " tensor([[ 0.2741]]), Parameter containing:\n",
       " tensor([-0.3809])]"
      ]
     },
     "execution_count": 76,
     "metadata": {},
     "output_type": "execute_result"
    }
   ],
   "source": [
    "list((model.parameters()))"
   ]
  },
  {
   "cell_type": "code",
   "execution_count": 77,
   "metadata": {},
   "outputs": [],
   "source": [
    "criterion=torch.nn.BCELoss(size_average=True)   #loss initilization, binary cross entropy\n",
    "#optimizer=torch.optim.SGD(model.parameters(),lr=0.01)  #init SGD with initilized model.paramter  (w/ grad, weight and bias)\n",
    "#optimizer=torch.optim.Adam(model.parameters(),lr=0.1)\n",
    "#optimizer=torch.optim.SGD(model.parameters(),lr=0.01,momentum=0.9)\n",
    "optimizer=torch.optim.SGD(model.parameters(),lr=0.1)\n",
    "\n",
    "#torch.optim will hold the current state and will update the parameters based on the computed gradients. iterable containing the parameters (Variable)"
   ]
  },
  {
   "cell_type": "code",
   "execution_count": 78,
   "metadata": {},
   "outputs": [
    {
     "name": "stdout",
     "output_type": "stream",
     "text": [
      "epoch: 0 loss: tensor(0.5790) 2.0 tensor([ 0.5514]) 4.0 tensor([ 0.6902]) 7.0 tensor([ 0.8447])\n",
      "epoch: 5 loss: tensor(0.5596) 2.0 tensor([ 0.5762]) 4.0 tensor([ 0.7413]) 7.0 tensor([ 0.8976])\n",
      "epoch: 10 loss: tensor(0.5482) 2.0 tensor([ 0.5823]) 4.0 tensor([ 0.7620]) 7.0 tensor([ 0.9177])\n",
      "epoch: 15 loss: tensor(0.5382) 2.0 tensor([ 0.5819]) 4.0 tensor([ 0.7727]) 7.0 tensor([ 0.9285])\n",
      "epoch: 20 loss: tensor(0.5286) 2.0 tensor([ 0.5791]) 4.0 tensor([ 0.7798]) 7.0 tensor([ 0.9360])\n",
      "epoch: 25 loss: tensor(0.5194) 2.0 tensor([ 0.5753]) 4.0 tensor([ 0.7853]) 7.0 tensor([ 0.9419])\n",
      "epoch: 30 loss: tensor(0.5105) 2.0 tensor([ 0.5713]) 4.0 tensor([ 0.7902]) 7.0 tensor([ 0.9471])\n",
      "epoch: 35 loss: tensor(0.5019) 2.0 tensor([ 0.5672]) 4.0 tensor([ 0.7948]) 7.0 tensor([ 0.9516])\n",
      "epoch: 40 loss: tensor(0.4936) 2.0 tensor([ 0.5631]) 4.0 tensor([ 0.7992]) 7.0 tensor([ 0.9557])\n",
      "epoch: 45 loss: tensor(0.4856) 2.0 tensor([ 0.5590]) 4.0 tensor([ 0.8034]) 7.0 tensor([ 0.9594])\n",
      "epoch: 50 loss: tensor(0.4778) 2.0 tensor([ 0.5550]) 4.0 tensor([ 0.8075]) 7.0 tensor([ 0.9628])\n",
      "epoch: 55 loss: tensor(0.4703) 2.0 tensor([ 0.5511]) 4.0 tensor([ 0.8115]) 7.0 tensor([ 0.9658])\n",
      "epoch: 60 loss: tensor(0.4630) 2.0 tensor([ 0.5473]) 4.0 tensor([ 0.8154]) 7.0 tensor([ 0.9686])\n",
      "epoch: 65 loss: tensor(0.4560) 2.0 tensor([ 0.5435]) 4.0 tensor([ 0.8191]) 7.0 tensor([ 0.9711])\n",
      "epoch: 70 loss: tensor(0.4491) 2.0 tensor([ 0.5398]) 4.0 tensor([ 0.8228]) 7.0 tensor([ 0.9734])\n",
      "epoch: 75 loss: tensor(0.4425) 2.0 tensor([ 0.5362]) 4.0 tensor([ 0.8264]) 7.0 tensor([ 0.9755])\n",
      "epoch: 80 loss: tensor(0.4361) 2.0 tensor([ 0.5326]) 4.0 tensor([ 0.8299]) 7.0 tensor([ 0.9774])\n",
      "epoch: 85 loss: tensor(0.4300) 2.0 tensor([ 0.5292]) 4.0 tensor([ 0.8332]) 7.0 tensor([ 0.9791])\n",
      "epoch: 90 loss: tensor(0.4239) 2.0 tensor([ 0.5257]) 4.0 tensor([ 0.8365]) 7.0 tensor([ 0.9807])\n",
      "epoch: 95 loss: tensor(0.4181) 2.0 tensor([ 0.5224]) 4.0 tensor([ 0.8397]) 7.0 tensor([ 0.9821])\n",
      "epoch: 100 loss: tensor(0.4125) 2.0 tensor([ 0.5191]) 4.0 tensor([ 0.8429]) 7.0 tensor([ 0.9834])\n",
      "epoch: 105 loss: tensor(0.4070) 2.0 tensor([ 0.5158]) 4.0 tensor([ 0.8459]) 7.0 tensor([ 0.9847])\n",
      "epoch: 110 loss: tensor(0.4017) 2.0 tensor([ 0.5127]) 4.0 tensor([ 0.8488]) 7.0 tensor([ 0.9858])\n",
      "epoch: 115 loss: tensor(0.3965) 2.0 tensor([ 0.5095]) 4.0 tensor([ 0.8517]) 7.0 tensor([ 0.9868])\n",
      "epoch: 120 loss: tensor(0.3915) 2.0 tensor([ 0.5065]) 4.0 tensor([ 0.8545]) 7.0 tensor([ 0.9877])\n",
      "epoch: 125 loss: tensor(0.3866) 2.0 tensor([ 0.5034]) 4.0 tensor([ 0.8572]) 7.0 tensor([ 0.9886])\n",
      "epoch: 130 loss: tensor(0.3819) 2.0 tensor([ 0.5005]) 4.0 tensor([ 0.8599]) 7.0 tensor([ 0.9894])\n",
      "epoch: 135 loss: tensor(0.3773) 2.0 tensor([ 0.4976]) 4.0 tensor([ 0.8624]) 7.0 tensor([ 0.9901])\n",
      "epoch: 140 loss: tensor(0.3728) 2.0 tensor([ 0.4947]) 4.0 tensor([ 0.8650]) 7.0 tensor([ 0.9908])\n",
      "epoch: 145 loss: tensor(0.3685) 2.0 tensor([ 0.4919]) 4.0 tensor([ 0.8674]) 7.0 tensor([ 0.9914])\n",
      "epoch: 150 loss: tensor(0.3642) 2.0 tensor([ 0.4891]) 4.0 tensor([ 0.8698]) 7.0 tensor([ 0.9919])\n",
      "epoch: 155 loss: tensor(0.3601) 2.0 tensor([ 0.4864]) 4.0 tensor([ 0.8721]) 7.0 tensor([ 0.9925])\n",
      "epoch: 160 loss: tensor(0.3561) 2.0 tensor([ 0.4837]) 4.0 tensor([ 0.8744]) 7.0 tensor([ 0.9930])\n",
      "epoch: 165 loss: tensor(0.3522) 2.0 tensor([ 0.4811]) 4.0 tensor([ 0.8766]) 7.0 tensor([ 0.9934])\n",
      "epoch: 170 loss: tensor(0.3484) 2.0 tensor([ 0.4785]) 4.0 tensor([ 0.8787]) 7.0 tensor([ 0.9938])\n",
      "epoch: 175 loss: tensor(0.3447) 2.0 tensor([ 0.4759]) 4.0 tensor([ 0.8808]) 7.0 tensor([ 0.9942])\n",
      "epoch: 180 loss: tensor(0.3411) 2.0 tensor([ 0.4734]) 4.0 tensor([ 0.8828]) 7.0 tensor([ 0.9946])\n",
      "epoch: 185 loss: tensor(0.3375) 2.0 tensor([ 0.4709]) 4.0 tensor([ 0.8848]) 7.0 tensor([ 0.9949])\n",
      "epoch: 190 loss: tensor(0.3341) 2.0 tensor([ 0.4685]) 4.0 tensor([ 0.8868]) 7.0 tensor([ 0.9952])\n",
      "epoch: 195 loss: tensor(0.3308) 2.0 tensor([ 0.4661]) 4.0 tensor([ 0.8886]) 7.0 tensor([ 0.9955])\n",
      "epoch: 200 loss: tensor(0.3275) 2.0 tensor([ 0.4637]) 4.0 tensor([ 0.8905]) 7.0 tensor([ 0.9958])\n",
      "epoch: 205 loss: tensor(0.3243) 2.0 tensor([ 0.4613]) 4.0 tensor([ 0.8923]) 7.0 tensor([ 0.9960])\n",
      "epoch: 210 loss: tensor(0.3212) 2.0 tensor([ 0.4590]) 4.0 tensor([ 0.8940]) 7.0 tensor([ 0.9962])\n",
      "epoch: 215 loss: tensor(0.3181) 2.0 tensor([ 0.4568]) 4.0 tensor([ 0.8958]) 7.0 tensor([ 0.9964])\n",
      "epoch: 220 loss: tensor(0.3152) 2.0 tensor([ 0.4545]) 4.0 tensor([ 0.8974]) 7.0 tensor([ 0.9967])\n",
      "epoch: 225 loss: tensor(0.3123) 2.0 tensor([ 0.4523]) 4.0 tensor([ 0.8991]) 7.0 tensor([ 0.9968])\n",
      "epoch: 230 loss: tensor(0.3094) 2.0 tensor([ 0.4502]) 4.0 tensor([ 0.9006]) 7.0 tensor([ 0.9970])\n",
      "epoch: 235 loss: tensor(0.3066) 2.0 tensor([ 0.4480]) 4.0 tensor([ 0.9022]) 7.0 tensor([ 0.9972])\n",
      "epoch: 240 loss: tensor(0.3039) 2.0 tensor([ 0.4459]) 4.0 tensor([ 0.9037]) 7.0 tensor([ 0.9973])\n",
      "epoch: 245 loss: tensor(0.3013) 2.0 tensor([ 0.4438]) 4.0 tensor([ 0.9052]) 7.0 tensor([ 0.9975])\n",
      "epoch: 250 loss: tensor(0.2987) 2.0 tensor([ 0.4418]) 4.0 tensor([ 0.9067]) 7.0 tensor([ 0.9976])\n",
      "epoch: 255 loss: tensor(0.2961) 2.0 tensor([ 0.4398]) 4.0 tensor([ 0.9081]) 7.0 tensor([ 0.9977])\n",
      "epoch: 260 loss: tensor(0.2936) 2.0 tensor([ 0.4378]) 4.0 tensor([ 0.9095]) 7.0 tensor([ 0.9979])\n",
      "epoch: 265 loss: tensor(0.2912) 2.0 tensor([ 0.4358]) 4.0 tensor([ 0.9108]) 7.0 tensor([ 0.9980])\n",
      "epoch: 270 loss: tensor(0.2888) 2.0 tensor([ 0.4338]) 4.0 tensor([ 0.9121]) 7.0 tensor([ 0.9981])\n",
      "epoch: 275 loss: tensor(0.2865) 2.0 tensor([ 0.4319]) 4.0 tensor([ 0.9134]) 7.0 tensor([ 0.9982])\n",
      "epoch: 280 loss: tensor(0.2842) 2.0 tensor([ 0.4300]) 4.0 tensor([ 0.9147]) 7.0 tensor([ 0.9983])\n",
      "epoch: 285 loss: tensor(0.2820) 2.0 tensor([ 0.4281]) 4.0 tensor([ 0.9159]) 7.0 tensor([ 0.9983])\n",
      "epoch: 290 loss: tensor(0.2798) 2.0 tensor([ 0.4263]) 4.0 tensor([ 0.9171]) 7.0 tensor([ 0.9984])\n",
      "epoch: 295 loss: tensor(0.2776) 2.0 tensor([ 0.4244]) 4.0 tensor([ 0.9183]) 7.0 tensor([ 0.9985])\n",
      "epoch: 300 loss: tensor(0.2755) 2.0 tensor([ 0.4226]) 4.0 tensor([ 0.9195]) 7.0 tensor([ 0.9986])\n",
      "epoch: 305 loss: tensor(0.2734) 2.0 tensor([ 0.4209]) 4.0 tensor([ 0.9206]) 7.0 tensor([ 0.9986])\n",
      "epoch: 310 loss: tensor(0.2714) 2.0 tensor([ 0.4191]) 4.0 tensor([ 0.9217]) 7.0 tensor([ 0.9987])\n",
      "epoch: 315 loss: tensor(0.2694) 2.0 tensor([ 0.4173]) 4.0 tensor([ 0.9228]) 7.0 tensor([ 0.9988])\n",
      "epoch: 320 loss: tensor(0.2674) 2.0 tensor([ 0.4156]) 4.0 tensor([ 0.9239]) 7.0 tensor([ 0.9988])\n",
      "epoch: 325 loss: tensor(0.2655) 2.0 tensor([ 0.4139]) 4.0 tensor([ 0.9249]) 7.0 tensor([ 0.9989])\n",
      "epoch: 330 loss: tensor(0.2636) 2.0 tensor([ 0.4122]) 4.0 tensor([ 0.9260]) 7.0 tensor([ 0.9989])\n",
      "epoch: 335 loss: tensor(0.2618) 2.0 tensor([ 0.4106]) 4.0 tensor([ 0.9270]) 7.0 tensor([ 0.9990])\n",
      "epoch: 340 loss: tensor(0.2599) 2.0 tensor([ 0.4089]) 4.0 tensor([ 0.9279]) 7.0 tensor([ 0.9990])\n",
      "epoch: 345 loss: tensor(0.2582) 2.0 tensor([ 0.4073]) 4.0 tensor([ 0.9289]) 7.0 tensor([ 0.9991])\n",
      "epoch: 350 loss: tensor(0.2564) 2.0 tensor([ 0.4057]) 4.0 tensor([ 0.9298]) 7.0 tensor([ 0.9991])\n",
      "epoch: 355 loss: tensor(0.2547) 2.0 tensor([ 0.4041]) 4.0 tensor([ 0.9308]) 7.0 tensor([ 0.9992])\n",
      "epoch: 360 loss: tensor(0.2530) 2.0 tensor([ 0.4025]) 4.0 tensor([ 0.9317]) 7.0 tensor([ 0.9992])\n",
      "epoch: 365 loss: tensor(0.2513) 2.0 tensor([ 0.4010]) 4.0 tensor([ 0.9326]) 7.0 tensor([ 0.9992])\n",
      "epoch: 370 loss: tensor(0.2497) 2.0 tensor([ 0.3995]) 4.0 tensor([ 0.9334]) 7.0 tensor([ 0.9993])\n",
      "epoch: 375 loss: tensor(0.2481) 2.0 tensor([ 0.3979]) 4.0 tensor([ 0.9343]) 7.0 tensor([ 0.9993])\n",
      "epoch: 380 loss: tensor(0.2465) 2.0 tensor([ 0.3964]) 4.0 tensor([ 0.9351]) 7.0 tensor([ 0.9993])\n",
      "epoch: 385 loss: tensor(0.2449) 2.0 tensor([ 0.3949]) 4.0 tensor([ 0.9359]) 7.0 tensor([ 0.9994])\n",
      "epoch: 390 loss: tensor(0.2434) 2.0 tensor([ 0.3935]) 4.0 tensor([ 0.9367]) 7.0 tensor([ 0.9994])\n",
      "epoch: 395 loss: tensor(0.2419) 2.0 tensor([ 0.3920]) 4.0 tensor([ 0.9375]) 7.0 tensor([ 0.9994])\n",
      "epoch: 400 loss: tensor(0.2404) 2.0 tensor([ 0.3906]) 4.0 tensor([ 0.9383]) 7.0 tensor([ 0.9994])\n",
      "epoch: 405 loss: tensor(0.2389) 2.0 tensor([ 0.3891]) 4.0 tensor([ 0.9391]) 7.0 tensor([ 0.9995])\n",
      "epoch: 410 loss: tensor(0.2375) 2.0 tensor([ 0.3877]) 4.0 tensor([ 0.9398]) 7.0 tensor([ 0.9995])\n",
      "epoch: 415 loss: tensor(0.2361) 2.0 tensor([ 0.3863]) 4.0 tensor([ 0.9406]) 7.0 tensor([ 0.9995])\n",
      "epoch: 420 loss: tensor(0.2347) 2.0 tensor([ 0.3849]) 4.0 tensor([ 0.9413]) 7.0 tensor([ 0.9995])\n",
      "epoch: 425 loss: tensor(0.2333) 2.0 tensor([ 0.3836]) 4.0 tensor([ 0.9420]) 7.0 tensor([ 0.9995])\n",
      "epoch: 430 loss: tensor(0.2319) 2.0 tensor([ 0.3822]) 4.0 tensor([ 0.9427]) 7.0 tensor([ 0.9996])\n",
      "epoch: 435 loss: tensor(0.2306) 2.0 tensor([ 0.3809]) 4.0 tensor([ 0.9434]) 7.0 tensor([ 0.9996])\n",
      "epoch: 440 loss: tensor(0.2293) 2.0 tensor([ 0.3795]) 4.0 tensor([ 0.9440]) 7.0 tensor([ 0.9996])\n",
      "epoch: 445 loss: tensor(0.2280) 2.0 tensor([ 0.3782]) 4.0 tensor([ 0.9447]) 7.0 tensor([ 0.9996])\n",
      "epoch: 450 loss: tensor(0.2267) 2.0 tensor([ 0.3769]) 4.0 tensor([ 0.9453]) 7.0 tensor([ 0.9996])\n",
      "epoch: 455 loss: tensor(0.2255) 2.0 tensor([ 0.3756]) 4.0 tensor([ 0.9460]) 7.0 tensor([ 0.9996])\n",
      "epoch: 460 loss: tensor(0.2242) 2.0 tensor([ 0.3743]) 4.0 tensor([ 0.9466]) 7.0 tensor([ 0.9997])\n",
      "epoch: 465 loss: tensor(0.2230) 2.0 tensor([ 0.3731]) 4.0 tensor([ 0.9472]) 7.0 tensor([ 0.9997])\n",
      "epoch: 470 loss: tensor(0.2218) 2.0 tensor([ 0.3718]) 4.0 tensor([ 0.9478]) 7.0 tensor([ 0.9997])\n",
      "epoch: 475 loss: tensor(0.2206) 2.0 tensor([ 0.3706]) 4.0 tensor([ 0.9484]) 7.0 tensor([ 0.9997])\n",
      "epoch: 480 loss: tensor(0.2194) 2.0 tensor([ 0.3693]) 4.0 tensor([ 0.9490]) 7.0 tensor([ 0.9997])\n",
      "epoch: 485 loss: tensor(0.2183) 2.0 tensor([ 0.3681]) 4.0 tensor([ 0.9496]) 7.0 tensor([ 0.9997])\n",
      "epoch: 490 loss: tensor(0.2171) 2.0 tensor([ 0.3669]) 4.0 tensor([ 0.9501]) 7.0 tensor([ 0.9997])\n",
      "epoch: 495 loss: tensor(0.2160) 2.0 tensor([ 0.3657]) 4.0 tensor([ 0.9507]) 7.0 tensor([ 0.9997])\n"
     ]
    }
   ],
   "source": [
    "loss_=torch.tensor([])\n",
    "for epoch in range(epochs):\n",
    "    \n",
    "    #for parameter in model.parameters(): print('epoch',epoch,parameter[0]) \n",
    "    y_pred=model(x_data)   #this automtically call forward\n",
    "    loss=criterion(y_pred,y_data)\n",
    "    \n",
    "    \n",
    "    tmp=torch.tensor([loss])\n",
    "    loss_=torch.cat((loss_,tmp))\n",
    "    optimizer.zero_grad()   #initilize gradient to zero before every step, to avoid accumulation ,zero off good for RNN\n",
    "    loss.backward()         #calculate gradient\n",
    "    optimizer.step()        #update parameter (weights)\n",
    "    t0=torch.tensor([2.0])\n",
    "    t1=torch.tensor([4.0])\n",
    "    t2=torch.tensor([7.0])\n",
    "    if(epoch%5==0): print('epoch:',epoch,'loss:',loss,'2.0',model.forward(t0),'4.0',model.forward(t1),'7.0',model.forward(t2))\n",
    "    \n",
    "    \n"
   ]
  },
  {
   "cell_type": "code",
   "execution_count": 48,
   "metadata": {},
   "outputs": [
    {
     "name": "stdout",
     "output_type": "stream",
     "text": [
      "tensor([ 1.6053])\n",
      "tensor(-3.6693)\n"
     ]
    }
   ],
   "source": [
    "for i,parameter in enumerate(model.parameters()):\n",
    "    #print('w:',list(model.parameters()[0]),'bias:',list(model.parameters()[0])) \n",
    "\n",
    "    print(parameter[0])    \n",
    "    "
   ]
  },
  {
   "cell_type": "code",
   "execution_count": 51,
   "metadata": {},
   "outputs": [],
   "source": [
    "loss_SGD_1=loss_"
   ]
  },
  {
   "cell_type": "code",
   "execution_count": 52,
   "metadata": {},
   "outputs": [
    {
     "data": {
      "image/png": "[encoded data removed]",
      "text/plain": [
       "<Figure size 432x288 with 1 Axes>"
      ]
     },
     "metadata": {},
     "output_type": "display_data"
    }
   ],
   "source": [
    "\n",
    "plt.plot(np.arange(0,epochs,1),loss_SGD_01.detach().numpy(),label='SGD_0.1')  #lr=0.01 #need to detach gradient for graph breakdown otherwise won't do numpy in the middle of graph (good for end of run)\n",
    "#plt.plot(np.arange(0,epochs,1),loss_SGD_05.detach().numpy(),label='SGD_0.05') \n",
    "#plt.plot(np.arange(0,epochs,1),loss_sgd_mom.detach().numpy(),label='SGD_0.01_mom_0.9')   #lr=0.01 momentum=0.9\n",
    "#plt.plot(np.arange(0,epochs,1),loss_Adam.detach().numpy(),label='Adam_0.1') #lr=0.1\n",
    "#plt.xlim([-1,40])\n",
    "plt.legend()\n",
    "plt.show() \n",
    "\n",
    "\n",
    "#SGD w/o momentum look better in converging, than with momentum"
   ]
  },
  {
   "cell_type": "code",
   "execution_count": 421,
   "metadata": {},
   "outputs": [
    {
     "data": {
      "text/plain": [
       "tensor(7.7825)"
      ]
     },
     "execution_count": 421,
     "metadata": {},
     "output_type": "execute_result"
    }
   ],
   "source": [
    "test=torch.tensor([4.0])\n",
    "model.forward(test).data[0]"
   ]
  },
  {
   "cell_type": "code",
   "execution_count": null,
   "metadata": {},
   "outputs": [],
   "source": []
  },
  {
   "cell_type": "code",
   "execution_count": null,
   "metadata": {},
   "outputs": [],
   "source": []
  }
 ],
 "metadata": {
  "kernelspec": {
   "display_name": "Python [conda env:Anaconda3]",
   "language": "python",
   "name": "conda-env-Anaconda3-py"
  },
  "language_info": {
   "codemirror_mode": {
    "name": "ipython",
    "version": 3
   },
   "file_extension": ".py",
   "mimetype": "text/x-python",
   "name": "python",
   "nbconvert_exporter": "python",
   "pygments_lexer": "ipython3",
   "version": "3.6.4"
  }
 },
 "nbformat": 4,
 "nbformat_minor": 2
}
