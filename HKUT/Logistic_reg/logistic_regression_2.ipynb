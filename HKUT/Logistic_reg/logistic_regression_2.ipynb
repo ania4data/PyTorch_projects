{
 "cells": [
  {
   "cell_type": "code",
   "execution_count": 768,
   "metadata": {},
   "outputs": [],
   "source": [
    "import numpy as np\n",
    "import torch\n",
    "from torch import nn\n",
    "import torch.nn.functional as F\n",
    "from torch.autograd import Variable\n",
    "import matplotlib.pyplot as plt"
   ]
  },
  {
   "cell_type": "code",
   "execution_count": 769,
   "metadata": {},
   "outputs": [],
   "source": [
    "x_data=Variable(torch.tensor([[1.0],[2.0],[3.0],[4.0]]))  # this makes is 3*1,  only one feature, require grad default to false\n",
    "y_data=Variable(torch.tensor([[-1.0],[-1.0],[1.0],[1.0]]))   #Variable:Wraps a tensor and records the operations applied to it\n",
    "epochs=500"
   ]
  },
  {
   "cell_type": "code",
   "execution_count": 770,
   "metadata": {},
   "outputs": [],
   "source": [
    "class Model(torch.nn.Module):\n",
    "    def __init__(self):\n",
    "        super(Model,self).__init__()   #call in the init of the nn.Module\n",
    "        self.fc1=torch.nn.Linear(1,1)  #one feature in, one feature out 1*1\n",
    "        #self.relu1=torch.nn.ReLU()\n",
    "        #self.tanh1 = torch.nn.Tanh()\n",
    "        \n",
    "        \n",
    "    def forward(self,x):  \n",
    "        \n",
    "        #y_pred=F.sigmoid(self.fc1(x))\n",
    "        #t=self.tanh1(self.fc1(x))\n",
    "        t=self.fc1(x)\n",
    "        t=F.tanh(t)     #in order to use tanh since it keep the out put between -1 and 1, need to modify ytarget to -1 and 1\n",
    "                        # also the binary BCF loss would not work for -1 and 1 (need 0,1 ) so had to change loss function to\n",
    "                        # torch.nn.SoftMarginLoss target tensor y (containing 1 or -1)\n",
    "        #t=torch.nn.Tanh(t)\n",
    "        #t=self.relu1(t)\n",
    "        #t=F.softmax(t,dim=0)\n",
    "        #y_pred=self.soft1(t)\n",
    "        y_pred=t\n",
    "        \n",
    "        return y_pred\n",
    "        "
   ]
  },
  {
   "cell_type": "code",
   "execution_count": 771,
   "metadata": {},
   "outputs": [],
   "source": [
    "model=Model()"
   ]
  },
  {
   "cell_type": "code",
   "execution_count": 772,
   "metadata": {},
   "outputs": [
    {
     "name": "stdout",
     "output_type": "stream",
     "text": [
      "<bound method Module.parameters of Model(\n",
      "  (fc1): Linear(in_features=1, out_features=1, bias=True)\n",
      ")>\n"
     ]
    }
   ],
   "source": [
    "print(model.parameters)"
   ]
  },
  {
   "cell_type": "code",
   "execution_count": 773,
   "metadata": {},
   "outputs": [
    {
     "name": "stdout",
     "output_type": "stream",
     "text": [
      "tensor([-0.5718])\n",
      "tensor(0.9330)\n"
     ]
    }
   ],
   "source": [
    "for parameter in model.parameters(): print((parameter[0]))   #initillizing it on its own"
   ]
  },
  {
   "cell_type": "code",
   "execution_count": 774,
   "metadata": {},
   "outputs": [
    {
     "data": {
      "text/plain": [
       "[Parameter containing:\n",
       " tensor([[-0.5718]]), Parameter containing:\n",
       " tensor([ 0.9330])]"
      ]
     },
     "execution_count": 774,
     "metadata": {},
     "output_type": "execute_result"
    }
   ],
   "source": [
    "list((model.parameters()))"
   ]
  },
  {
   "cell_type": "code",
   "execution_count": 775,
   "metadata": {},
   "outputs": [],
   "source": [
    "#criterion=torch.nn.BCELoss(size_average=True)   #loss initilization, binary cross entropy need to be 0,1 y\n",
    "#criterion=torch.nn.HingeEmbeddingLoss(margin=0.0)  #soso\n",
    "criterion=torch.nn.SoftMarginLoss()\n",
    "#criterion=torch.nn.CrossEntropyLoss()\n",
    "#criterion=torch.nn.NLLLoss()\n",
    "#optimizer=torch.optim.SGD(model.parameters(),lr=0.01)  #init SGD with initilized model.paramter  (w/ grad, weight and bias)\n",
    "#optimizer=torch.optim.Adam(model.parameters(),lr=0.1)\n",
    "#optimizer=torch.optim.SGD(model.parameters(),lr=0.01,momentum=0.9)\n",
    "optimizer=torch.optim.SGD(model.parameters(),lr=0.1)\n",
    "\n",
    "#torch.optim will hold the current state and will update the parameters based on the computed gradients. iterable containing the parameters (Variable)"
   ]
  },
  {
   "cell_type": "code",
   "execution_count": 776,
   "metadata": {},
   "outputs": [
    {
     "name": "stdout",
     "output_type": "stream",
     "text": [
      "epoch: 0 loss: tensor(0.9430) 1.0 tensor([ 0.3466]) 4.0 tensor([-0.8675]) 7.0 tensor([-0.9951])\n",
      "epoch: 5 loss: tensor(0.9283) 1.0 tensor([ 0.3779]) 4.0 tensor([-0.7811]) 7.0 tensor([-0.9865])\n",
      "epoch: 10 loss: tensor(0.8731) 1.0 tensor([ 0.5084]) 4.0 tensor([-0.3318]) 7.0 tensor([-0.8483])\n",
      "epoch: 15 loss: tensor(0.7702) 1.0 tensor([ 0.6420]) 4.0 tensor([ 0.4443]) 7.0 tensor([ 0.1911])\n",
      "epoch: 20 loss: tensor(0.7522) 1.0 tensor([ 0.6641]) 4.0 tensor([ 0.6264]) 7.0 tensor([ 0.5854])\n",
      "epoch: 25 loss: tensor(0.7458) 1.0 tensor([ 0.6578]) 4.0 tensor([ 0.6761]) 7.0 tensor([ 0.6936])\n",
      "epoch: 30 loss: tensor(0.7404) 1.0 tensor([ 0.6409]) 4.0 tensor([ 0.6906]) 7.0 tensor([ 0.7345])\n",
      "epoch: 35 loss: tensor(0.7349) 1.0 tensor([ 0.6178]) 4.0 tensor([ 0.6911]) 7.0 tensor([ 0.7526])\n",
      "epoch: 40 loss: tensor(0.7289) 1.0 tensor([ 0.5903]) 4.0 tensor([ 0.6853]) 7.0 tensor([ 0.7615])\n",
      "epoch: 45 loss: tensor(0.7224) 1.0 tensor([ 0.5592]) 4.0 tensor([ 0.6765]) 7.0 tensor([ 0.7672])\n",
      "epoch: 50 loss: tensor(0.7154) 1.0 tensor([ 0.5249]) 4.0 tensor([ 0.6665]) 7.0 tensor([ 0.7722])\n",
      "epoch: 55 loss: tensor(0.7078) 1.0 tensor([ 0.4876]) 4.0 tensor([ 0.6565]) 7.0 tensor([ 0.7780])\n",
      "epoch: 60 loss: tensor(0.6997) 1.0 tensor([ 0.4476]) 4.0 tensor([ 0.6472]) 7.0 tensor([ 0.7854])\n",
      "epoch: 65 loss: tensor(0.6911) 1.0 tensor([ 0.4052]) 4.0 tensor([ 0.6391]) 7.0 tensor([ 0.7945])\n",
      "epoch: 70 loss: tensor(0.6821) 1.0 tensor([ 0.3606]) 4.0 tensor([ 0.6326]) 7.0 tensor([ 0.8054])\n",
      "epoch: 75 loss: tensor(0.6727) 1.0 tensor([ 0.3143]) 4.0 tensor([ 0.6279]) 7.0 tensor([ 0.8179])\n",
      "epoch: 80 loss: tensor(0.6630) 1.0 tensor([ 0.2667]) 4.0 tensor([ 0.6250]) 7.0 tensor([ 0.8316])\n",
      "epoch: 85 loss: tensor(0.6531) 1.0 tensor([ 0.2182]) 4.0 tensor([ 0.6242]) 7.0 tensor([ 0.8460])\n",
      "epoch: 90 loss: tensor(0.6432) 1.0 tensor([ 0.1693]) 4.0 tensor([ 0.6254]) 7.0 tensor([ 0.8608])\n",
      "epoch: 95 loss: tensor(0.6332) 1.0 tensor([ 0.1205]) 4.0 tensor([ 0.6283]) 7.0 tensor([ 0.8755])\n",
      "epoch: 100 loss: tensor(0.6234) 1.0 tensor(1.00000e-02 *\n",
      "       [ 7.2258]) 4.0 tensor([ 0.6329]) 7.0 tensor([ 0.8896])\n",
      "epoch: 105 loss: tensor(0.6137) 1.0 tensor(1.00000e-02 *\n",
      "       [ 2.4857]) 4.0 tensor([ 0.6389]) 7.0 tensor([ 0.9029])\n",
      "epoch: 110 loss: tensor(0.6043) 1.0 tensor(1.00000e-02 *\n",
      "       [-2.1346]) 4.0 tensor([ 0.6461]) 7.0 tensor([ 0.9152])\n",
      "epoch: 115 loss: tensor(0.5951) 1.0 tensor(1.00000e-02 *\n",
      "       [-6.6101]) 4.0 tensor([ 0.6542]) 7.0 tensor([ 0.9263])\n",
      "epoch: 120 loss: tensor(0.5863) 1.0 tensor([-0.1092]) 4.0 tensor([ 0.6631]) 7.0 tensor([ 0.9362])\n",
      "epoch: 125 loss: tensor(0.5779) 1.0 tensor([-0.1506]) 4.0 tensor([ 0.6724]) 7.0 tensor([ 0.9449])\n",
      "epoch: 130 loss: tensor(0.5698) 1.0 tensor([-0.1901]) 4.0 tensor([ 0.6820]) 7.0 tensor([ 0.9525])\n",
      "epoch: 135 loss: tensor(0.5622) 1.0 tensor([-0.2277]) 4.0 tensor([ 0.6918]) 7.0 tensor([ 0.9591])\n",
      "epoch: 140 loss: tensor(0.5549) 1.0 tensor([-0.2634]) 4.0 tensor([ 0.7016]) 7.0 tensor([ 0.9648])\n",
      "epoch: 145 loss: tensor(0.5479) 1.0 tensor([-0.2973]) 4.0 tensor([ 0.7113]) 7.0 tensor([ 0.9696])\n",
      "epoch: 150 loss: tensor(0.5414) 1.0 tensor([-0.3294]) 4.0 tensor([ 0.7209]) 7.0 tensor([ 0.9738])\n",
      "epoch: 155 loss: tensor(0.5352) 1.0 tensor([-0.3597]) 4.0 tensor([ 0.7303]) 7.0 tensor([ 0.9774])\n",
      "epoch: 160 loss: tensor(0.5293) 1.0 tensor([-0.3883]) 4.0 tensor([ 0.7394]) 7.0 tensor([ 0.9804])\n",
      "epoch: 165 loss: tensor(0.5237) 1.0 tensor([-0.4153]) 4.0 tensor([ 0.7482]) 7.0 tensor([ 0.9830])\n",
      "epoch: 170 loss: tensor(0.5185) 1.0 tensor([-0.4408]) 4.0 tensor([ 0.7567]) 7.0 tensor([ 0.9852])\n",
      "epoch: 175 loss: tensor(0.5135) 1.0 tensor([-0.4649]) 4.0 tensor([ 0.7649]) 7.0 tensor([ 0.9871])\n",
      "epoch: 180 loss: tensor(0.5088) 1.0 tensor([-0.4876]) 4.0 tensor([ 0.7728]) 7.0 tensor([ 0.9888])\n",
      "epoch: 185 loss: tensor(0.5043) 1.0 tensor([-0.5090]) 4.0 tensor([ 0.7804]) 7.0 tensor([ 0.9901])\n",
      "epoch: 190 loss: tensor(0.5001) 1.0 tensor([-0.5292]) 4.0 tensor([ 0.7876]) 7.0 tensor([ 0.9913])\n",
      "epoch: 195 loss: tensor(0.4960) 1.0 tensor([-0.5483]) 4.0 tensor([ 0.7946]) 7.0 tensor([ 0.9924])\n",
      "epoch: 200 loss: tensor(0.4922) 1.0 tensor([-0.5664]) 4.0 tensor([ 0.8012]) 7.0 tensor([ 0.9933])\n",
      "epoch: 205 loss: tensor(0.4886) 1.0 tensor([-0.5834]) 4.0 tensor([ 0.8076]) 7.0 tensor([ 0.9941])\n",
      "epoch: 210 loss: tensor(0.4851) 1.0 tensor([-0.5995]) 4.0 tensor([ 0.8137]) 7.0 tensor([ 0.9947])\n",
      "epoch: 215 loss: tensor(0.4818) 1.0 tensor([-0.6148]) 4.0 tensor([ 0.8195]) 7.0 tensor([ 0.9953])\n",
      "epoch: 220 loss: tensor(0.4786) 1.0 tensor([-0.6292]) 4.0 tensor([ 0.8251]) 7.0 tensor([ 0.9958])\n",
      "epoch: 225 loss: tensor(0.4756) 1.0 tensor([-0.6429]) 4.0 tensor([ 0.8304]) 7.0 tensor([ 0.9963])\n",
      "epoch: 230 loss: tensor(0.4728) 1.0 tensor([-0.6559]) 4.0 tensor([ 0.8355]) 7.0 tensor([ 0.9967])\n",
      "epoch: 235 loss: tensor(0.4700) 1.0 tensor([-0.6682]) 4.0 tensor([ 0.8404]) 7.0 tensor([ 0.9970])\n",
      "epoch: 240 loss: tensor(0.4674) 1.0 tensor([-0.6799]) 4.0 tensor([ 0.8451]) 7.0 tensor([ 0.9973])\n",
      "epoch: 245 loss: tensor(0.4648) 1.0 tensor([-0.6910]) 4.0 tensor([ 0.8496]) 7.0 tensor([ 0.9976])\n",
      "epoch: 250 loss: tensor(0.4624) 1.0 tensor([-0.7016]) 4.0 tensor([ 0.8539]) 7.0 tensor([ 0.9978])\n",
      "epoch: 255 loss: tensor(0.4601) 1.0 tensor([-0.7116]) 4.0 tensor([ 0.8580]) 7.0 tensor([ 0.9980])\n",
      "epoch: 260 loss: tensor(0.4578) 1.0 tensor([-0.7212]) 4.0 tensor([ 0.8620]) 7.0 tensor([ 0.9982])\n",
      "epoch: 265 loss: tensor(0.4557) 1.0 tensor([-0.7303]) 4.0 tensor([ 0.8658]) 7.0 tensor([ 0.9984])\n",
      "epoch: 270 loss: tensor(0.4536) 1.0 tensor([-0.7390]) 4.0 tensor([ 0.8694]) 7.0 tensor([ 0.9985])\n",
      "epoch: 275 loss: tensor(0.4516) 1.0 tensor([-0.7473]) 4.0 tensor([ 0.8729]) 7.0 tensor([ 0.9987])\n",
      "epoch: 280 loss: tensor(0.4497) 1.0 tensor([-0.7552]) 4.0 tensor([ 0.8763]) 7.0 tensor([ 0.9988])\n",
      "epoch: 285 loss: tensor(0.4478) 1.0 tensor([-0.7628]) 4.0 tensor([ 0.8795]) 7.0 tensor([ 0.9989])\n",
      "epoch: 290 loss: tensor(0.4460) 1.0 tensor([-0.7700]) 4.0 tensor([ 0.8827]) 7.0 tensor([ 0.9990])\n",
      "epoch: 295 loss: tensor(0.4443) 1.0 tensor([-0.7769]) 4.0 tensor([ 0.8857]) 7.0 tensor([ 0.9991])\n",
      "epoch: 300 loss: tensor(0.4426) 1.0 tensor([-0.7836]) 4.0 tensor([ 0.8886]) 7.0 tensor([ 0.9992])\n",
      "epoch: 305 loss: tensor(0.4410) 1.0 tensor([-0.7899]) 4.0 tensor([ 0.8913]) 7.0 tensor([ 0.9992])\n",
      "epoch: 310 loss: tensor(0.4394) 1.0 tensor([-0.7960]) 4.0 tensor([ 0.8940]) 7.0 tensor([ 0.9993])\n",
      "epoch: 315 loss: tensor(0.4379) 1.0 tensor([-0.8018]) 4.0 tensor([ 0.8966]) 7.0 tensor([ 0.9993])\n",
      "epoch: 320 loss: tensor(0.4364) 1.0 tensor([-0.8074]) 4.0 tensor([ 0.8991]) 7.0 tensor([ 0.9994])\n",
      "epoch: 325 loss: tensor(0.4349) 1.0 tensor([-0.8127]) 4.0 tensor([ 0.9015]) 7.0 tensor([ 0.9994])\n",
      "epoch: 330 loss: tensor(0.4336) 1.0 tensor([-0.8179]) 4.0 tensor([ 0.9039]) 7.0 tensor([ 0.9995])\n",
      "epoch: 335 loss: tensor(0.4322) 1.0 tensor([-0.8228]) 4.0 tensor([ 0.9061]) 7.0 tensor([ 0.9995])\n",
      "epoch: 340 loss: tensor(0.4309) 1.0 tensor([-0.8276]) 4.0 tensor([ 0.9083]) 7.0 tensor([ 0.9996])\n",
      "epoch: 345 loss: tensor(0.4296) 1.0 tensor([-0.8321]) 4.0 tensor([ 0.9104]) 7.0 tensor([ 0.9996])\n",
      "epoch: 350 loss: tensor(0.4284) 1.0 tensor([-0.8365]) 4.0 tensor([ 0.9124]) 7.0 tensor([ 0.9996])\n",
      "epoch: 355 loss: tensor(0.4271) 1.0 tensor([-0.8407]) 4.0 tensor([ 0.9144]) 7.0 tensor([ 0.9997])\n",
      "epoch: 360 loss: tensor(0.4260) 1.0 tensor([-0.8448]) 4.0 tensor([ 0.9163]) 7.0 tensor([ 0.9997])\n",
      "epoch: 365 loss: tensor(0.4248) 1.0 tensor([-0.8487]) 4.0 tensor([ 0.9181]) 7.0 tensor([ 0.9997])\n",
      "epoch: 370 loss: tensor(0.4237) 1.0 tensor([-0.8525]) 4.0 tensor([ 0.9199]) 7.0 tensor([ 0.9997])\n",
      "epoch: 375 loss: tensor(0.4226) 1.0 tensor([-0.8562]) 4.0 tensor([ 0.9216]) 7.0 tensor([ 0.9997])\n",
      "epoch: 380 loss: tensor(0.4215) 1.0 tensor([-0.8597]) 4.0 tensor([ 0.9233]) 7.0 tensor([ 0.9998])\n",
      "epoch: 385 loss: tensor(0.4205) 1.0 tensor([-0.8631]) 4.0 tensor([ 0.9249]) 7.0 tensor([ 0.9998])\n",
      "epoch: 390 loss: tensor(0.4195) 1.0 tensor([-0.8664]) 4.0 tensor([ 0.9265]) 7.0 tensor([ 0.9998])\n",
      "epoch: 395 loss: tensor(0.4185) 1.0 tensor([-0.8695]) 4.0 tensor([ 0.9280]) 7.0 tensor([ 0.9998])\n",
      "epoch: 400 loss: tensor(0.4175) 1.0 tensor([-0.8726]) 4.0 tensor([ 0.9295]) 7.0 tensor([ 0.9998])\n",
      "epoch: 405 loss: tensor(0.4166) 1.0 tensor([-0.8756]) 4.0 tensor([ 0.9310]) 7.0 tensor([ 0.9998])\n",
      "epoch: 410 loss: tensor(0.4157) 1.0 tensor([-0.8784]) 4.0 tensor([ 0.9324]) 7.0 tensor([ 0.9998])\n",
      "epoch: 415 loss: tensor(0.4148) 1.0 tensor([-0.8812]) 4.0 tensor([ 0.9337]) 7.0 tensor([ 0.9999])\n",
      "epoch: 420 loss: tensor(0.4139) 1.0 tensor([-0.8839]) 4.0 tensor([ 0.9350]) 7.0 tensor([ 0.9999])\n",
      "epoch: 425 loss: tensor(0.4130) 1.0 tensor([-0.8865]) 4.0 tensor([ 0.9363]) 7.0 tensor([ 0.9999])\n",
      "epoch: 430 loss: tensor(0.4122) 1.0 tensor([-0.8890]) 4.0 tensor([ 0.9376]) 7.0 tensor([ 0.9999])\n",
      "epoch: 435 loss: tensor(0.4113) 1.0 tensor([-0.8914]) 4.0 tensor([ 0.9388]) 7.0 tensor([ 0.9999])\n",
      "epoch: 440 loss: tensor(0.4105) 1.0 tensor([-0.8937]) 4.0 tensor([ 0.9400]) 7.0 tensor([ 0.9999])\n",
      "epoch: 445 loss: tensor(0.4097) 1.0 tensor([-0.8960]) 4.0 tensor([ 0.9411]) 7.0 tensor([ 0.9999])\n",
      "epoch: 450 loss: tensor(0.4089) 1.0 tensor([-0.8982]) 4.0 tensor([ 0.9422]) 7.0 tensor([ 0.9999])\n",
      "epoch: 455 loss: tensor(0.4082) 1.0 tensor([-0.9004]) 4.0 tensor([ 0.9433]) 7.0 tensor([ 0.9999])\n",
      "epoch: 460 loss: tensor(0.4074) 1.0 tensor([-0.9025]) 4.0 tensor([ 0.9444]) 7.0 tensor([ 0.9999])\n",
      "epoch: 465 loss: tensor(0.4067) 1.0 tensor([-0.9045]) 4.0 tensor([ 0.9454]) 7.0 tensor([ 0.9999])\n",
      "epoch: 470 loss: tensor(0.4060) 1.0 tensor([-0.9065]) 4.0 tensor([ 0.9464]) 7.0 tensor([ 0.9999])\n",
      "epoch: 475 loss: tensor(0.4053) 1.0 tensor([-0.9084]) 4.0 tensor([ 0.9474]) 7.0 tensor([ 0.9999])\n",
      "epoch: 480 loss: tensor(0.4046) 1.0 tensor([-0.9102]) 4.0 tensor([ 0.9483]) 7.0 tensor([ 0.9999])\n",
      "epoch: 485 loss: tensor(0.4039) 1.0 tensor([-0.9120]) 4.0 tensor([ 0.9493]) 7.0 tensor([ 0.9999])\n",
      "epoch: 490 loss: tensor(0.4032) 1.0 tensor([-0.9138]) 4.0 tensor([ 0.9502]) 7.0 tensor([ 0.9999])\n",
      "epoch: 495 loss: tensor(0.4026) 1.0 tensor([-0.9155]) 4.0 tensor([ 0.9510]) 7.0 tensor([ 0.9999])\n"
     ]
    }
   ],
   "source": [
    "loss_=torch.tensor([])\n",
    "for epoch in range(epochs):\n",
    "    \n",
    "    #for parameter in model.parameters(): print('epoch',epoch,parameter[0]) \n",
    "    y_pred=model(x_data)   #this automtically call forward\n",
    "    loss=criterion(y_pred,y_data)\n",
    "    \n",
    "    \n",
    "    tmp=torch.tensor([loss])\n",
    "    loss_=torch.cat((loss_,tmp))\n",
    "    optimizer.zero_grad()   #initilize gradient to zero before every step, to avoid accumulation ,zero off good for RNN\n",
    "    loss.backward()         #calculate gradient\n",
    "    optimizer.step()        #update parameter (weights)\n",
    "    t0=torch.tensor([1.0])\n",
    "    t1=torch.tensor([4.0])\n",
    "    t2=torch.tensor([7.0])\n",
    "    output0=model.forward(t0)\n",
    "    output1=model.forward(t1)\n",
    "    output2=model.forward(t2)\n",
    "    #_, predicted0=torch.max(output0.data, 1)\n",
    "    #_, predicted1=torch.max(output1.data, 1)\n",
    "    #_, predicted2=torch.max(output2.data, 1)\n",
    "    if(epoch%5==0): print('epoch:',epoch,'loss:',loss,'1.0',output0,'4.0',output1,'7.0',output2)\n",
    "    \n",
    "    \n"
   ]
  },
  {
   "cell_type": "code",
   "execution_count": 777,
   "metadata": {},
   "outputs": [
    {
     "name": "stdout",
     "output_type": "stream",
     "text": [
      "tensor([ 1.1394])\n",
      "tensor(-2.7079)\n"
     ]
    }
   ],
   "source": [
    "for i,parameter in enumerate(model.parameters()):\n",
    "    #print('w:',list(model.parameters()[0]),'bias:',list(model.parameters()[0])) \n",
    "\n",
    "    print(parameter[0])    \n",
    "    "
   ]
  },
  {
   "cell_type": "code",
   "execution_count": 778,
   "metadata": {},
   "outputs": [],
   "source": [
    "loss_softmax_tan=loss_"
   ]
  },
  {
   "cell_type": "code",
   "execution_count": 779,
   "metadata": {},
   "outputs": [
    {
     "data": {
      "image/png": "[encoded data removed]",
      "text/plain": [
       "<Figure size 432x288 with 1 Axes>"
      ]
     },
     "metadata": {},
     "output_type": "display_data"
    }
   ],
   "source": [
    "\n",
    "plt.plot(np.arange(0,epochs,1),loss_SGD_01.detach().numpy(),label='SGD_0.1_sigmoid')  #lr=0.01 #need to detach gradient for graph breakdown otherwise won't do numpy in the middle of graph (good for end of run)\n",
    "plt.plot(np.arange(0,epochs,1),loss_softmax_tan.detach().numpy(),label='SGD_softmax_tan') \n",
    "#plt.plot(np.arange(0,epochs,1),loss_sgd_mom.detach().numpy(),label='SGD_0.01_mom_0.9')   #lr=0.01 momentum=0.9\n",
    "#plt.plot(np.arange(0,epochs,1),loss_Adam.detach().numpy(),label='Adam_0.1') #lr=0.1\n",
    "#plt.xlim([-1,40])\n",
    "plt.legend()\n",
    "plt.show() \n",
    "\n",
    "\n",
    "#SGD w/o momentum look better in converging, than with momentum"
   ]
  },
  {
   "cell_type": "code",
   "execution_count": 732,
   "metadata": {},
   "outputs": [
    {
     "data": {
      "text/plain": [
       "tensor(0.6775)"
      ]
     },
     "execution_count": 732,
     "metadata": {},
     "output_type": "execute_result"
    }
   ],
   "source": [
    "test=torch.tensor([4.0])\n",
    "model.forward(test).data[0]"
   ]
  },
  {
   "cell_type": "code",
   "execution_count": null,
   "metadata": {},
   "outputs": [],
   "source": []
  },
  {
   "cell_type": "code",
   "execution_count": null,
   "metadata": {},
   "outputs": [],
   "source": []
  }
 ],
 "metadata": {
  "kernelspec": {
   "display_name": "Python [conda env:Anaconda3]",
   "language": "python",
   "name": "conda-env-Anaconda3-py"
  },
  "language_info": {
   "codemirror_mode": {
    "name": "ipython",
    "version": 3
   },
   "file_extension": ".py",
   "mimetype": "text/x-python",
   "name": "python",
   "nbconvert_exporter": "python",
   "pygments_lexer": "ipython3",
   "version": "3.6.4"
  }
 },
 "nbformat": 4,
 "nbformat_minor": 2
}
