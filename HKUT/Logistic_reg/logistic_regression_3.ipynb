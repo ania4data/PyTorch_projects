{
 "cells": [
  {
   "cell_type": "code",
   "execution_count": 380,
   "metadata": {},
   "outputs": [],
   "source": [
    "import numpy as np\n",
    "import torch\n",
    "from torch import nn\n",
    "import torch.nn.functional as F\n",
    "from torch.autograd import Variable\n",
    "import matplotlib.pyplot as plt"
   ]
  },
  {
   "cell_type": "code",
   "execution_count": 381,
   "metadata": {},
   "outputs": [],
   "source": [
    "x_data=Variable(torch.tensor([[1.0],[2.0],[3.0],[4.0]]))  # this makes is 3*1,  only one feature, require grad default to false\n",
    "y_data=Variable(torch.tensor([[0.0],[0.0],[1.0],[1.0]]))   #Variable:Wraps a tensor and records the operations applied to it\n",
    "epochs=500"
   ]
  },
  {
   "cell_type": "code",
   "execution_count": 382,
   "metadata": {},
   "outputs": [],
   "source": [
    "#torch.max(y_data, 1)[0]\n",
    "#y_data.view(-1)"
   ]
  },
  {
   "cell_type": "code",
   "execution_count": 383,
   "metadata": {},
   "outputs": [],
   "source": [
    "class Model(torch.nn.Module):\n",
    "    def __init__(self):\n",
    "        super(Model,self).__init__()   #call in the init of the nn.Module\n",
    "        self.fc1=torch.nn.Linear(1,1)  #one feature in, one feature out 1*1\n",
    "        #self.relu1=torch.nn.ReLU()\n",
    "        #self.tanh1 = torch.nn.Tanh()\n",
    "        \n",
    "        \n",
    "    def forward(self,x):  \n",
    "        \n",
    "        #y_pred=F.sigmoid(self.fc1(x))\n",
    "        #t=self.tanh1(self.fc1(x))\n",
    "        t=self.fc1(x)\n",
    "        #t=F.tanh(t)     #in order to use tanh since it keep the out put between -1 and 1, need to modify ytarget to -1 and 1\n",
    "                        # also the binary BCF loss would not work for -1 and 1 (need 0,1 ) so had to change loss function to\n",
    "                        # torch.nn.SoftMarginLoss target tensor y (containing 1 or -1)\n",
    "        t=F.relu(t)\n",
    "        #t=torch.nn.Tanh(t)\n",
    "        #t=self.relu1(t)\n",
    "        #t=F.softmax(t,dim=0)\n",
    "        #y_pred=self.soft1(t)\n",
    "        y_pred=F.softmax(t,dim=0)\n",
    "        \n",
    "        return y_pred\n",
    "        "
   ]
  },
  {
   "cell_type": "code",
   "execution_count": 384,
   "metadata": {},
   "outputs": [],
   "source": [
    "model=Model()"
   ]
  },
  {
   "cell_type": "code",
   "execution_count": 385,
   "metadata": {},
   "outputs": [
    {
     "name": "stdout",
     "output_type": "stream",
     "text": [
      "<bound method Module.parameters of Model(\n",
      "  (fc1): Linear(in_features=1, out_features=1, bias=True)\n",
      ")>\n"
     ]
    }
   ],
   "source": [
    "print(model.parameters)"
   ]
  },
  {
   "cell_type": "code",
   "execution_count": 386,
   "metadata": {},
   "outputs": [
    {
     "name": "stdout",
     "output_type": "stream",
     "text": [
      "tensor([-0.1805])\n",
      "tensor(0.9578)\n"
     ]
    }
   ],
   "source": [
    "for parameter in model.parameters(): print((parameter[0]))   #initillizing it on its own"
   ]
  },
  {
   "cell_type": "code",
   "execution_count": 387,
   "metadata": {},
   "outputs": [
    {
     "data": {
      "text/plain": [
       "[Parameter containing:\n",
       " tensor([[-0.1805]]), Parameter containing:\n",
       " tensor([ 0.9578])]"
      ]
     },
     "execution_count": 387,
     "metadata": {},
     "output_type": "execute_result"
    }
   ],
   "source": [
    "list((model.parameters()))"
   ]
  },
  {
   "cell_type": "code",
   "execution_count": 388,
   "metadata": {},
   "outputs": [],
   "source": [
    "criterion=torch.nn.BCELoss(size_average=True)   #loss initilization, binary cross entropy need to be 0,1 y\n",
    "#criterion=torch.nn.HingeEmbeddingLoss(margin=0.0)  #soso\n",
    "#criterion=torch.nn.SoftMarginLoss()\n",
    "#criterion=torch.nn.CrossEntropyLoss()   #cross entropy and NLL donot accept onehot code need (input*C) tensor for target (long()?)\n",
    "#criterion=torch.nn.NLLLoss()\n",
    "#optimizer=torch.optim.SGD(model.parameters(),lr=0.01)  #init SGD with initilized model.paramter  (w/ grad, weight and bias)\n",
    "#optimizer=torch.optim.Adam(model.parameters(),lr=0.1)\n",
    "#optimizer=torch.optim.SGD(model.parameters(),lr=0.01,momentum=0.9)\n",
    "optimizer=torch.optim.SGD(model.parameters(),lr=0.1)\n",
    "\n",
    "#torch.optim will hold the current state and will update the parameters based on the computed gradients. iterable containing the parameters (Variable)"
   ]
  },
  {
   "cell_type": "code",
   "execution_count": 389,
   "metadata": {},
   "outputs": [
    {
     "name": "stdout",
     "output_type": "stream",
     "text": [
      "epoch: 0 loss: tensor(0.9684) 1.0 tensor([ 1.]) 4.0 tensor([ 1.]) 7.0 tensor([ 1.])\n",
      "epoch: 10 loss: tensor(0.6254) 1.0 tensor([ 1.]) 4.0 tensor([ 1.]) 7.0 tensor([ 1.])\n",
      "epoch: 20 loss: tensor(0.5403) 1.0 tensor([ 1.]) 4.0 tensor([ 1.]) 7.0 tensor([ 1.])\n",
      "epoch: 30 loss: tensor(0.5139) 1.0 tensor([ 1.]) 4.0 tensor([ 1.]) 7.0 tensor([ 1.])\n",
      "epoch: 40 loss: tensor(0.5040) 1.0 tensor([ 1.]) 4.0 tensor([ 1.]) 7.0 tensor([ 1.])\n",
      "epoch: 50 loss: tensor(0.4998) 1.0 tensor([ 1.]) 4.0 tensor([ 1.]) 7.0 tensor([ 1.])\n",
      "epoch: 60 loss: tensor(0.4980) 1.0 tensor([ 1.]) 4.0 tensor([ 1.]) 7.0 tensor([ 1.])\n",
      "epoch: 70 loss: tensor(0.4971) 1.0 tensor([ 1.]) 4.0 tensor([ 1.]) 7.0 tensor([ 1.])\n",
      "epoch: 80 loss: tensor(0.4967) 1.0 tensor([ 1.]) 4.0 tensor([ 1.]) 7.0 tensor([ 1.])\n",
      "epoch: 90 loss: tensor(0.4965) 1.0 tensor([ 1.]) 4.0 tensor([ 1.]) 7.0 tensor([ 1.])\n",
      "epoch: 100 loss: tensor(0.4963) 1.0 tensor([ 1.]) 4.0 tensor([ 1.]) 7.0 tensor([ 1.])\n",
      "epoch: 110 loss: tensor(0.4963) 1.0 tensor([ 1.]) 4.0 tensor([ 1.]) 7.0 tensor([ 1.])\n",
      "epoch: 120 loss: tensor(0.4963) 1.0 tensor([ 1.]) 4.0 tensor([ 1.]) 7.0 tensor([ 1.])\n",
      "epoch: 130 loss: tensor(0.4963) 1.0 tensor([ 1.]) 4.0 tensor([ 1.]) 7.0 tensor([ 1.])\n",
      "epoch: 140 loss: tensor(0.4963) 1.0 tensor([ 1.]) 4.0 tensor([ 1.]) 7.0 tensor([ 1.])\n",
      "epoch: 150 loss: tensor(0.4962) 1.0 tensor([ 1.]) 4.0 tensor([ 1.]) 7.0 tensor([ 1.])\n",
      "epoch: 160 loss: tensor(0.4962) 1.0 tensor([ 1.]) 4.0 tensor([ 1.]) 7.0 tensor([ 1.])\n",
      "epoch: 170 loss: tensor(0.4962) 1.0 tensor([ 1.]) 4.0 tensor([ 1.]) 7.0 tensor([ 1.])\n",
      "epoch: 180 loss: tensor(0.4962) 1.0 tensor([ 1.]) 4.0 tensor([ 1.]) 7.0 tensor([ 1.])\n",
      "epoch: 190 loss: tensor(0.4962) 1.0 tensor([ 1.]) 4.0 tensor([ 1.]) 7.0 tensor([ 1.])\n",
      "epoch: 200 loss: tensor(0.4962) 1.0 tensor([ 1.]) 4.0 tensor([ 1.]) 7.0 tensor([ 1.])\n",
      "epoch: 210 loss: tensor(0.4962) 1.0 tensor([ 1.]) 4.0 tensor([ 1.]) 7.0 tensor([ 1.])\n",
      "epoch: 220 loss: tensor(0.4962) 1.0 tensor([ 1.]) 4.0 tensor([ 1.]) 7.0 tensor([ 1.])\n",
      "epoch: 230 loss: tensor(0.4962) 1.0 tensor([ 1.]) 4.0 tensor([ 1.]) 7.0 tensor([ 1.])\n",
      "epoch: 240 loss: tensor(0.4962) 1.0 tensor([ 1.]) 4.0 tensor([ 1.]) 7.0 tensor([ 1.])\n",
      "epoch: 250 loss: tensor(0.4962) 1.0 tensor([ 1.]) 4.0 tensor([ 1.]) 7.0 tensor([ 1.])\n",
      "epoch: 260 loss: tensor(0.4962) 1.0 tensor([ 1.]) 4.0 tensor([ 1.]) 7.0 tensor([ 1.])\n",
      "epoch: 270 loss: tensor(0.4962) 1.0 tensor([ 1.]) 4.0 tensor([ 1.]) 7.0 tensor([ 1.])\n",
      "epoch: 280 loss: tensor(0.4962) 1.0 tensor([ 1.]) 4.0 tensor([ 1.]) 7.0 tensor([ 1.])\n",
      "epoch: 290 loss: tensor(0.4962) 1.0 tensor([ 1.]) 4.0 tensor([ 1.]) 7.0 tensor([ 1.])\n",
      "epoch: 300 loss: tensor(0.4962) 1.0 tensor([ 1.]) 4.0 tensor([ 1.]) 7.0 tensor([ 1.])\n",
      "epoch: 310 loss: tensor(0.4962) 1.0 tensor([ 1.]) 4.0 tensor([ 1.]) 7.0 tensor([ 1.])\n",
      "epoch: 320 loss: tensor(0.4962) 1.0 tensor([ 1.]) 4.0 tensor([ 1.]) 7.0 tensor([ 1.])\n",
      "epoch: 330 loss: tensor(0.4962) 1.0 tensor([ 1.]) 4.0 tensor([ 1.]) 7.0 tensor([ 1.])\n",
      "epoch: 340 loss: tensor(0.4962) 1.0 tensor([ 1.]) 4.0 tensor([ 1.]) 7.0 tensor([ 1.])\n",
      "epoch: 350 loss: tensor(0.4962) 1.0 tensor([ 1.]) 4.0 tensor([ 1.]) 7.0 tensor([ 1.])\n",
      "epoch: 360 loss: tensor(0.4962) 1.0 tensor([ 1.]) 4.0 tensor([ 1.]) 7.0 tensor([ 1.])\n",
      "epoch: 370 loss: tensor(0.4962) 1.0 tensor([ 1.]) 4.0 tensor([ 1.]) 7.0 tensor([ 1.])\n",
      "epoch: 380 loss: tensor(0.4962) 1.0 tensor([ 1.]) 4.0 tensor([ 1.]) 7.0 tensor([ 1.])\n",
      "epoch: 390 loss: tensor(0.4962) 1.0 tensor([ 1.]) 4.0 tensor([ 1.]) 7.0 tensor([ 1.])\n",
      "epoch: 400 loss: tensor(0.4962) 1.0 tensor([ 1.]) 4.0 tensor([ 1.]) 7.0 tensor([ 1.])\n",
      "epoch: 410 loss: tensor(0.4962) 1.0 tensor([ 1.]) 4.0 tensor([ 1.]) 7.0 tensor([ 1.])\n",
      "epoch: 420 loss: tensor(0.4962) 1.0 tensor([ 1.]) 4.0 tensor([ 1.]) 7.0 tensor([ 1.])\n",
      "epoch: 430 loss: tensor(0.4962) 1.0 tensor([ 1.]) 4.0 tensor([ 1.]) 7.0 tensor([ 1.])\n",
      "epoch: 440 loss: tensor(0.4962) 1.0 tensor([ 1.]) 4.0 tensor([ 1.]) 7.0 tensor([ 1.])\n",
      "epoch: 450 loss: tensor(0.4962) 1.0 tensor([ 1.]) 4.0 tensor([ 1.]) 7.0 tensor([ 1.])\n",
      "epoch: 460 loss: tensor(0.4962) 1.0 tensor([ 1.]) 4.0 tensor([ 1.]) 7.0 tensor([ 1.])\n",
      "epoch: 470 loss: tensor(0.4962) 1.0 tensor([ 1.]) 4.0 tensor([ 1.]) 7.0 tensor([ 1.])\n",
      "epoch: 480 loss: tensor(0.4962) 1.0 tensor([ 1.]) 4.0 tensor([ 1.]) 7.0 tensor([ 1.])\n",
      "epoch: 490 loss: tensor(0.4962) 1.0 tensor([ 1.]) 4.0 tensor([ 1.]) 7.0 tensor([ 1.])\n"
     ]
    }
   ],
   "source": [
    "loss_=torch.tensor([])\n",
    "for epoch in range(epochs):\n",
    "    \n",
    "    #for parameter in model.parameters(): print('epoch',epoch,parameter[0]) \n",
    "    y_pred=model(x_data)   #this automtically call forward\n",
    "    #target.squeeze(1)\n",
    "    #target=y_data.squeeze(1)\n",
    "    target=y_data          #.view(-1)\n",
    "    loss=criterion(y_pred,target)\n",
    "    \n",
    "    \n",
    "    tmp=torch.tensor([loss])\n",
    "    loss_=torch.cat((loss_,tmp))\n",
    "    optimizer.zero_grad()   #initilize gradient to zero before every step, to avoid accumulation ,zero off good for RNN\n",
    "    loss.backward()         #calculate gradient\n",
    "    optimizer.step()        #update parameter (weights)\n",
    "    t0=torch.tensor([1.0])\n",
    "    t1=torch.tensor([4.0])\n",
    "    t2=torch.tensor([7.0])\n",
    "    output0=model.forward(t0)\n",
    "    output1=model.forward(t1)\n",
    "    output2=model.forward(t2)\n",
    "    #_, predicted0=torch.max(output0.data, 1)\n",
    "    #_, predicted1=torch.max(output1.data, 1)\n",
    "    #_, predicted2=torch.max(output2.data, 1)\n",
    "    if(epoch%10==0): print('epoch:',epoch,'loss:',loss,'1.0',output0,'4.0',output1,'7.0',output2)\n",
    "    \n",
    "    \n"
   ]
  },
  {
   "cell_type": "code",
   "execution_count": 390,
   "metadata": {},
   "outputs": [
    {
     "name": "stdout",
     "output_type": "stream",
     "text": [
      "tensor([ 1.1656])\n",
      "tensor(0.9578)\n"
     ]
    }
   ],
   "source": [
    "for i,parameter in enumerate(model.parameters()):\n",
    "    #print('w:',list(model.parameters()[0]),'bias:',list(model.parameters()[0])) \n",
    "\n",
    "    print(parameter[0])    \n",
    "    "
   ]
  },
  {
   "cell_type": "code",
   "execution_count": 391,
   "metadata": {},
   "outputs": [],
   "source": [
    "loss_softmax_relu=loss_"
   ]
  },
  {
   "cell_type": "code",
   "execution_count": 392,
   "metadata": {},
   "outputs": [
    {
     "data": {
      "image/png": "[encoded data removed]",
      "text/plain": [
       "<Figure size 432x288 with 1 Axes>"
      ]
     },
     "metadata": {},
     "output_type": "display_data"
    }
   ],
   "source": [
    "\n",
    "#plt.plot(np.arange(0,epochs,1),loss_SGD_01.detach().numpy(),label='SGD_0.1_sigmoid')  #lr=0.01 #need to detach gradient for graph breakdown otherwise won't do numpy in the middle of graph (good for end of run)\n",
    "plt.plot(np.arange(0,epochs,1),loss_softmax_relu.detach().numpy(),label='SGD_softmax_relu') \n",
    "#plt.plot(np.arange(0,epochs,1),loss_sgd_mom.detach().numpy(),label='SGD_0.01_mom_0.9')   #lr=0.01 momentum=0.9\n",
    "#plt.plot(np.arange(0,epochs,1),loss_Adam.detach().numpy(),label='Adam_0.1') #lr=0.1\n",
    "#plt.xlim([-1,40])\n",
    "plt.legend()\n",
    "plt.show() \n",
    "\n",
    "\n",
    "#SGD w/o momentum look better in converging, than with momentum"
   ]
  },
  {
   "cell_type": "code",
   "execution_count": 732,
   "metadata": {},
   "outputs": [
    {
     "data": {
      "text/plain": [
       "tensor(0.6775)"
      ]
     },
     "execution_count": 732,
     "metadata": {},
     "output_type": "execute_result"
    }
   ],
   "source": [
    "test=torch.tensor([4.0])\n",
    "model.forward(test).data[0]"
   ]
  },
  {
   "cell_type": "code",
   "execution_count": null,
   "metadata": {},
   "outputs": [],
   "source": []
  },
  {
   "cell_type": "code",
   "execution_count": null,
   "metadata": {},
   "outputs": [],
   "source": []
  }
 ],
 "metadata": {
  "kernelspec": {
   "display_name": "Python [conda env:Anaconda3]",
   "language": "python",
   "name": "conda-env-Anaconda3-py"
  },
  "language_info": {
   "codemirror_mode": {
    "name": "ipython",
    "version": 3
   },
   "file_extension": ".py",
   "mimetype": "text/x-python",
   "name": "python",
   "nbconvert_exporter": "python",
   "pygments_lexer": "ipython3",
   "version": "3.6.4"
  }
 },
 "nbformat": 4,
 "nbformat_minor": 2
}
