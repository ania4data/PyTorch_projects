{
 "cells": [
  {
   "cell_type": "code",
   "execution_count": 10,
   "metadata": {},
   "outputs": [],
   "source": [
    "import numpy as np\n",
    "import torch\n",
    "import torchvision\n",
    "from torch.utils.data import DataLoader,Dataset\n",
    "from torchvision import datasets,transforms,utils\n",
    "import matplotlib.pyplot as plt\n",
    "import torch.nn.functional as F\n",
    "\n",
    "transform = transforms.Compose([transforms.ToTensor(),\n",
    "                                transforms.Normalize((0.5, 0.5, 0.5), (0.5, 0.5, 0.5))])\n",
    "\n",
    "trainset=datasets.MNIST('MNIST/',transform=transform,download=True)\n",
    "train_loader=DataLoader(trainset,batch_size=64,shuffle=True)\n",
    "\n"
   ]
  },
  {
   "cell_type": "code",
   "execution_count": 11,
   "metadata": {
    "scrolled": true
   },
   "outputs": [
    {
     "name": "stdout",
     "output_type": "stream",
     "text": [
      "torch.Size([64, 1, 28, 28])\n",
      "torch.Size([64])\n"
     ]
    },
    {
     "data": {
      "text/plain": [
       "<matplotlib.image.AxesImage at 0x212eb3292e8>"
      ]
     },
     "execution_count": 11,
     "metadata": {},
     "output_type": "execute_result"
    },
    {
     "data": {
      "image/png": "[encoded data removed]",
      "text/plain": [
       "<Figure size 432x288 with 1 Axes>"
      ]
     },
     "metadata": {},
     "output_type": "display_data"
    }
   ],
   "source": [
    "image,label=next(iter(train_loader))\n",
    "print(image.size())\n",
    "print(label.size())\n",
    "plt.imshow(image[0][0,:])"
   ]
  },
  {
   "cell_type": "code",
   "execution_count": 12,
   "metadata": {},
   "outputs": [
    {
     "data": {
      "text/plain": [
       "tensor([ 8,  3,  0,  9,  3,  4,  8,  7,  5,  0,  4,  2,  5,  0,\n",
       "         0,  7,  6,  2,  6,  9,  9,  0,  5,  3,  2,  5,  1,  9,\n",
       "         7,  7,  0,  8,  3,  7,  0,  4,  0,  5,  9,  8,  0,  4,\n",
       "         1,  9,  7,  5,  1,  5,  7,  8,  8,  5,  6,  5,  9,  1,\n",
       "         8,  7,  1,  6,  1,  2,  8,  0])"
      ]
     },
     "execution_count": 12,
     "metadata": {},
     "output_type": "execute_result"
    }
   ],
   "source": [
    "label"
   ]
  },
  {
   "cell_type": "code",
   "execution_count": 13,
   "metadata": {},
   "outputs": [],
   "source": [
    "class Network(torch.nn.Module):\n",
    "    \n",
    "    def __init__(self):\n",
    "        super(Network,self).__init__()\n",
    "        self.fc1=torch.nn.Linear(784,400)\n",
    "#        self.dropout1=torch.nn.Dropout(p=0.2)\n",
    "        self.fc2=torch.nn.Linear(400,200)\n",
    "        self.dropout2=torch.nn.Dropout(p=0.2)\n",
    "        self.fc3=torch.nn.Linear(200,100)\n",
    "        self.fc4=torch.nn.Linear(100,10)\n",
    "        #self.sigmoid=torch.nn.Sigmoid()\n",
    "        \n",
    "        \n",
    "    def forward(self,x):\n",
    "        \n",
    "        out1=F.relu(self.fc1(x))\n",
    "#        out1=self.dropout1(out1)\n",
    "        out2=F.relu(self.fc2(out1))\n",
    "        out2=self.dropout2(out2)\n",
    "        out3=F.relu(self.fc3(out2))\n",
    "        out4=self.fc4(out3)   #sof max at end, or sigmoid all the way did not work out\n",
    "        #y_pred=F.softmax(out4,dim=1)   #if don't need probability as out put not necessary output4 is batch_size*10\n",
    "        y_pred=out4\n",
    "        return y_pred\n",
    "\n",
    "model=Network()    \n",
    "    "
   ]
  },
  {
   "cell_type": "code",
   "execution_count": 14,
   "metadata": {},
   "outputs": [],
   "source": [
    "epochs=5\n",
    "criterion=torch.nn.CrossEntropyLoss()  #if increase the lr to 0.1, it kicks to local min and stays\n",
    "optimizer=torch.optim.Adam(model.parameters(),lr=0.01)  #had to change from SGD to Adam but later noy much difference\n",
    "lr_scheduler_=torch.optim.lr_scheduler.ReduceLROnPlateau(optimizer, 'min')\n",
    "#lr_scheduler_=torch.optim.lr_scheduler.CosineAnnealingLR(optimizer,T_max=epochs)"
   ]
  },
  {
   "cell_type": "code",
   "execution_count": 15,
   "metadata": {},
   "outputs": [
    {
     "name": "stdout",
     "output_type": "stream",
     "text": [
      "torch.Size([64, 10]) torch.Size([64])\n",
      "epoch 0 / 5 running_loss: 0.015094327405095101 Accuracy 67.7421875\n",
      "epoch 0 / 5 running_loss: 0.011576089932932519 Accuracy 76.3046875\n",
      "epoch 0 / 5 running_loss: 0.009917514342038582 Accuracy 80.3125\n",
      "epoch 0 / 5 running_loss: 0.00890630728637916 Accuracy 82.60546875\n",
      "epoch 1 / 5 running_loss: 0.008342256498271007 Accuracy 83.94040770385193\n",
      "epoch 1 / 5 running_loss: 0.007814020267736265 Accuracy 85.12531263026261\n",
      "epoch 1 / 5 running_loss: 0.007468995363686118 Accuracy 85.90679707038228\n",
      "epoch 1 / 5 running_loss: 0.007160702638477134 Accuracy 86.58369803063458\n",
      "epoch 1 / 5 running_loss: 0.006984099763152884 Accuracy 86.98683662128369\n",
      "epoch 2 / 5 running_loss: 0.006811869095544098 Accuracy 87.37259254627314\n",
      "epoch 2 / 5 running_loss: 0.006598662807950907 Accuracy 87.79701000454752\n",
      "epoch 2 / 5 running_loss: 0.006453410183014903 Accuracy 88.12135264693622\n",
      "epoch 2 / 5 running_loss: 0.006350083104111706 Accuracy 88.36150923432089\n",
      "epoch 2 / 5 running_loss: 0.0062614002921312405 Accuracy 88.55841371918542\n",
      "epoch 3 / 5 running_loss: 0.006170133131091716 Accuracy 88.73186593296649\n",
      "epoch 3 / 5 running_loss: 0.00606274408625626 Accuracy 88.9469673284352\n",
      "epoch 3 / 5 running_loss: 0.005982754189848278 Accuracy 89.13123436810358\n",
      "epoch 3 / 5 running_loss: 0.005923949249889906 Accuracy 89.29284771432542\n",
      "epoch 4 / 5 running_loss: 0.005848340957817632 Accuracy 89.47390073723012\n",
      "epoch 4 / 5 running_loss: 0.005800623514548805 Accuracy 89.60339544772386\n",
      "epoch 4 / 5 running_loss: 0.005738410916594387 Accuracy 89.74474452120057\n",
      "epoch 4 / 5 running_loss: 0.00568305862311364 Accuracy 89.87288256025467\n",
      "epoch 4 / 5 running_loss: 0.005641528869346977 Accuracy 89.97220258808177\n"
     ]
    }
   ],
   "source": [
    "#torch.set_printoptions(precision=2)\n",
    "\n",
    "loss_running=0\n",
    "count=0\n",
    "count_batch=0\n",
    "sum_acc=0\n",
    "\n",
    "for epoch in range(epochs):\n",
    "\n",
    "    for input,label in iter(train_loader):\n",
    "        \n",
    "        input.resize_(input.size()[0], 784)\n",
    "        y_pred=model(input)   #this is 64 (bacth_size)*10\n",
    "\n",
    "        if(count==0): print(y_pred.size(),label.size())\n",
    "        loss=criterion(y_pred,label)    #criterion(y_pred,label), crossentropy criterion need long (output of forward) and normal tensor (target)\n",
    "        loss_running=loss_running+loss.item()\n",
    "        optimizer.zero_grad()\n",
    "        loss.backward()\n",
    "        optimizer.step()\n",
    "        count=count+1\n",
    "        #y_pred_round=torch.round(y_pred)\n",
    "        count_batch=count_batch+(label.size()[0])\n",
    "        _,y_pred_=torch.max(y_pred,dim=1)    #argmax is the second value returned by torch.max()  ,this collapse dimension to batch size with argmax of probabililty/value (second) item, first one is the value itself \n",
    "          \n",
    "        acc=(label==y_pred_).sum().item()    #/label.size()[0]\n",
    "        sum_acc=sum_acc+acc\n",
    "        if(count%200==0): print('epoch',epoch,'/',epochs,'running_loss:',(loss_running/count_batch),'Accuracy',(sum_acc*100/count_batch))\n",
    " \n",
    "    check_loss=(loss_running/count_batch)\n",
    "    lr_scheduler_.step(check_loss)\n",
    "   \n",
    "    "
   ]
  },
  {
   "cell_type": "code",
   "execution_count": null,
   "metadata": {},
   "outputs": [],
   "source": []
  }
 ],
 "metadata": {
  "kernelspec": {
   "display_name": "Python [conda env:Anaconda3]",
   "language": "python",
   "name": "conda-env-Anaconda3-py"
  }
 },
 "nbformat": 4,
 "nbformat_minor": 2
}
