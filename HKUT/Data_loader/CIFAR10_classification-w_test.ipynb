{
 "cells": [
  {
   "cell_type": "code",
   "execution_count": 34,
   "metadata": {},
   "outputs": [],
   "source": [
    "import numpy as np\n",
    "import torch\n",
    "import torchvision\n",
    "from torch.utils.data import DataLoader,Dataset\n",
    "from torchvision import datasets,transforms,utils\n",
    "import matplotlib.pyplot as plt\n",
    "import torch.nn.functional as F\n",
    "\n"
   ]
  },
  {
   "cell_type": "code",
   "execution_count": 35,
   "metadata": {},
   "outputs": [
    {
     "name": "stdout",
     "output_type": "stream",
     "text": [
      "Files already downloaded and verified\n",
      "Files already downloaded and verified\n"
     ]
    }
   ],
   "source": [
    "transform = transforms.Compose(\n",
    "    [transforms.Grayscale(),transforms.ToTensor(),transforms.Normalize((0.5, 0.5, 0.5), (0.5, 0.5, 0.5))])   #needed to do grayscale cob=nversion before normalizing to tensor\n",
    "trainset=datasets.CIFAR10('CIFAR10/',train=True,transform=transform,download=True)\n",
    "train_loader=DataLoader(trainset,batch_size=64,shuffle=True)\n",
    "\n",
    "testset=datasets.CIFAR10('CIFAR10/',train=False,transform=transform,download=True)\n",
    "test_loader=DataLoader(testset,batch_size=64,shuffle=True)\n",
    "   #,transforms.Normalize((0.5, 0.5, 0.5), (0.5, 0.5, 0.5))"
   ]
  },
  {
   "cell_type": "code",
   "execution_count": 36,
   "metadata": {
    "scrolled": true
   },
   "outputs": [
    {
     "name": "stdout",
     "output_type": "stream",
     "text": [
      "torch.Size([64, 1, 32, 32])\n",
      "torch.Size([64])\n"
     ]
    },
    {
     "data": {
      "text/plain": [
       "<matplotlib.image.AxesImage at 0x240181a3cf8>"
      ]
     },
     "execution_count": 36,
     "metadata": {},
     "output_type": "execute_result"
    },
    {
     "data": {
      "image/png": "[encoded data removed]",
      "text/plain": [
       "<Figure size 432x288 with 1 Axes>"
      ]
     },
     "metadata": {},
     "output_type": "display_data"
    }
   ],
   "source": [
    "image,label=next(iter(train_loader))\n",
    "print(image.size())\n",
    "print(label.size())\n",
    "plt.imshow(image[0][0,:])"
   ]
  },
  {
   "cell_type": "code",
   "execution_count": 37,
   "metadata": {},
   "outputs": [
    {
     "data": {
      "text/plain": [
       "tensor([ 9,  8,  8,  3,  1,  8,  2,  5,  1,  7,  7,  7,  9,  1,\n",
       "         5,  1,  0,  5,  1,  9,  9,  7,  8,  1,  7,  0,  4,  6,\n",
       "         5,  4,  7,  9,  4,  3,  9,  8,  1,  1,  5,  6,  7,  0,\n",
       "         0,  8,  4,  2,  3,  1,  0,  7,  4,  0,  0,  6,  9,  5,\n",
       "         7,  8,  4,  5,  4,  0,  3,  7])"
      ]
     },
     "execution_count": 37,
     "metadata": {},
     "output_type": "execute_result"
    }
   ],
   "source": [
    "label"
   ]
  },
  {
   "cell_type": "code",
   "execution_count": 38,
   "metadata": {},
   "outputs": [],
   "source": [
    "class Network(torch.nn.Module):\n",
    "    \n",
    "    def __init__(self):\n",
    "        super(Network,self).__init__()\n",
    "        self.fc1=torch.nn.Linear(1024,600)\n",
    "        self.dropout1=torch.nn.Dropout(p=0.2)\n",
    "        self.fc2=torch.nn.Linear(600,400)\n",
    "        self.fc3=torch.nn.Linear(400,200)\n",
    "        self.dropout2=torch.nn.Dropout(p=0.2)\n",
    "        self.fc4=torch.nn.Linear(200,100)\n",
    "        self.fc5=torch.nn.Linear(100,10)\n",
    "        #self.sigmoid=torch.nn.Sigmoid()\n",
    "        \n",
    "        \n",
    "    def forward(self,x):\n",
    "        \n",
    "        x=x.view(-1,1024)  #flatten in forward instead of train\n",
    "        out1=F.relu(self.fc1(x))\n",
    "        out1=self.dropout1(out1)\n",
    "        out2=F.relu(self.fc2(out1))\n",
    "        out2=self.dropout2(out2)\n",
    "        out3=F.relu(self.fc3(out2))\n",
    "        out4=F.relu(self.fc4(out3))   #sof max at end, or sigmoid all the way did not work out\n",
    "        #y_pred=F.softmax(out4,dim=1)   #if don't need probability as out put not necessary output4 is batch_size*10\n",
    "        y_pred=F.relu(self.fc5(out4))\n",
    "        return y_pred\n",
    "\n",
    "model=Network()    \n",
    "    "
   ]
  },
  {
   "cell_type": "code",
   "execution_count": 39,
   "metadata": {},
   "outputs": [],
   "source": [
    "epochs=50\n",
    "criterion=torch.nn.CrossEntropyLoss()  #if increase the lr to 0.1, it kicks to local min and stays\n",
    "optimizer=torch.optim.SGD(model.parameters(),lr=0.01,momentum=0.9)  #had to change from SGD to Adam but later noy much difference\n",
    "lr_scheduler_=torch.optim.lr_scheduler.ReduceLROnPlateau(optimizer, 'min')\n",
    "#lr_scheduler_=torch.optim.lr_scheduler.CosineAnnealingLR(optimizer,T_max=epochs)"
   ]
  },
  {
   "cell_type": "code",
   "execution_count": 40,
   "metadata": {},
   "outputs": [
    {
     "name": "stdout",
     "output_type": "stream",
     "text": [
      "torch.Size([64, 10]) torch.Size([64])\n",
      "epoch 2 / 50 running_loss: 0.03341938165282798 Accuracy 21.838253690267702\n",
      "epoch 3 / 50 running_loss: 0.030685147154523577 Accuracy 28.886508631473607\n",
      "epoch 4 / 50 running_loss: 0.02905039086760199 Accuracy 33.04822366775081\n",
      "epoch 6 / 50 running_loss: 0.02790280544957333 Accuracy 35.888332812011264\n",
      "epoch 7 / 50 running_loss: 0.02699657999066342 Accuracy 38.13119307376639\n",
      "epoch 8 / 50 running_loss: 0.02626453789965594 Accuracy 39.875776721297804\n",
      "epoch 9 / 50 running_loss: 0.025615619516017728 Accuracy 41.407813840434656\n",
      "epoch 11 / 50 running_loss: 0.02502154796327469 Accuracy 42.81337973099781\n",
      "epoch 12 / 50 running_loss: 0.024483871664687736 Accuracy 44.07286540439848\n",
      "epoch 13 / 50 running_loss: 0.0239873404314751 Accuracy 45.25713767390651\n",
      "epoch 15 / 50 running_loss: 0.02352912097867968 Accuracy 46.33499590518222\n",
      "epoch 16 / 50 running_loss: 0.02307967707987076 Accuracy 47.370190803878636\n",
      "epoch 17 / 50 running_loss: 0.02266566229976707 Accuracy 48.36122767169695\n",
      "epoch 18 / 50 running_loss: 0.02226799804888489 Accuracy 49.277913814366656\n",
      "epoch 20 / 50 running_loss: 0.02188159231046602 Accuracy 50.16943179353719\n",
      "epoch 21 / 50 running_loss: 0.021511060416216043 Accuracy 51.029089771660935\n",
      "epoch 22 / 50 running_loss: 0.021159609878664363 Accuracy 51.82807233171909\n",
      "epoch 24 / 50 running_loss: 0.02082375918236307 Accuracy 52.59988739208408\n",
      "epoch 25 / 50 running_loss: 0.020486979422343676 Accuracy 53.37334382572964\n",
      "epoch 26 / 50 running_loss: 0.020169280893333936 Accuracy 54.10877385048483\n",
      "epoch 27 / 50 running_loss: 0.019868142223019584 Accuracy 54.798577846095185\n",
      "epoch 29 / 50 running_loss: 0.01957008003024289 Accuracy 55.48755346012103\n",
      "epoch 30 / 50 running_loss: 0.019277079082487127 Accuracy 56.151537323338374\n",
      "epoch 31 / 50 running_loss: 0.01899731964274531 Accuracy 56.80077676988844\n",
      "epoch 32 / 50 running_loss: 0.01873154357012004 Accuracy 57.41208073508363\n",
      "epoch 34 / 50 running_loss: 0.0184651296833551 Accuracy 58.02133761946468\n",
      "epoch 35 / 50 running_loss: 0.018213829870650927 Accuracy 58.597124135757845\n",
      "epoch 36 / 50 running_loss: 0.017970273009871737 Accuracy 59.16098797980249\n",
      "epoch 38 / 50 running_loss: 0.0177308383557014 Accuracy 59.71279629645609\n",
      "epoch 39 / 50 running_loss: 0.017493158912789648 Accuracy 60.25891263366865\n",
      "epoch 40 / 50 running_loss: 0.01726719493045997 Accuracy 60.78154387607662\n",
      "epoch 41 / 50 running_loss: 0.01705137820840686 Accuracy 61.275023459493276\n",
      "epoch 43 / 50 running_loss: 0.016837450859043812 Accuracy 61.76757738447306\n",
      "epoch 44 / 50 running_loss: 0.016630458060035033 Accuracy 62.241298731885394\n",
      "epoch 45 / 50 running_loss: 0.016429644251951765 Accuracy 62.69996532444877\n",
      "epoch 47 / 50 running_loss: 0.01623691628149234 Accuracy 63.14362896386815\n",
      "epoch 48 / 50 running_loss: 0.01604180067157285 Accuracy 63.58963607220392\n",
      "epoch 49 / 50 running_loss: 0.015851181077077572 Accuracy 64.03216698714571\n",
      "epoch 50 / 50 running_loss: 0.01567017216556459 Accuracy 64.44770873836244\n"
     ]
    }
   ],
   "source": [
    "#torch.set_printoptions(precision=2)\n",
    "def train_function(train_loader):\n",
    "    loss_running=0\n",
    "    count=0\n",
    "    count_batch=0\n",
    "    sum_acc=0\n",
    "\n",
    "    for epoch in range(epochs):\n",
    "\n",
    "        for input,label in iter(train_loader):\n",
    "\n",
    "            #input.resize_(input.size()[0], 784)   take to forward\n",
    "            y_pred=model(input)   #this is 64 (bacth_size)*10\n",
    "\n",
    "            if(count==0): print(y_pred.size(),label.size())\n",
    "            loss=criterion(y_pred,label)    #criterion(y_pred,label), crossentropy criterion need long (output of forward) and normal tensor (target)\n",
    "            loss_running=loss_running+loss.item()\n",
    "            optimizer.zero_grad()\n",
    "            loss.backward()\n",
    "            optimizer.step()\n",
    "            count=count+1\n",
    "            #y_pred_round=torch.round(y_pred)\n",
    "            count_batch=count_batch+(label.size()[0])\n",
    "            _,y_pred_=torch.max(y_pred,dim=1)    #argmax is the second value returned by torch.max()  ,this collapse dimension to batch size with argmax of probabililty/value (second) item, first one is the value itself \n",
    "\n",
    "            acc=(label==y_pred_).sum().item()    #/label.size()[0]\n",
    "            sum_acc=sum_acc+acc\n",
    "            if(count%1000==0): print('epoch',epoch+1,'/',epochs,'running_loss:',(loss_running/count_batch),'Accuracy',(sum_acc*100/count_batch))\n",
    "\n",
    "        check_loss=(loss_running/count_batch)\n",
    "        lr_scheduler_.step(check_loss)\n",
    "\n",
    "train_function(train_loader)"
   ]
  },
  {
   "cell_type": "code",
   "execution_count": 41,
   "metadata": {},
   "outputs": [
    {
     "name": "stdout",
     "output_type": "stream",
     "text": [
      "running_loss: 0.02918641835451126 Accuracy 48.9375\n"
     ]
    }
   ],
   "source": [
    "#torch.set_printoptions(precision=2)\n",
    "def test_function(test_loader):\n",
    "    loss_running=0\n",
    "    count=0\n",
    "    count_batch=0\n",
    "    sum_acc=0\n",
    "\n",
    "\n",
    "\n",
    "    for input,label in iter(test_loader):\n",
    "        model.eval()\n",
    "\n",
    "        #input.resize_(input.size()[0], 784)   take to forward\n",
    "        y_pred=model(input)   #this is 64 (bacth_size)*10\n",
    "\n",
    "        #if(count==0): print(y_pred.size(),label.size())\n",
    "        loss=criterion(y_pred,label)    #criterion(y_pred,label), crossentropy criterion need long (output of forward) and normal tensor (target)\n",
    "        loss_running=loss_running+loss.item()\n",
    "        count=count+1\n",
    "\n",
    "        count_batch=count_batch+(label.size()[0])\n",
    "        _,y_pred_=torch.max(y_pred,dim=1)    #argmax is the second value returned by torch.max()  ,this collapse dimension to batch size with argmax of probabililty/value (second) item, first one is the value itself \n",
    "\n",
    "        acc=(label==y_pred_).sum().item()    #/label.size()[0]\n",
    "        sum_acc=sum_acc+acc\n",
    "        if(count%100==0): print('running_loss:',(loss_running/count_batch),'Accuracy',(sum_acc*100/count_batch))\n",
    "\n",
    "\n",
    "\n",
    "\n",
    "test_function(test_loader)   #result show over fitting on train, bu toverall 50% is not too bad wihtout convnet"
   ]
  },
  {
   "cell_type": "code",
   "execution_count": null,
   "metadata": {},
   "outputs": [],
   "source": []
  },
  {
   "cell_type": "code",
   "execution_count": null,
   "metadata": {},
   "outputs": [],
   "source": []
  }
 ],
 "metadata": {
  "kernelspec": {
   "display_name": "Python [conda env:Anaconda3]",
   "language": "python",
   "name": "conda-env-Anaconda3-py"
  },
  "language_info": {
   "codemirror_mode": {
    "name": "ipython",
    "version": 3
   },
   "file_extension": ".py",
   "mimetype": "text/x-python",
   "name": "python",
   "nbconvert_exporter": "python",
   "pygments_lexer": "ipython3",
   "version": "3.6.4"
  }
 },
 "nbformat": 4,
 "nbformat_minor": 2
}
