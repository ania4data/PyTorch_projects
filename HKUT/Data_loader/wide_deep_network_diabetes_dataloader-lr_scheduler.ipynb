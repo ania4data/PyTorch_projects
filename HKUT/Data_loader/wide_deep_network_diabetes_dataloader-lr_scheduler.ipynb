{
 "cells": [
  {
   "cell_type": "code",
   "execution_count": 1,
   "metadata": {},
   "outputs": [],
   "source": [
    "import numpy as np\n",
    "import torch\n",
    "import torch.nn.functional as F\n",
    "import matplotlib.pyplot as plt\n",
    "from torch.autograd import Variable\n",
    "import pandas as pd\n",
    "from torch.utils.data import Dataset,DataLoader\n"
   ]
  },
  {
   "cell_type": "code",
   "execution_count": 2,
   "metadata": {},
   "outputs": [],
   "source": [
    "class diabete_dataset(Dataset):\n",
    "    \n",
    "    def __init__(self):\n",
    "        df=pd.read_csv('diabetes.csv',header=None,sep=',',dtype=np.float32)\n",
    "        self.x_data=Variable(torch.from_numpy(df[[0, 1, 2, 3, 4, 5, 6, 7]].as_matrix()))\n",
    "        self.y_data=Variable(torch.from_numpy(df[[8]].as_matrix()))\n",
    "        self.len=df.shape[0]\n",
    "                      \n",
    "    def __getitem__(self,index):\n",
    "        \n",
    "        return self.x_data[index],self.y_data[index]\n",
    "    \n",
    "    def __len__(self):\n",
    "                       \n",
    "        return self.len"
   ]
  },
  {
   "cell_type": "code",
   "execution_count": 3,
   "metadata": {},
   "outputs": [],
   "source": [
    "dataset_=diabete_dataset()"
   ]
  },
  {
   "cell_type": "code",
   "execution_count": 4,
   "metadata": {},
   "outputs": [],
   "source": [
    "train_loader=DataLoader(dataset=dataset_,batch_size=64,shuffle=True)"
   ]
  },
  {
   "cell_type": "code",
   "execution_count": 5,
   "metadata": {},
   "outputs": [],
   "source": [
    "data,label=next(iter(train_loader))"
   ]
  },
  {
   "cell_type": "code",
   "execution_count": 6,
   "metadata": {},
   "outputs": [
    {
     "data": {
      "text/plain": [
       "torch.Size([64, 8])"
      ]
     },
     "execution_count": 6,
     "metadata": {},
     "output_type": "execute_result"
    }
   ],
   "source": [
    "data.size()"
   ]
  },
  {
   "cell_type": "code",
   "execution_count": 7,
   "metadata": {},
   "outputs": [],
   "source": [
    "class Network(torch.nn.Module):\n",
    "    \n",
    "    def __init__(self):\n",
    "        super(Network,self).__init__()\n",
    "        self.fc1=torch.nn.Linear(8,6)\n",
    "        self.fc2=torch.nn.Linear(6,4)\n",
    "        self.fc3=torch.nn.Linear(4,2)\n",
    "        self.fc4=torch.nn.Linear(2,1)\n",
    "        #self.sigmoid=torch.nn.Sigmoid()\n",
    "        \n",
    "        \n",
    "    def forward(self,x):\n",
    "        \n",
    "        out1=F.relu(self.fc1(x))\n",
    "        out2=F.relu(self.fc2(out1))\n",
    "        out3=F.relu(self.fc3(out2))\n",
    "        out4=F.sigmoid(self.fc4(out3))   #sof max at end, or sigmoid all the way did not work out\n",
    "        y_pred=out4\n",
    "        return y_pred\n",
    "        "
   ]
  },
  {
   "cell_type": "code",
   "execution_count": 8,
   "metadata": {},
   "outputs": [],
   "source": [
    "model=Network()"
   ]
  },
  {
   "cell_type": "code",
   "execution_count": 9,
   "metadata": {},
   "outputs": [],
   "source": [
    "criterion=torch.nn.BCELoss(size_average=True)\n",
    "optimizer=torch.optim.Adam(model.parameters(),lr=0.1)  #had to change from SGD to Adam but later noy much difference\n",
    "lr_scheduler=torch.optim.lr_scheduler.ReduceLROnPlateau(optimizer, 'min')\n"
   ]
  },
  {
   "cell_type": "code",
   "execution_count": 10,
   "metadata": {},
   "outputs": [
    {
     "name": "stdout",
     "output_type": "stream",
     "text": [
      "epoch 0 / 1500 running_loss: tensor(1.00000e-03 *\n",
      "       9.95) Accuracy 65.34914361001317\n",
      "epoch 100 / 1500 running_loss: tensor(1.00000e-03 *\n",
      "       7.16) Accuracy 77.78473499523865\n",
      "epoch 200 / 1500 running_loss: tensor(1.00000e-03 *\n",
      "       7.01) Accuracy 78.08454434022246\n",
      "epoch 300 / 1500 running_loss: tensor(1.00000e-03 *\n",
      "       6.94) Accuracy 78.21972432690329\n",
      "epoch 400 / 1500 running_loss: tensor(1.00000e-03 *\n",
      "       6.83) Accuracy 78.46490493134752\n",
      "epoch 500 / 1500 running_loss: tensor(1.00000e-03 *\n",
      "       6.77) Accuracy 78.60852734583534\n",
      "epoch 600 / 1500 running_loss: tensor(1.00000e-03 *\n",
      "       6.72) Accuracy 78.68944819679103\n",
      "epoch 700 / 1500 running_loss: tensor(1.00000e-03 *\n",
      "       6.69) Accuracy 78.74427460112506\n",
      "epoch 800 / 1500 running_loss: tensor(1.00000e-03 *\n",
      "       6.67) Accuracy 78.78458909235655\n",
      "epoch 900 / 1500 running_loss: tensor(1.00000e-03 *\n",
      "       6.65) Accuracy 78.81463869013935\n",
      "epoch 1000 / 1500 running_loss: tensor(1.00000e-03 *\n",
      "       6.63) Accuracy 78.85447885447886\n",
      "epoch 1100 / 1500 running_loss: tensor(1.00000e-03 *\n",
      "       6.62) Accuracy 78.89725354480716\n",
      "epoch 1200 / 1500 running_loss: tensor(1.00000e-03 *\n",
      "       6.61) Accuracy 78.93027220399338\n",
      "epoch 1300 / 1500 running_loss: tensor(1.00000e-03 *\n",
      "       6.60) Accuracy 78.9590251342081\n",
      "epoch 1400 / 1500 running_loss: tensor(1.00000e-03 *\n",
      "       6.59) Accuracy 78.98395555969338\n"
     ]
    }
   ],
   "source": [
    "torch.set_printoptions(precision=2)\n",
    "epochs=1500\n",
    "loss_running=0\n",
    "count=0\n",
    "count_batch=0\n",
    "sum_acc=0\n",
    "for epoch in range(epochs):\n",
    "\n",
    "    for input,label in iter(train_loader):\n",
    "        \n",
    "        y_pred=model(input)\n",
    "        loss=criterion(y_pred,label)\n",
    "        loss_running=loss_running+loss\n",
    "        optimizer.zero_grad()\n",
    "        loss.backward()\n",
    "        optimizer.step()\n",
    "        count=count+1\n",
    "        y_pred_round=torch.round(y_pred)\n",
    "        count_batch=count_batch+(label.size()[0])\n",
    "  \n",
    "    \n",
    "        acc=(label==y_pred_round).sum().item()    #/label.size()[0]\n",
    "        sum_acc=sum_acc+acc\n",
    "    check_loss=(loss_running/count_batch)\n",
    "    lr_scheduler.step(check_loss)\n",
    "    if(epoch%100==0): print('epoch',epoch,'/',epochs,'running_loss:',(loss_running/count_batch),'Accuracy',(sum_acc*100/count_batch))\n",
    "    \n",
    "    "
   ]
  },
  {
   "cell_type": "code",
   "execution_count": null,
   "metadata": {},
   "outputs": [],
   "source": []
  },
  {
   "cell_type": "code",
   "execution_count": null,
   "metadata": {},
   "outputs": [],
   "source": []
  },
  {
   "cell_type": "code",
   "execution_count": null,
   "metadata": {},
   "outputs": [],
   "source": []
  },
  {
   "cell_type": "code",
   "execution_count": null,
   "metadata": {},
   "outputs": [],
   "source": []
  }
 ],
 "metadata": {
  "kernelspec": {
   "display_name": "Python [conda env:Anaconda3]",
   "language": "python",
   "name": "conda-env-Anaconda3-py"
  },
  "language_info": {
   "codemirror_mode": {
    "name": "ipython",
    "version": 3
   },
   "file_extension": ".py",
   "mimetype": "text/x-python",
   "name": "python",
   "nbconvert_exporter": "python",
   "pygments_lexer": "ipython3",
   "version": "3.6.4"
  }
 },
 "nbformat": 4,
 "nbformat_minor": 2
}
