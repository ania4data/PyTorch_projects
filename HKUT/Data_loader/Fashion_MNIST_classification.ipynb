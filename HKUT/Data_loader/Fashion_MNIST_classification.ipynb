{
 "cells": [
  {
   "cell_type": "code",
   "execution_count": 31,
   "metadata": {},
   "outputs": [],
   "source": [
    "import numpy as np\n",
    "import torch\n",
    "import torchvision\n",
    "from torch.utils.data import DataLoader,Dataset\n",
    "from torchvision import datasets,transforms,utils\n",
    "import matplotlib.pyplot as plt\n",
    "import torch.nn.functional as F\n",
    "\n",
    "transform = transforms.Compose([transforms.ToTensor(),\n",
    "                                transforms.Normalize((0.5, 0.5, 0.5), (0.5, 0.5, 0.5))])\n",
    "\n",
    "trainset=datasets.FashionMNIST('Fashion_MNIST/',transform=transform,download=True)\n",
    "train_loader=DataLoader(trainset,batch_size=64,shuffle=True)\n",
    "\n"
   ]
  },
  {
   "cell_type": "code",
   "execution_count": 32,
   "metadata": {
    "scrolled": true
   },
   "outputs": [
    {
     "name": "stdout",
     "output_type": "stream",
     "text": [
      "torch.Size([64, 1, 28, 28])\n",
      "torch.Size([64])\n"
     ]
    },
    {
     "data": {
      "text/plain": [
       "<matplotlib.image.AxesImage at 0x1b6463c3b70>"
      ]
     },
     "execution_count": 32,
     "metadata": {},
     "output_type": "execute_result"
    },
    {
     "data": {
      "image/png": "[encoded data removed]",
      "text/plain": [
       "<Figure size 432x288 with 1 Axes>"
      ]
     },
     "metadata": {},
     "output_type": "display_data"
    }
   ],
   "source": [
    "image,label=next(iter(train_loader))\n",
    "print(image.size())\n",
    "print(label.size())\n",
    "plt.imshow(image[0][0,:])"
   ]
  },
  {
   "cell_type": "code",
   "execution_count": 33,
   "metadata": {},
   "outputs": [
    {
     "data": {
      "text/plain": [
       "tensor([ 7,  5,  4,  0,  0,  6,  6,  0,  6,  1,  4,  6,  3,  6,\n",
       "         2,  9,  9,  8,  9,  1,  7,  4,  7,  3,  5,  9,  9,  7,\n",
       "         7,  1,  5,  8,  4,  9,  0,  3,  9,  4,  8,  2,  5,  0,\n",
       "         2,  4,  2,  1,  6,  1,  9,  6,  4,  9,  2,  6,  3,  8,\n",
       "         5,  6,  1,  2,  5,  1,  0,  0])"
      ]
     },
     "execution_count": 33,
     "metadata": {},
     "output_type": "execute_result"
    }
   ],
   "source": [
    "label"
   ]
  },
  {
   "cell_type": "code",
   "execution_count": 34,
   "metadata": {},
   "outputs": [],
   "source": [
    "class Network(torch.nn.Module):\n",
    "    \n",
    "    def __init__(self):\n",
    "        super(Network,self).__init__()\n",
    "        self.fc1=torch.nn.Linear(784,400)\n",
    "#        self.dropout1=torch.nn.Dropout(p=0.2)\n",
    "        self.fc2=torch.nn.Linear(400,200)\n",
    "        self.dropout2=torch.nn.Dropout(p=0.2)\n",
    "        self.fc3=torch.nn.Linear(200,100)\n",
    "        self.fc4=torch.nn.Linear(100,100)\n",
    "        self.fc5=torch.nn.Linear(100,10)\n",
    "        #self.sigmoid=torch.nn.Sigmoid()\n",
    "        \n",
    "        \n",
    "    def forward(self,x):\n",
    "        \n",
    "        out1=F.relu(self.fc1(x))\n",
    "#        out1=self.dropout1(out1)\n",
    "        out2=F.relu(self.fc2(out1))\n",
    "        out2=self.dropout2(out2)\n",
    "        out3=F.relu(self.fc3(out2))\n",
    "        out4=F.relu(self.fc4(out3))\n",
    "        out5=self.fc5(out4)   #sof max at end, or sigmoid all the way did not work out\n",
    "        #y_pred=F.softmax(out4,dim=1)   #if don't need probability as out put not necessary output4 is batch_size*10\n",
    "        y_pred=out5\n",
    "        return y_pred\n",
    "\n",
    "model=Network()    \n",
    "    "
   ]
  },
  {
   "cell_type": "code",
   "execution_count": 35,
   "metadata": {},
   "outputs": [],
   "source": [
    "epochs=10\n",
    "criterion=torch.nn.CrossEntropyLoss()  #if increase the lr to 0.1, it kicks to local min and stays\n",
    "optimizer=torch.optim.SGD(model.parameters(),lr=0.01,momentum=0.9)  #had to change from SGD to Adam but later noy much difference\n",
    "lr_scheduler_=torch.optim.lr_scheduler.ReduceLROnPlateau(optimizer, 'min')\n",
    "#lr_scheduler_=torch.optim.lr_scheduler.CosineAnnealingLR(optimizer,T_max=epochs)"
   ]
  },
  {
   "cell_type": "code",
   "execution_count": 36,
   "metadata": {},
   "outputs": [
    {
     "name": "stdout",
     "output_type": "stream",
     "text": [
      "torch.Size([64, 10]) torch.Size([64])\n",
      "epoch 0 / 10 running_loss: 0.025836774557828904 Accuracy 37.2890625\n",
      "epoch 0 / 10 running_loss: 0.018354233403224497 Accuracy 55.47265625\n",
      "epoch 0 / 10 running_loss: 0.015120960665711513 Accuracy 63.598958333333336\n",
      "epoch 0 / 10 running_loss: 0.013374167630099692 Accuracy 67.916015625\n",
      "epoch 1 / 10 running_loss: 0.012128383541557045 Accuracy 70.97142321160581\n",
      "epoch 1 / 10 running_loss: 0.011249220418375375 Accuracy 73.10858691121301\n",
      "epoch 1 / 10 running_loss: 0.01058931996055658 Accuracy 74.76219185423365\n",
      "epoch 1 / 10 running_loss: 0.010094696289046587 Accuracy 75.97393716786496\n",
      "epoch 1 / 10 running_loss: 0.009682048437948705 Accuracy 77.01531675465407\n",
      "epoch 2 / 10 running_loss: 0.009330020049585028 Accuracy 77.89910580290145\n",
      "epoch 2 / 10 running_loss: 0.009016118037885816 Accuracy 78.66786039108686\n",
      "epoch 2 / 10 running_loss: 0.008743771497599265 Accuracy 79.31950812838683\n",
      "epoch 2 / 10 running_loss: 0.008536947855685392 Accuracy 79.83238745671412\n",
      "epoch 2 / 10 running_loss: 0.008332052790605081 Accuracy 80.3233297606288\n",
      "epoch 3 / 10 running_loss: 0.00813140624543046 Accuracy 80.80759129564782\n",
      "epoch 3 / 10 running_loss: 0.007960453489802606 Accuracy 81.21629279349695\n",
      "epoch 3 / 10 running_loss: 0.007804196895939696 Accuracy 81.59895909960277\n",
      "epoch 3 / 10 running_loss: 0.007683125956816583 Accuracy 81.89523412532999\n",
      "epoch 4 / 10 running_loss: 0.007552773949770839 Accuracy 82.21884873617694\n",
      "epoch 4 / 10 running_loss: 0.0074348897559220264 Accuracy 82.5139132066033\n",
      "epoch 4 / 10 running_loss: 0.007318697822274238 Accuracy 82.78942353501668\n",
      "epoch 4 / 10 running_loss: 0.007216195041409483 Accuracy 83.03241530241019\n",
      "epoch 4 / 10 running_loss: 0.007117911822354181 Accuracy 83.2498504784689\n",
      "epoch 5 / 10 running_loss: 0.007023491846410137 Accuracy 83.46599791558103\n",
      "epoch 5 / 10 running_loss: 0.006935242424370081 Accuracy 83.66433216608304\n",
      "epoch 5 / 10 running_loss: 0.006846963933222408 Accuracy 83.87746512746513\n",
      "epoch 5 / 10 running_loss: 0.006776483991278673 Accuracy 84.03282769800833\n",
      "epoch 5 / 10 running_loss: 0.006709630092790632 Accuracy 84.18992853952658\n",
      "epoch 6 / 10 running_loss: 0.006636817823666215 Accuracy 84.36152320165603\n",
      "epoch 6 / 10 running_loss: 0.00656809710363047 Accuracy 84.52351175587793\n",
      "epoch 6 / 10 running_loss: 0.006506089434036388 Accuracy 84.67554865257382\n",
      "epoch 6 / 10 running_loss: 0.006447867837904712 Accuracy 84.80513326559324\n",
      "epoch 7 / 10 running_loss: 0.006392521593534204 Accuracy 84.9396933980141\n",
      "epoch 7 / 10 running_loss: 0.006334032492147852 Accuracy 85.07572831604503\n",
      "epoch 7 / 10 running_loss: 0.006279879588370745 Accuracy 85.20420924748089\n",
      "epoch 7 / 10 running_loss: 0.006226099502596271 Accuracy 85.3392274022094\n",
      "epoch 7 / 10 running_loss: 0.0061768167267207815 Accuracy 85.45131143108227\n",
      "epoch 8 / 10 running_loss: 0.006126483865997525 Accuracy 85.56929634017904\n",
      "epoch 8 / 10 running_loss: 0.006075599426324797 Accuracy 85.68296241662391\n",
      "epoch 8 / 10 running_loss: 0.006028404699569417 Accuracy 85.78957447473736\n",
      "epoch 8 / 10 running_loss: 0.005987224458054225 Accuracy 85.88297645192777\n",
      "epoch 8 / 10 running_loss: 0.005946792544438887 Accuracy 85.97676721057647\n",
      "epoch 9 / 10 running_loss: 0.005903768817389845 Accuracy 86.07247251468792\n",
      "epoch 9 / 10 running_loss: 0.005859918100420551 Accuracy 86.17563668921608\n",
      "epoch 9 / 10 running_loss: 0.005818924818254316 Accuracy 86.26761297315325\n",
      "epoch 9 / 10 running_loss: 0.005782987502066345 Accuracy 86.34641264749062\n"
     ]
    }
   ],
   "source": [
    "#torch.set_printoptions(precision=2)\n",
    "\n",
    "loss_running=0\n",
    "count=0\n",
    "count_batch=0\n",
    "sum_acc=0\n",
    "\n",
    "for epoch in range(epochs):\n",
    "\n",
    "    for input,label in iter(train_loader):\n",
    "        \n",
    "        input.resize_(input.size()[0], 784)\n",
    "        y_pred=model(input)   #this is 64 (bacth_size)*10\n",
    "\n",
    "        if(count==0): print(y_pred.size(),label.size())\n",
    "        loss=criterion(y_pred,label)    #criterion(y_pred,label), crossentropy criterion need long (output of forward) and normal tensor (target)\n",
    "        loss_running=loss_running+loss.item()\n",
    "        optimizer.zero_grad()\n",
    "        loss.backward()\n",
    "        optimizer.step()\n",
    "        count=count+1\n",
    "        #y_pred_round=torch.round(y_pred)\n",
    "        count_batch=count_batch+(label.size()[0])\n",
    "        _,y_pred_=torch.max(y_pred,dim=1)    #argmax is the second value returned by torch.max()  ,this collapse dimension to batch size with argmax of probabililty/value (second) item, first one is the value itself \n",
    "          \n",
    "        acc=(label==y_pred_).sum().item()    #/label.size()[0]\n",
    "        sum_acc=sum_acc+acc\n",
    "        if(count%200==0): print('epoch',epoch,'/',epochs,'running_loss:',(loss_running/count_batch),'Accuracy',(sum_acc*100/count_batch))\n",
    " \n",
    "    check_loss=(loss_running/count_batch)\n",
    "    lr_scheduler_.step(check_loss)\n",
    "   \n",
    "    "
   ]
  },
  {
   "cell_type": "code",
   "execution_count": null,
   "metadata": {},
   "outputs": [],
   "source": []
  },
  {
   "cell_type": "code",
   "execution_count": null,
   "metadata": {},
   "outputs": [],
   "source": []
  }
 ],
 "metadata": {
  "kernelspec": {
   "display_name": "Python [conda env:Anaconda3]",
   "language": "python",
   "name": "conda-env-Anaconda3-py"
  },
  "language_info": {
   "codemirror_mode": {
    "name": "ipython",
    "version": 3
   },
   "file_extension": ".py",
   "mimetype": "text/x-python",
   "name": "python",
   "nbconvert_exporter": "python",
   "pygments_lexer": "ipython3",
   "version": "3.6.4"
  }
 },
 "nbformat": 4,
 "nbformat_minor": 2
}
