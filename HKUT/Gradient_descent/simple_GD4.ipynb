{
 "cells": [
  {
   "cell_type": "code",
   "execution_count": 5,
   "metadata": {},
   "outputs": [],
   "source": [
    "import numpy as np\n",
    "import matplotlib.pyplot as plt\n",
    "\n",
    "import torch\n",
    "from torch.autograd import Variable\n"
   ]
  },
  {
   "cell_type": "code",
   "execution_count": null,
   "metadata": {},
   "outputs": [],
   "source": []
  },
  {
   "cell_type": "code",
   "execution_count": 6,
   "metadata": {},
   "outputs": [
    {
     "name": "stdout",
     "output_type": "stream",
     "text": [
      "epoch   0 / 100  : 21.031780   0.053526 0.136691 0.023157\n",
      "epoch   5 / 100  : 1.013432   0.194452 0.480172 0.088400\n",
      "epoch   10 / 100  : 0.001012   0.243046 0.576216 0.116731\n",
      "epoch   15 / 100  : 0.108837   0.264616 0.600211 0.134155\n",
      "epoch   20 / 100  : 0.169973   0.278195 0.603271 0.148252\n",
      "epoch   25 / 100  : 0.186496   0.289333 0.600291 0.161235\n",
      "epoch   30 / 100  : 0.187660   0.299649 0.595611 0.173751\n",
      "epoch   35 / 100  : 0.184298   0.309616 0.590496 0.185990\n",
      "epoch   40 / 100  : 0.179725   0.319375 0.585312 0.198010\n",
      "epoch   45 / 100  : 0.174908   0.328967 0.580165 0.209830\n",
      "epoch   50 / 100  : 0.170124   0.338406 0.575087 0.221459\n",
      "epoch   55 / 100  : 0.165450   0.347699 0.570084 0.232899\n",
      "epoch   60 / 100  : 0.160905   0.356849 0.565159 0.244155\n",
      "epoch   65 / 100  : 0.156490   0.365858 0.560310 0.255229\n",
      "epoch   70 / 100  : 0.152205   0.374728 0.555536 0.266125\n",
      "epoch   75 / 100  : 0.148046   0.383462 0.550837 0.276846\n",
      "epoch   80 / 100  : 0.144007   0.392061 0.546212 0.287393\n",
      "epoch   85 / 100  : 0.140088   0.400529 0.541658 0.297771\n",
      "epoch   90 / 100  : 0.136282   0.408867 0.537176 0.307980\n",
      "epoch   95 / 100  : 0.132588   0.417077 0.532763 0.318025\n"
     ]
    },
    {
     "data": {
      "image/png": "[encoded data removed]",
      "text/plain": [
       "<Figure size 432x288 with 1 Axes>"
      ]
     },
     "metadata": {},
     "output_type": "display_data"
    },
    {
     "data": {
      "image/png": "[encoded data removed]",
      "text/plain": [
       "<Figure size 432x288 with 1 Axes>"
      ]
     },
     "metadata": {},
     "output_type": "display_data"
    }
   ],
   "source": [
    "w1=Variable(torch.tensor([0.0]),requires_grad=True)  #0.0\n",
    "w2=Variable(torch.tensor([0.0]),requires_grad=True) #0.0\n",
    "b=Variable(torch.tensor([0.0]),requires_grad=True)   #0.0\n",
    "\n",
    "epochs=100\n",
    "lr=0.001 #learning rate\n",
    "x_data=[1.0,2.0,3.0]\n",
    "y_data=[2.0,4.0,6.0]\n",
    "\n",
    "\n",
    "\n",
    "def forward(x):\n",
    "    return (w2*(x**2.0))+(w1*x)+b\n",
    "def loss(x,y):\n",
    "    y_pred=forward(x)\n",
    "    return (y-y_pred)**2.0\n",
    "def gradient_w2(x,y):\n",
    "    return 2.0*(y-forward(x))*(x**2.0)*-1.0\n",
    "def gradient_w1(x,y):\n",
    "    return 2.0*(y-forward(x))*x*-1.0  \n",
    "def gradient_b(x,y):\n",
    "    return 1.0  \n",
    "\n",
    "loss__=torch.tensor([])\n",
    "w__=torch.tensor([])\n",
    "\n",
    "fig= plt.figure()\n",
    "\n",
    "axes= fig.add_axes([0,0,1,1])\n",
    "\n",
    "for epoch in range(epochs):\n",
    "    \n",
    "    for i,(x,y) in enumerate(zip(x_data,y_data)): #some thing like stochstic, not whole vector at once\n",
    "                \n",
    "        loss_=loss(x,y)\n",
    "        loss_.backward()\n",
    "        w2.data=w2.data-lr*w2.grad.data      #gradient_w2(x,y)\n",
    "        w1.data=w1.data-lr*w1.grad.data      #gradient_w1(x,y)\n",
    "        b.data=b.data-lr*b.grad.data        #gradient_b(x,y)   comparing to regular numpy this become negative in run, overall loss convergence similar though\n",
    "        \n",
    "        w2.grad.data.zero_()\n",
    "        w1.grad.data.zero_()\n",
    "        b.grad.data.zero_()\n",
    "        \n",
    "        \n",
    "        \n",
    "        \n",
    "    if (epoch%5==0): print(\"epoch   %d / %d  : %f   %f %f %f\" %(epoch,epochs,loss(x,y),w1.data,w2.data,b.data))\n",
    "    loss__=torch.cat((loss__,loss_),0)\n",
    "    #loss_.append(loss(x,y))\n",
    "    w_mag=torch.sqrt(w1.data**2.0+w2.data**2.0+b.data**2.0)\n",
    "    #w_.append(w_mag)\n",
    "    w__=torch.cat((w__,w_mag),0)\n",
    "    #xx=np.arange(0,6,1)\n",
    "    #yy=(w2*(xx**2.0))+(w1*xx)+b\n",
    "    #axes.plot(xx,yy,linewidth=w_mag/1.0,color='blue')\n",
    "    \n",
    "\n",
    "plt.plot(np.arange(0,epochs,1),w__.detach().numpy())   #need to detach gradient for graph breakdown otherwise won't do numpy in the middle of graph (good for end of run)\n",
    "plt.show()    \n",
    "plt.plot(np.arange(0,epochs,1),loss__.detach().numpy())\n",
    "plt.show()\n",
    "    \n",
    "  "
   ]
  },
  {
   "cell_type": "code",
   "execution_count": 53,
   "metadata": {},
   "outputs": [
    {
     "data": {
      "text/plain": [
       "0"
      ]
     },
     "execution_count": 53,
     "metadata": {},
     "output_type": "execute_result"
    }
   ],
   "source": [
    "10%5"
   ]
  },
  {
   "cell_type": "code",
   "execution_count": null,
   "metadata": {},
   "outputs": [],
   "source": []
  }
 ],
 "metadata": {
  "kernelspec": {
   "display_name": "Python [conda env:Anaconda3]",
   "language": "python",
   "name": "conda-env-Anaconda3-py"
  },
  "language_info": {
   "codemirror_mode": {
    "name": "ipython",
    "version": 3
   },
   "file_extension": ".py",
   "mimetype": "text/x-python",
   "name": "python",
   "nbconvert_exporter": "python",
   "pygments_lexer": "ipython3",
   "version": "3.6.4"
  }
 },
 "nbformat": 4,
 "nbformat_minor": 2
}
