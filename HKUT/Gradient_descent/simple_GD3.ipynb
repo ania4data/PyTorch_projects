{
 "cells": [
  {
   "cell_type": "code",
   "execution_count": 32,
   "metadata": {},
   "outputs": [],
   "source": [
    "import numpy as np\n",
    "import matplotlib.pyplot as plt\n",
    "import torch\n",
    "from torch.autograd import Variable\n"
   ]
  },
  {
   "cell_type": "code",
   "execution_count": 46,
   "metadata": {},
   "outputs": [],
   "source": []
  },
  {
   "cell_type": "code",
   "execution_count": 76,
   "metadata": {},
   "outputs": [
    {
     "name": "stdout",
     "output_type": "stream",
     "text": [
      "epoch   0 / 100  : 34.025921   0.055609\n",
      "epoch   5 / 100  : 25.665331   0.311301\n",
      "epoch   10 / 100  : 19.359049   0.533369\n",
      "epoch   15 / 100  : 14.602288   0.726235\n",
      "epoch   20 / 100  : 11.014324   0.893739\n",
      "epoch   25 / 100  : 8.307969   1.039215\n",
      "epoch   30 / 100  : 6.266597   1.165561\n",
      "epoch   35 / 100  : 4.726818   1.275292\n",
      "epoch   40 / 100  : 3.565378   1.370593\n",
      "epoch   45 / 100  : 2.689321   1.453362\n",
      "epoch   50 / 100  : 2.028522   1.525246\n",
      "epoch   55 / 100  : 1.530090   1.587677\n",
      "epoch   60 / 100  : 1.154128   1.641899\n",
      "epoch   65 / 100  : 0.870544   1.688990\n",
      "epoch   70 / 100  : 0.656640   1.729889\n",
      "epoch   75 / 100  : 0.495295   1.765409\n",
      "epoch   80 / 100  : 0.373595   1.796259\n",
      "epoch   85 / 100  : 0.281798   1.823051\n",
      "epoch   90 / 100  : 0.212556   1.846321\n",
      "epoch   95 / 100  : 0.160329   1.866530\n"
     ]
    },
    {
     "data": {
      "image/png": "[encoded data removed]",
      "text/plain": [
       "<Figure size 432x288 with 1 Axes>"
      ]
     },
     "metadata": {},
     "output_type": "display_data"
    },
    {
     "data": {
      "image/png": "[encoded data removed]",
      "text/plain": [
       "<Figure size 432x288 with 1 Axes>"
      ]
     },
     "metadata": {},
     "output_type": "display_data"
    }
   ],
   "source": [
    "#w=0.0\n",
    "w=Variable(torch.tensor([0.0]),requires_grad=True)\n",
    "epochs=100\n",
    "lr=0.001 #learning rate\n",
    "x_data=[1.0,2.0,3.0]\n",
    "y_data=[2.0,4.0,6.0]\n",
    "\n",
    "\n",
    "def forward(x):  # all function that have w (Variable) create computation graph\n",
    "    return w*x\n",
    "def loss(x,y):\n",
    "    y_pred=forward(x)\n",
    "    return (y-y_pred)**2.0\n",
    "def gradient(x,y):\n",
    "    return 2.0*(y-forward(x))*x*-1.0   #this will be replaced with backward\n",
    "    \n",
    "\n",
    "loss__=torch.tensor([])   #[]\n",
    "w__=torch.tensor([])   #[]\n",
    "\n",
    "fig= plt.figure()\n",
    "\n",
    "axes= fig.add_axes([0,0,1,1])\n",
    "\n",
    "for epoch in range(epochs):\n",
    "    \n",
    "    for i,(x,y) in enumerate(zip(x_data,y_data)): #some thing like stochstic, not whole vector at once\n",
    "        \n",
    "        loss_=loss(x,y)\n",
    "        loss_.backward()                 #this will calculate gradient of all Varibles wih grad on\n",
    "        w.data=w.data-lr*w.grad.data\n",
    "        #w=w-lr*gradient(x,y)\n",
    "        w.grad.data.zero_()             #initialize gradients to zero other wise accumulate RNN (if umcooment sinusoidal)\n",
    "    if (epoch%5==0): print(\"epoch   %d / %d  : %f   %f\" %(epoch,epochs,loss(x,y),w.data))\n",
    "    \n",
    "   # print(w.data) w and w/o [0] just similar array or element here\n",
    "   # print(w.data[0])\n",
    "   # print(loss_.data)\n",
    "   # print(loss_)\n",
    "    loss__=torch.cat((loss__,loss_),0)\n",
    "    w__=torch.cat((w__,w.data),0)\n",
    "    #torch.cat((w.data[0]))\n",
    "#     w_.append(w)\n",
    "    #xx=np.arange(0,6,1)\n",
    "    #yy=xx*w\n",
    "    #axes.plot(xx,yy,linewidth=w/1.0,color='blue')\n",
    "    \n",
    "\n",
    "plt.plot(np.arange(0,epochs,1),w__.detach().numpy())   #need to detach gradient for graph breakdown otherwise won't do numpy in the middle of graph (good for end of run)\n",
    "plt.show()    \n",
    "plt.plot(np.arange(0,epochs,1),loss__.detach().numpy())\n",
    "plt.show()\n",
    "    \n",
    "    \n",
    "    \n",
    "    \n",
    "    \n",
    "    \n",
    "    \n",
    "    \n",
    "    \n",
    "    "
   ]
  },
  {
   "cell_type": "code",
   "execution_count": 53,
   "metadata": {},
   "outputs": [
    {
     "data": {
      "text/plain": [
       "0"
      ]
     },
     "execution_count": 53,
     "metadata": {},
     "output_type": "execute_result"
    }
   ],
   "source": [
    "10%5"
   ]
  },
  {
   "cell_type": "code",
   "execution_count": null,
   "metadata": {},
   "outputs": [],
   "source": []
  }
 ],
 "metadata": {
  "kernelspec": {
   "display_name": "Python [conda env:Anaconda3]",
   "language": "python",
   "name": "conda-env-Anaconda3-py"
  },
  "language_info": {
   "codemirror_mode": {
    "name": "ipython",
    "version": 3
   },
   "file_extension": ".py",
   "mimetype": "text/x-python",
   "name": "python",
   "nbconvert_exporter": "python",
   "pygments_lexer": "ipython3",
   "version": "3.6.4"
  }
 },
 "nbformat": 4,
 "nbformat_minor": 2
}
