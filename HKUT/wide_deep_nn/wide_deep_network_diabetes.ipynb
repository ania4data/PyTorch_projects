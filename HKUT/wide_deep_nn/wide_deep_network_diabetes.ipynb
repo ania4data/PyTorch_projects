{
 "cells": [
  {
   "cell_type": "code",
   "execution_count": 553,
   "metadata": {},
   "outputs": [],
   "source": [
    "import numpy as np\n",
    "import torch\n",
    "import torch.nn.functional as F\n",
    "import matplotlib.pyplot as plt\n",
    "from torch.autograd import Variable\n",
    "import pandas as pd\n"
   ]
  },
  {
   "cell_type": "code",
   "execution_count": 554,
   "metadata": {},
   "outputs": [],
   "source": [
    "df=pd.read_csv('diabetes.csv',header=None,sep=',',dtype=np.float32)"
   ]
  },
  {
   "cell_type": "code",
   "execution_count": 555,
   "metadata": {
    "scrolled": true
   },
   "outputs": [
    {
     "data": {
      "text/html": [
       "<div>\n",
       "<style scoped>\n",
       "    .dataframe tbody tr th:only-of-type {\n",
       "        vertical-align: middle;\n",
       "    }\n",
       "\n",
       "    .dataframe tbody tr th {\n",
       "        vertical-align: top;\n",
       "    }\n",
       "\n",
       "    .dataframe thead th {\n",
       "        text-align: right;\n",
       "    }\n",
       "</style>\n",
       "<table border=\"1\" class=\"dataframe\">\n",
       "  <thead>\n",
       "    <tr style=\"text-align: right;\">\n",
       "      <th></th>\n",
       "      <th>0</th>\n",
       "      <th>1</th>\n",
       "      <th>2</th>\n",
       "      <th>3</th>\n",
       "      <th>4</th>\n",
       "      <th>5</th>\n",
       "      <th>6</th>\n",
       "      <th>7</th>\n",
       "      <th>8</th>\n",
       "    </tr>\n",
       "  </thead>\n",
       "  <tbody>\n",
       "    <tr>\n",
       "      <th>0</th>\n",
       "      <td>-0.294118</td>\n",
       "      <td>0.487437</td>\n",
       "      <td>0.180328</td>\n",
       "      <td>-0.292929</td>\n",
       "      <td>0.000000</td>\n",
       "      <td>0.001490</td>\n",
       "      <td>-0.531170</td>\n",
       "      <td>-0.033333</td>\n",
       "      <td>0.0</td>\n",
       "    </tr>\n",
       "    <tr>\n",
       "      <th>1</th>\n",
       "      <td>-0.882353</td>\n",
       "      <td>-0.145729</td>\n",
       "      <td>0.081967</td>\n",
       "      <td>-0.414141</td>\n",
       "      <td>0.000000</td>\n",
       "      <td>-0.207153</td>\n",
       "      <td>-0.766866</td>\n",
       "      <td>-0.666667</td>\n",
       "      <td>1.0</td>\n",
       "    </tr>\n",
       "    <tr>\n",
       "      <th>2</th>\n",
       "      <td>-0.058823</td>\n",
       "      <td>0.839196</td>\n",
       "      <td>0.049180</td>\n",
       "      <td>0.000000</td>\n",
       "      <td>0.000000</td>\n",
       "      <td>-0.305514</td>\n",
       "      <td>-0.492741</td>\n",
       "      <td>-0.633333</td>\n",
       "      <td>0.0</td>\n",
       "    </tr>\n",
       "    <tr>\n",
       "      <th>3</th>\n",
       "      <td>-0.882353</td>\n",
       "      <td>-0.105528</td>\n",
       "      <td>0.081967</td>\n",
       "      <td>-0.535354</td>\n",
       "      <td>-0.777778</td>\n",
       "      <td>-0.162444</td>\n",
       "      <td>-0.923997</td>\n",
       "      <td>0.000000</td>\n",
       "      <td>1.0</td>\n",
       "    </tr>\n",
       "    <tr>\n",
       "      <th>4</th>\n",
       "      <td>0.000000</td>\n",
       "      <td>0.376884</td>\n",
       "      <td>-0.344262</td>\n",
       "      <td>-0.292929</td>\n",
       "      <td>-0.602837</td>\n",
       "      <td>0.284650</td>\n",
       "      <td>0.887276</td>\n",
       "      <td>-0.600000</td>\n",
       "      <td>0.0</td>\n",
       "    </tr>\n",
       "    <tr>\n",
       "      <th>5</th>\n",
       "      <td>-0.411765</td>\n",
       "      <td>0.165829</td>\n",
       "      <td>0.213115</td>\n",
       "      <td>0.000000</td>\n",
       "      <td>0.000000</td>\n",
       "      <td>-0.236960</td>\n",
       "      <td>-0.894962</td>\n",
       "      <td>-0.700000</td>\n",
       "      <td>1.0</td>\n",
       "    </tr>\n",
       "    <tr>\n",
       "      <th>6</th>\n",
       "      <td>-0.647059</td>\n",
       "      <td>-0.216080</td>\n",
       "      <td>-0.180328</td>\n",
       "      <td>-0.353535</td>\n",
       "      <td>-0.791962</td>\n",
       "      <td>-0.076006</td>\n",
       "      <td>-0.854825</td>\n",
       "      <td>-0.833333</td>\n",
       "      <td>0.0</td>\n",
       "    </tr>\n",
       "    <tr>\n",
       "      <th>7</th>\n",
       "      <td>0.176471</td>\n",
       "      <td>0.155779</td>\n",
       "      <td>0.000000</td>\n",
       "      <td>0.000000</td>\n",
       "      <td>0.000000</td>\n",
       "      <td>0.052161</td>\n",
       "      <td>-0.952178</td>\n",
       "      <td>-0.733333</td>\n",
       "      <td>1.0</td>\n",
       "    </tr>\n",
       "    <tr>\n",
       "      <th>8</th>\n",
       "      <td>-0.764706</td>\n",
       "      <td>0.979899</td>\n",
       "      <td>0.147541</td>\n",
       "      <td>-0.090909</td>\n",
       "      <td>0.283688</td>\n",
       "      <td>-0.090909</td>\n",
       "      <td>-0.931682</td>\n",
       "      <td>0.066667</td>\n",
       "      <td>0.0</td>\n",
       "    </tr>\n",
       "    <tr>\n",
       "      <th>9</th>\n",
       "      <td>-0.058823</td>\n",
       "      <td>0.256281</td>\n",
       "      <td>0.573770</td>\n",
       "      <td>0.000000</td>\n",
       "      <td>0.000000</td>\n",
       "      <td>0.000000</td>\n",
       "      <td>-0.868488</td>\n",
       "      <td>0.100000</td>\n",
       "      <td>0.0</td>\n",
       "    </tr>\n",
       "  </tbody>\n",
       "</table>\n",
       "</div>"
      ],
      "text/plain": [
       "          0         1         2         3         4         5         6  \\\n",
       "0 -0.294118  0.487437  0.180328 -0.292929  0.000000  0.001490 -0.531170   \n",
       "1 -0.882353 -0.145729  0.081967 -0.414141  0.000000 -0.207153 -0.766866   \n",
       "2 -0.058823  0.839196  0.049180  0.000000  0.000000 -0.305514 -0.492741   \n",
       "3 -0.882353 -0.105528  0.081967 -0.535354 -0.777778 -0.162444 -0.923997   \n",
       "4  0.000000  0.376884 -0.344262 -0.292929 -0.602837  0.284650  0.887276   \n",
       "5 -0.411765  0.165829  0.213115  0.000000  0.000000 -0.236960 -0.894962   \n",
       "6 -0.647059 -0.216080 -0.180328 -0.353535 -0.791962 -0.076006 -0.854825   \n",
       "7  0.176471  0.155779  0.000000  0.000000  0.000000  0.052161 -0.952178   \n",
       "8 -0.764706  0.979899  0.147541 -0.090909  0.283688 -0.090909 -0.931682   \n",
       "9 -0.058823  0.256281  0.573770  0.000000  0.000000  0.000000 -0.868488   \n",
       "\n",
       "          7    8  \n",
       "0 -0.033333  0.0  \n",
       "1 -0.666667  1.0  \n",
       "2 -0.633333  0.0  \n",
       "3  0.000000  1.0  \n",
       "4 -0.600000  0.0  \n",
       "5 -0.700000  1.0  \n",
       "6 -0.833333  0.0  \n",
       "7 -0.733333  1.0  \n",
       "8  0.066667  0.0  \n",
       "9  0.100000  0.0  "
      ]
     },
     "execution_count": 555,
     "metadata": {},
     "output_type": "execute_result"
    }
   ],
   "source": [
    "df.head(10)"
   ]
  },
  {
   "cell_type": "code",
   "execution_count": 556,
   "metadata": {},
   "outputs": [
    {
     "data": {
      "text/plain": [
       "Int64Index([0, 1, 2, 3, 4, 5, 6, 7, 8], dtype='int64')"
      ]
     },
     "execution_count": 556,
     "metadata": {},
     "output_type": "execute_result"
    }
   ],
   "source": [
    "df.columns"
   ]
  },
  {
   "cell_type": "code",
   "execution_count": 557,
   "metadata": {},
   "outputs": [],
   "source": [
    "x_data=Variable(torch.from_numpy(df[[0, 1, 2, 3, 4, 5, 6, 7]].as_matrix()))"
   ]
  },
  {
   "cell_type": "code",
   "execution_count": 558,
   "metadata": {},
   "outputs": [],
   "source": [
    "y_data=Variable(torch.from_numpy(df[[8]].as_matrix()))"
   ]
  },
  {
   "cell_type": "code",
   "execution_count": 559,
   "metadata": {},
   "outputs": [
    {
     "data": {
      "text/plain": [
       "torch.Size([759, 8])"
      ]
     },
     "execution_count": 559,
     "metadata": {},
     "output_type": "execute_result"
    }
   ],
   "source": [
    "x_data.size()"
   ]
  },
  {
   "cell_type": "code",
   "execution_count": 560,
   "metadata": {},
   "outputs": [
    {
     "data": {
      "text/plain": [
       "torch.Size([759, 1])"
      ]
     },
     "execution_count": 560,
     "metadata": {},
     "output_type": "execute_result"
    }
   ],
   "source": [
    "y_data.size()"
   ]
  },
  {
   "cell_type": "code",
   "execution_count": 561,
   "metadata": {},
   "outputs": [],
   "source": [
    "class Network(torch.nn.Module):\n",
    "    \n",
    "    def __init__(self):\n",
    "        super(Network,self).__init__()\n",
    "        self.fc1=torch.nn.Linear(8,6)\n",
    "        self.fc2=torch.nn.Linear(6,4)\n",
    "        self.fc3=torch.nn.Linear(4,2)\n",
    "        self.fc4=torch.nn.Linear(2,1)\n",
    "        #self.sigmoid=torch.nn.Sigmoid()\n",
    "        \n",
    "        \n",
    "    def forward(self,x):\n",
    "        \n",
    "        out1=F.relu(self.fc1(x))\n",
    "        out2=F.relu(self.fc2(out1))\n",
    "        out3=F.relu(self.fc3(out2))\n",
    "        out4=F.sigmoid(self.fc4(out3))   #sof max at end, or sigmoid all the way did not work out\n",
    "        y_pred=out4\n",
    "        return y_pred\n",
    "        "
   ]
  },
  {
   "cell_type": "code",
   "execution_count": 562,
   "metadata": {},
   "outputs": [],
   "source": [
    "model=Network()"
   ]
  },
  {
   "cell_type": "code",
   "execution_count": 563,
   "metadata": {},
   "outputs": [],
   "source": [
    "criterion=torch.nn.BCELoss(size_average=True)\n",
    "optimizer=torch.optim.Adam(model.parameters(),lr=0.001)  #had to change from SGD to Adam but later noy much difference"
   ]
  },
  {
   "cell_type": "code",
   "execution_count": 564,
   "metadata": {},
   "outputs": [
    {
     "name": "stdout",
     "output_type": "stream",
     "text": [
      "epoch 0 / 10000 loss: tensor(0.6450) Accuracy 0.6534914361001317\n",
      "epoch 100 / 10000 loss: tensor(0.6240) Accuracy 0.6534914361001317\n",
      "epoch 200 / 10000 loss: tensor(0.5633) Accuracy 0.6534914361001317\n",
      "epoch 300 / 10000 loss: tensor(0.5170) Accuracy 0.6534914361001317\n",
      "epoch 400 / 10000 loss: tensor(0.4962) Accuracy 0.7733860342555995\n",
      "epoch 500 / 10000 loss: tensor(0.4861) Accuracy 0.7720685111989459\n",
      "epoch 600 / 10000 loss: tensor(0.4797) Accuracy 0.766798418972332\n",
      "epoch 700 / 10000 loss: tensor(0.4754) Accuracy 0.7681159420289855\n",
      "epoch 800 / 10000 loss: tensor(0.4723) Accuracy 0.764163372859025\n",
      "epoch 900 / 10000 loss: tensor(0.4698) Accuracy 0.766798418972332\n",
      "epoch 1000 / 10000 loss: tensor(0.4677) Accuracy 0.7628458498023716\n",
      "epoch 1100 / 10000 loss: tensor(0.4660) Accuracy 0.7707509881422925\n",
      "epoch 1200 / 10000 loss: tensor(0.4643) Accuracy 0.7760210803689065\n",
      "epoch 1300 / 10000 loss: tensor(0.4632) Accuracy 0.7720685111989459\n",
      "epoch 1400 / 10000 loss: tensor(0.4623) Accuracy 0.7747035573122529\n",
      "epoch 1500 / 10000 loss: tensor(0.4617) Accuracy 0.7707509881422925\n",
      "epoch 1600 / 10000 loss: tensor(0.4612) Accuracy 0.7681159420289855\n",
      "epoch 1700 / 10000 loss: tensor(0.4609) Accuracy 0.7654808959156785\n",
      "epoch 1800 / 10000 loss: tensor(0.4606) Accuracy 0.7654808959156785\n",
      "epoch 1900 / 10000 loss: tensor(0.4603) Accuracy 0.769433465085639\n",
      "epoch 2000 / 10000 loss: tensor(0.4602) Accuracy 0.766798418972332\n",
      "epoch 2100 / 10000 loss: tensor(0.4593) Accuracy 0.7681159420289855\n",
      "epoch 2200 / 10000 loss: tensor(0.4586) Accuracy 0.766798418972332\n",
      "epoch 2300 / 10000 loss: tensor(0.4575) Accuracy 0.7720685111989459\n",
      "epoch 2400 / 10000 loss: tensor(0.4571) Accuracy 0.7747035573122529\n",
      "epoch 2500 / 10000 loss: tensor(0.4566) Accuracy 0.7747035573122529\n",
      "epoch 2600 / 10000 loss: tensor(0.4555) Accuracy 0.7760210803689065\n",
      "epoch 2700 / 10000 loss: tensor(0.4550) Accuracy 0.769433465085639\n",
      "epoch 2800 / 10000 loss: tensor(0.4548) Accuracy 0.7707509881422925\n",
      "epoch 2900 / 10000 loss: tensor(0.4545) Accuracy 0.7707509881422925\n",
      "epoch 3000 / 10000 loss: tensor(0.4535) Accuracy 0.7733860342555995\n",
      "epoch 3100 / 10000 loss: tensor(0.4533) Accuracy 0.7747035573122529\n",
      "epoch 3200 / 10000 loss: tensor(0.4532) Accuracy 0.7733860342555995\n",
      "epoch 3300 / 10000 loss: tensor(0.4531) Accuracy 0.7720685111989459\n",
      "epoch 3400 / 10000 loss: tensor(0.4531) Accuracy 0.7733860342555995\n",
      "epoch 3500 / 10000 loss: tensor(0.4524) Accuracy 0.7681159420289855\n",
      "epoch 3600 / 10000 loss: tensor(0.4523) Accuracy 0.7707509881422925\n",
      "epoch 3700 / 10000 loss: tensor(0.4522) Accuracy 0.7707509881422925\n",
      "epoch 3800 / 10000 loss: tensor(0.4521) Accuracy 0.7733860342555995\n",
      "epoch 3900 / 10000 loss: tensor(0.4518) Accuracy 0.7720685111989459\n",
      "epoch 4000 / 10000 loss: tensor(0.4492) Accuracy 0.7747035573122529\n",
      "epoch 4100 / 10000 loss: tensor(0.4489) Accuracy 0.7733860342555995\n",
      "epoch 4200 / 10000 loss: tensor(0.4485) Accuracy 0.7760210803689065\n",
      "epoch 4300 / 10000 loss: tensor(0.4483) Accuracy 0.7760210803689065\n",
      "epoch 4400 / 10000 loss: tensor(0.4481) Accuracy 0.7773386034255599\n",
      "epoch 4500 / 10000 loss: tensor(0.4479) Accuracy 0.7786561264822134\n",
      "epoch 4600 / 10000 loss: tensor(0.4478) Accuracy 0.7773386034255599\n",
      "epoch 4700 / 10000 loss: tensor(0.4476) Accuracy 0.7773386034255599\n",
      "epoch 4800 / 10000 loss: tensor(0.4470) Accuracy 0.7773386034255599\n",
      "epoch 4900 / 10000 loss: tensor(0.4467) Accuracy 0.782608695652174\n",
      "epoch 5000 / 10000 loss: tensor(0.4465) Accuracy 0.7852437417654808\n",
      "epoch 5100 / 10000 loss: tensor(0.4449) Accuracy 0.7878787878787878\n",
      "epoch 5200 / 10000 loss: tensor(0.4422) Accuracy 0.7931488801054019\n",
      "epoch 5300 / 10000 loss: tensor(0.4410) Accuracy 0.7931488801054019\n",
      "epoch 5400 / 10000 loss: tensor(0.4404) Accuracy 0.7931488801054019\n",
      "epoch 5500 / 10000 loss: tensor(0.4400) Accuracy 0.7931488801054019\n",
      "epoch 5600 / 10000 loss: tensor(0.4398) Accuracy 0.7918313570487484\n",
      "epoch 5700 / 10000 loss: tensor(0.4396) Accuracy 0.7944664031620553\n",
      "epoch 5800 / 10000 loss: tensor(0.4378) Accuracy 0.7944664031620553\n",
      "epoch 5900 / 10000 loss: tensor(0.4348) Accuracy 0.7971014492753623\n",
      "epoch 6000 / 10000 loss: tensor(0.4323) Accuracy 0.7984189723320159\n",
      "epoch 6100 / 10000 loss: tensor(0.4314) Accuracy 0.7971014492753623\n",
      "epoch 6200 / 10000 loss: tensor(0.4310) Accuracy 0.7971014492753623\n",
      "epoch 6300 / 10000 loss: tensor(0.4308) Accuracy 0.7997364953886693\n",
      "epoch 6400 / 10000 loss: tensor(0.4307) Accuracy 0.7984189723320159\n",
      "epoch 6500 / 10000 loss: tensor(0.4305) Accuracy 0.7984189723320159\n",
      "epoch 6600 / 10000 loss: tensor(0.4305) Accuracy 0.7997364953886693\n",
      "epoch 6700 / 10000 loss: tensor(0.4304) Accuracy 0.7997364953886693\n",
      "epoch 6800 / 10000 loss: tensor(0.4303) Accuracy 0.7984189723320159\n",
      "epoch 6900 / 10000 loss: tensor(0.4302) Accuracy 0.7997364953886693\n",
      "epoch 7000 / 10000 loss: tensor(0.4301) Accuracy 0.7997364953886693\n",
      "epoch 7100 / 10000 loss: tensor(0.4301) Accuracy 0.7997364953886693\n",
      "epoch 7200 / 10000 loss: tensor(0.4300) Accuracy 0.7984189723320159\n",
      "epoch 7300 / 10000 loss: tensor(0.4300) Accuracy 0.7997364953886693\n",
      "epoch 7400 / 10000 loss: tensor(0.4299) Accuracy 0.7997364953886693\n",
      "epoch 7500 / 10000 loss: tensor(0.4299) Accuracy 0.7984189723320159\n",
      "epoch 7600 / 10000 loss: tensor(0.4298) Accuracy 0.7997364953886693\n",
      "epoch 7700 / 10000 loss: tensor(0.4298) Accuracy 0.7997364953886693\n",
      "epoch 7800 / 10000 loss: tensor(0.4298) Accuracy 0.7984189723320159\n",
      "epoch 7900 / 10000 loss: tensor(0.4297) Accuracy 0.7997364953886693\n",
      "epoch 8000 / 10000 loss: tensor(0.4297) Accuracy 0.7984189723320159\n",
      "epoch 8100 / 10000 loss: tensor(0.4297) Accuracy 0.7984189723320159\n",
      "epoch 8200 / 10000 loss: tensor(0.4296) Accuracy 0.7997364953886693\n",
      "epoch 8300 / 10000 loss: tensor(0.4296) Accuracy 0.7997364953886693\n",
      "epoch 8400 / 10000 loss: tensor(0.4296) Accuracy 0.7997364953886693\n",
      "epoch 8500 / 10000 loss: tensor(0.4295) Accuracy 0.7997364953886693\n",
      "epoch 8600 / 10000 loss: tensor(0.4295) Accuracy 0.7984189723320159\n",
      "epoch 8700 / 10000 loss: tensor(0.4295) Accuracy 0.8010540184453228\n",
      "epoch 8800 / 10000 loss: tensor(0.4294) Accuracy 0.7997364953886693\n",
      "epoch 8900 / 10000 loss: tensor(0.4294) Accuracy 0.8010540184453228\n",
      "epoch 9000 / 10000 loss: tensor(0.4294) Accuracy 0.8010540184453228\n",
      "epoch 9100 / 10000 loss: tensor(0.4294) Accuracy 0.7997364953886693\n",
      "epoch 9200 / 10000 loss: tensor(0.4293) Accuracy 0.7997364953886693\n",
      "epoch 9300 / 10000 loss: tensor(0.4293) Accuracy 0.8010540184453228\n",
      "epoch 9400 / 10000 loss: tensor(0.4293) Accuracy 0.7997364953886693\n",
      "epoch 9500 / 10000 loss: tensor(0.4293) Accuracy 0.7997364953886693\n",
      "epoch 9600 / 10000 loss: tensor(0.4293) Accuracy 0.8010540184453228\n",
      "epoch 9700 / 10000 loss: tensor(0.4293) Accuracy 0.7997364953886693\n",
      "epoch 9800 / 10000 loss: tensor(0.4292) Accuracy 0.7997364953886693\n",
      "epoch 9900 / 10000 loss: tensor(0.4292) Accuracy 0.7997364953886693\n"
     ]
    }
   ],
   "source": [
    "epochs=10000\n",
    "\n",
    "for epoch in range(epochs):\n",
    "    \n",
    "    y_pred=model(x_data)\n",
    "    loss=criterion(y_pred,y_data)\n",
    "    \n",
    "    optimizer.zero_grad()\n",
    "    loss.backward()\n",
    "    optimizer.step()\n",
    "    y_pred_round=torch.round(y_pred)\n",
    "    #mean_acc=torch.mean(y_data==y_pred_round)\n",
    "    mean_acc=(y_data==y_pred_round).sum().item()/y_data.size()[0]\n",
    "    if (epoch%100==0): print('epoch',epoch,'/',epochs,'loss:',loss,'Accuracy',mean_acc)\n",
    "    \n",
    "    "
   ]
  },
  {
   "cell_type": "code",
   "execution_count": 565,
   "metadata": {},
   "outputs": [
    {
     "data": {
      "text/plain": [
       "tensor([[ 0.1467],\n",
       "        [ 0.9726],\n",
       "        [ 0.1467],\n",
       "        [ 0.9624],\n",
       "        [ 0.1467],\n",
       "        [ 0.8351],\n",
       "        [ 0.9624],\n",
       "        [ 0.6172],\n",
       "        [ 0.1467],\n",
       "        [ 0.5385]])"
      ]
     },
     "execution_count": 565,
     "metadata": {},
     "output_type": "execute_result"
    }
   ],
   "source": [
    "y_pred[0:10]"
   ]
  },
  {
   "cell_type": "code",
   "execution_count": 566,
   "metadata": {},
   "outputs": [
    {
     "data": {
      "text/plain": [
       "tensor([[ 0.],\n",
       "        [ 1.],\n",
       "        [ 0.],\n",
       "        [ 1.],\n",
       "        [ 0.],\n",
       "        [ 1.],\n",
       "        [ 1.],\n",
       "        [ 1.],\n",
       "        [ 0.],\n",
       "        [ 1.]])"
      ]
     },
     "execution_count": 566,
     "metadata": {},
     "output_type": "execute_result"
    }
   ],
   "source": [
    "y_pred_round[0:10]"
   ]
  },
  {
   "cell_type": "code",
   "execution_count": null,
   "metadata": {},
   "outputs": [],
   "source": []
  },
  {
   "cell_type": "code",
   "execution_count": null,
   "metadata": {},
   "outputs": [],
   "source": []
  }
 ],
 "metadata": {
  "kernelspec": {
   "display_name": "Python [conda env:Anaconda3]",
   "language": "python",
   "name": "conda-env-Anaconda3-py"
  },
  "language_info": {
   "codemirror_mode": {
    "name": "ipython",
    "version": 3
   },
   "file_extension": ".py",
   "mimetype": "text/x-python",
   "name": "python",
   "nbconvert_exporter": "python",
   "pygments_lexer": "ipython3",
   "version": "3.6.4"
  }
 },
 "nbformat": 4,
 "nbformat_minor": 2
}
